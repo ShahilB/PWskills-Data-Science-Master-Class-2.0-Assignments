{
 "cells": [
  {
   "cell_type": "markdown",
   "id": "dca0385a-fdc3-463d-a466-ab6f4556782f",
   "metadata": {},
   "source": [
    "# Assignment_13 (Pandas_2)\n"
   ]
  },
  {
   "cell_type": "markdown",
   "id": "b3861e6b-c4ca-4a87-a69e-5df885dc2729",
   "metadata": {},
   "source": [
    "## Q1. List any five functions of the pandas library with execution."
   ]
  },
  {
   "cell_type": "markdown",
   "id": "f87525ff-8da1-4f1d-8b1b-bf5596a2f058",
   "metadata": {},
   "source": [
    "Pandas is a powerful data manipulation and analysis library for Python, offering a wide range of functions. Here are five commonly used functions, along with examples of their usage:\n",
    "\n",
    "### 1. `read_csv()`\n",
    "Reads a CSV file into a DataFrame."
   ]
  },
  {
   "cell_type": "code",
   "execution_count": 2,
   "id": "f608b406-7b06-4879-9f97-f82faaa85283",
   "metadata": {},
   "outputs": [
    {
     "data": {
      "text/html": [
       "<div>\n",
       "<style scoped>\n",
       "    .dataframe tbody tr th:only-of-type {\n",
       "        vertical-align: middle;\n",
       "    }\n",
       "\n",
       "    .dataframe tbody tr th {\n",
       "        vertical-align: top;\n",
       "    }\n",
       "\n",
       "    .dataframe thead th {\n",
       "        text-align: right;\n",
       "    }\n",
       "</style>\n",
       "<table border=\"1\" class=\"dataframe\">\n",
       "  <thead>\n",
       "    <tr style=\"text-align: right;\">\n",
       "      <th></th>\n",
       "      <th>Name</th>\n",
       "      <th>Age</th>\n",
       "      <th>City</th>\n",
       "    </tr>\n",
       "  </thead>\n",
       "  <tbody>\n",
       "    <tr>\n",
       "      <th>0</th>\n",
       "      <td>Alice</td>\n",
       "      <td>30</td>\n",
       "      <td>New York</td>\n",
       "    </tr>\n",
       "    <tr>\n",
       "      <th>1</th>\n",
       "      <td>Bob</td>\n",
       "      <td>25</td>\n",
       "      <td>Los Angeles</td>\n",
       "    </tr>\n",
       "    <tr>\n",
       "      <th>2</th>\n",
       "      <td>Charlie</td>\n",
       "      <td>35</td>\n",
       "      <td>Chicago</td>\n",
       "    </tr>\n",
       "  </tbody>\n",
       "</table>\n",
       "</div>"
      ],
      "text/plain": [
       "      Name   Age          City\n",
       "0    Alice    30      New York\n",
       "1      Bob    25   Los Angeles\n",
       "2  Charlie    35       Chicago"
      ]
     },
     "execution_count": 2,
     "metadata": {},
     "output_type": "execute_result"
    }
   ],
   "source": [
    "\n",
    "import pandas as pd\n",
    "\n",
    "# Example CSV data\n",
    "csv_data = \"\"\"Name, Age, City\n",
    "Alice, 30, New York\n",
    "Bob, 25, Los Angeles\n",
    "Charlie, 35, Chicago\"\"\"\n",
    "# Save CSV data to a file\n",
    "with open('username.csv', 'w') as file:\n",
    "    file.write(csv_data)\n",
    "\n",
    "# Read CSV file into a DataFrame\n",
    "df = pd.read_csv('username.csv')\n",
    "df\n"
   ]
  },
  {
   "cell_type": "markdown",
   "id": "d9198306-2f6e-4057-b74b-ecb0f3387bcc",
   "metadata": {},
   "source": [
    "### 2. `head()`\n",
    "Returns the first n rows of the DataFrame."
   ]
  },
  {
   "cell_type": "code",
   "execution_count": 4,
   "id": "8536be74-fd97-46f8-a981-226a909ab89d",
   "metadata": {},
   "outputs": [
    {
     "data": {
      "text/html": [
       "<div>\n",
       "<style scoped>\n",
       "    .dataframe tbody tr th:only-of-type {\n",
       "        vertical-align: middle;\n",
       "    }\n",
       "\n",
       "    .dataframe tbody tr th {\n",
       "        vertical-align: top;\n",
       "    }\n",
       "\n",
       "    .dataframe thead th {\n",
       "        text-align: right;\n",
       "    }\n",
       "</style>\n",
       "<table border=\"1\" class=\"dataframe\">\n",
       "  <thead>\n",
       "    <tr style=\"text-align: right;\">\n",
       "      <th></th>\n",
       "      <th>Name</th>\n",
       "      <th>Age</th>\n",
       "      <th>City</th>\n",
       "    </tr>\n",
       "  </thead>\n",
       "  <tbody>\n",
       "    <tr>\n",
       "      <th>0</th>\n",
       "      <td>Alice</td>\n",
       "      <td>30</td>\n",
       "      <td>New York</td>\n",
       "    </tr>\n",
       "    <tr>\n",
       "      <th>1</th>\n",
       "      <td>Bob</td>\n",
       "      <td>25</td>\n",
       "      <td>Los Angeles</td>\n",
       "    </tr>\n",
       "  </tbody>\n",
       "</table>\n",
       "</div>"
      ],
      "text/plain": [
       "    Name   Age          City\n",
       "0  Alice    30      New York\n",
       "1    Bob    25   Los Angeles"
      ]
     },
     "execution_count": 4,
     "metadata": {},
     "output_type": "execute_result"
    }
   ],
   "source": [
    "\n",
    "df.head(2)  # Display the first 2 rows"
   ]
  },
  {
   "cell_type": "markdown",
   "id": "125a2b33-fa39-4575-92db-b3c271762e64",
   "metadata": {},
   "source": [
    "### 3. `describe()`\n",
    "Generates descriptive statistics for the DataFrame.\n",
    "\n"
   ]
  },
  {
   "cell_type": "code",
   "execution_count": 8,
   "id": "b995c75d-5b68-40bf-92c5-9b3776fe5f88",
   "metadata": {},
   "outputs": [
    {
     "data": {
      "text/html": [
       "<div>\n",
       "<style scoped>\n",
       "    .dataframe tbody tr th:only-of-type {\n",
       "        vertical-align: middle;\n",
       "    }\n",
       "\n",
       "    .dataframe tbody tr th {\n",
       "        vertical-align: top;\n",
       "    }\n",
       "\n",
       "    .dataframe thead th {\n",
       "        text-align: right;\n",
       "    }\n",
       "</style>\n",
       "<table border=\"1\" class=\"dataframe\">\n",
       "  <thead>\n",
       "    <tr style=\"text-align: right;\">\n",
       "      <th></th>\n",
       "      <th>Age</th>\n",
       "    </tr>\n",
       "  </thead>\n",
       "  <tbody>\n",
       "    <tr>\n",
       "      <th>count</th>\n",
       "      <td>3.0</td>\n",
       "    </tr>\n",
       "    <tr>\n",
       "      <th>mean</th>\n",
       "      <td>30.0</td>\n",
       "    </tr>\n",
       "    <tr>\n",
       "      <th>std</th>\n",
       "      <td>5.0</td>\n",
       "    </tr>\n",
       "    <tr>\n",
       "      <th>min</th>\n",
       "      <td>25.0</td>\n",
       "    </tr>\n",
       "    <tr>\n",
       "      <th>25%</th>\n",
       "      <td>27.5</td>\n",
       "    </tr>\n",
       "    <tr>\n",
       "      <th>50%</th>\n",
       "      <td>30.0</td>\n",
       "    </tr>\n",
       "    <tr>\n",
       "      <th>75%</th>\n",
       "      <td>32.5</td>\n",
       "    </tr>\n",
       "    <tr>\n",
       "      <th>max</th>\n",
       "      <td>35.0</td>\n",
       "    </tr>\n",
       "  </tbody>\n",
       "</table>\n",
       "</div>"
      ],
      "text/plain": [
       "        Age\n",
       "count   3.0\n",
       "mean   30.0\n",
       "std     5.0\n",
       "min    25.0\n",
       "25%    27.5\n",
       "50%    30.0\n",
       "75%    32.5\n",
       "max    35.0"
      ]
     },
     "execution_count": 8,
     "metadata": {},
     "output_type": "execute_result"
    }
   ],
   "source": [
    "df.describe()  # Summary statistics for numerical columns"
   ]
  },
  {
   "cell_type": "markdown",
   "id": "f8ffbe63-8f27-42c2-9672-ceb943877a06",
   "metadata": {},
   "source": [
    "### 4. `groupby()`\n",
    "Groups DataFrame using a mapper or by a Series of columns."
   ]
  },
  {
   "cell_type": "code",
   "execution_count": 7,
   "id": "6a5d5e81-c024-4358-a5e7-db555a24af8a",
   "metadata": {},
   "outputs": [
    {
     "name": "stdout",
     "output_type": "stream",
     "text": [
      "Alice\n",
      "    Name   Age       City\n",
      "0  Alice    30   New York\n",
      "Bob\n",
      "  Name   Age          City\n",
      "1  Bob    25   Los Angeles\n",
      "Charlie\n",
      "      Name   Age      City\n",
      "2  Charlie    35   Chicago\n"
     ]
    }
   ],
   "source": [
    "# Group by a column and calculate the mean\n",
    "grouped_df = df.groupby(\"Name\")\n",
    "\n",
    "grouped_df\n",
    "\n",
    "for x,y in grouped_df:\n",
    "    print(x)\n",
    "    print(y)"
   ]
  },
  {
   "cell_type": "markdown",
   "id": "486c048c-cba3-4274-8fa6-4687ac379ce4",
   "metadata": {},
   "source": [
    "### 5. `merge()`\n",
    "Merges DataFrame objects by performing a database-style join operation."
   ]
  },
  {
   "cell_type": "code",
   "execution_count": 13,
   "id": "e2de7b34-0e06-4477-bb1a-87368a429adf",
   "metadata": {},
   "outputs": [
    {
     "data": {
      "text/html": [
       "<div>\n",
       "<style scoped>\n",
       "    .dataframe tbody tr th:only-of-type {\n",
       "        vertical-align: middle;\n",
       "    }\n",
       "\n",
       "    .dataframe tbody tr th {\n",
       "        vertical-align: top;\n",
       "    }\n",
       "\n",
       "    .dataframe thead th {\n",
       "        text-align: right;\n",
       "    }\n",
       "</style>\n",
       "<table border=\"1\" class=\"dataframe\">\n",
       "  <thead>\n",
       "    <tr style=\"text-align: right;\">\n",
       "      <th></th>\n",
       "      <th>ID</th>\n",
       "      <th>Name</th>\n",
       "      <th>Age</th>\n",
       "    </tr>\n",
       "  </thead>\n",
       "  <tbody>\n",
       "    <tr>\n",
       "      <th>0</th>\n",
       "      <td>1</td>\n",
       "      <td>Alice</td>\n",
       "      <td>30</td>\n",
       "    </tr>\n",
       "    <tr>\n",
       "      <th>1</th>\n",
       "      <td>2</td>\n",
       "      <td>Bob</td>\n",
       "      <td>25</td>\n",
       "    </tr>\n",
       "  </tbody>\n",
       "</table>\n",
       "</div>"
      ],
      "text/plain": [
       "   ID   Name  Age\n",
       "0   1  Alice   30\n",
       "1   2    Bob   25"
      ]
     },
     "execution_count": 13,
     "metadata": {},
     "output_type": "execute_result"
    }
   ],
   "source": [
    "# Example DataFrame 1\n",
    "df1 = pd.DataFrame({\n",
    "    'ID': [1, 2, 3],\n",
    "    'Name': ['Alice', 'Bob', 'Charlie']\n",
    "})\n",
    "\n",
    "# Example DataFrame 2\n",
    "df2 = pd.DataFrame({\n",
    "    'ID': [1, 2, 4],\n",
    "    'Age': [30, 25, 40]\n",
    "})\n",
    "\n",
    "# Merge the two DataFrames on 'ID'\n",
    "merged_df = pd.merge(df1, df2, on='ID', how='inner')\n",
    "merged_df"
   ]
  },
  {
   "cell_type": "markdown",
   "id": "4334bd22-c623-47e0-bc61-52c2bf49cb24",
   "metadata": {},
   "source": [
    "# Q2. Given a Pandas DataFrame df with columns 'A', 'B', and 'C', write a Python function to re-index the DataFrame with a new index that starts from 1 and increments by 2 for each row."
   ]
  },
  {
   "cell_type": "code",
   "execution_count": 2,
   "id": "8d75ce01-02b8-4765-b681-8e9b4b069436",
   "metadata": {},
   "outputs": [
    {
     "name": "stdout",
     "output_type": "stream",
     "text": [
      "        A   B       C\n",
      "0   Alice  25  Female\n",
      "1     Bob  30    Male\n",
      "2  Claire  27  Female\n"
     ]
    }
   ],
   "source": [
    "import pandas as pd\n",
    "data = {\n",
    "  \"A\": [\"Alice\",\"Bob\",\"Claire\"],\n",
    "  \"B\": [25, 30, 27],\n",
    "    \"C\": [\"Female\", \"Male\", \"Female\"]\n",
    "}\n",
    "\n",
    "#load data into a DataFrame object:\n",
    "df = pd.DataFrame(data)\n",
    "\n",
    "print(df) "
   ]
  },
  {
   "cell_type": "markdown",
   "id": "017d13e7-7c69-4f88-bb04-10bccb37729d",
   "metadata": {},
   "source": [
    "## Q3. You have a Pandas DataFrame df with a column named 'Values'. Write a Python function that iterates over the DataFrame and calculates the sum of the first three values in the 'Values' column. The function should print the sum to the console.\n",
    "\n",
    "For example, if the 'Values' column of df contains the values [10, 20, 30, 40, 50], your function should\n",
    "calculate and print the sum of the first three values, which is 60."
   ]
  },
  {
   "cell_type": "code",
   "execution_count": 25,
   "id": "9251311b-f594-4b45-8156-f2df7e4c7518",
   "metadata": {},
   "outputs": [
    {
     "name": "stdout",
     "output_type": "stream",
     "text": [
      "   Values\n",
      "0      10\n",
      "1      20\n",
      "2      30\n",
      "3      40\n",
      "4      50\n",
      "The sum of the first three values is: 60\n"
     ]
    }
   ],
   "source": [
    "import pandas as pd\n",
    "\n",
    "def sum_first_three(df):\n",
    "    # Ensure there are at least three values in the DataFrame\n",
    "    if len(df['Values']) < 3:\n",
    "        print(\"Not enough values in the 'Values' column.\")\n",
    "        return\n",
    "\n",
    "    # Calculate the sum of the first three values\n",
    "    result = df['Values'].head(3).sum()\n",
    "\n",
    "    # Print the result\n",
    "    print(f\"The sum of the first three values is: {result}\")\n",
    "\n",
    "# Example usage\n",
    "data = {'Values': [10, 20, 30, 40, 50]}\n",
    "df = pd.DataFrame(data)\n",
    "print(df)\n",
    "\n",
    "sum_first_three(df)\n"
   ]
  },
  {
   "cell_type": "markdown",
   "id": "ee6f21ea-f82c-436f-ac1d-3ce550777055",
   "metadata": {},
   "source": [
    "Explanation:\n",
    "The head(3) function retrieves the first three rows in the 'Values' column.\n",
    "The sum() function then calculates the sum of those values.\n",
    "If there are fewer than three rows, the function prints a message.\n",
    "\n",
    "\n",
    "\n",
    "\n",
    "\n"
   ]
  },
  {
   "cell_type": "markdown",
   "id": "69181b6c-7b8a-47b0-ba64-d04ce78b25f4",
   "metadata": {},
   "source": [
    "## Q4. Given a Pandas DataFrame df with a column 'Text', write a Python function to create a new column 'Word_Count' that contains the number of words in each row of the 'Text' column."
   ]
  },
  {
   "cell_type": "markdown",
   "id": "efb45dea-6352-4600-83e8-2ebfc31fd4a1",
   "metadata": {},
   "source": [
    "Python function to create a new column 'Word_Count' that contains the number of words in each row of the 'Text' column in a Pandas DataFrame:"
   ]
  },
  {
   "cell_type": "code",
   "execution_count": 4,
   "id": "befa1c72-3603-47a1-858d-9f2996d3c8ea",
   "metadata": {},
   "outputs": [
    {
     "name": "stdout",
     "output_type": "stream",
     "text": [
      "                                     Text  Word_Count\n",
      "0             This is the first sentence.           5\n",
      "1                    Here is another one.           4\n",
      "2  Pandas is great for data manipulation.           6\n"
     ]
    }
   ],
   "source": [
    "import pandas as pd\n",
    "\n",
    "def add_word_count(df):\n",
    "    # Create a new column 'Word_Count' that calculates the number of words in each 'Text' row\n",
    "    df['Word_Count'] = df['Text'].apply(lambda x: len(str(x).split()))\n",
    "\n",
    "# Example usage\n",
    "data = {'Text': ['This is the first sentence.', 'Here is another one.', 'Pandas is great for data manipulation.']}\n",
    "df = pd.DataFrame(data)\n",
    "\n",
    "add_word_count(df)\n",
    "print(df)\n"
   ]
  },
  {
   "cell_type": "markdown",
   "id": "6cc9a1bd-58e2-4ea2-b0d1-e29e51667927",
   "metadata": {},
   "source": [
    "###  Explanation:\n",
    "* The apply() function applies a lambda function to each element in the 'Text' column.\n",
    "* The split() method splits each text string into words (by spaces) and the len() function counts the number of words.\n",
    "* The str(x) ensures that the value is treated as a string in case there are any non-string values."
   ]
  },
  {
   "cell_type": "markdown",
   "id": "23295a13-877b-4ea1-a647-e8fdcebb6e8d",
   "metadata": {},
   "source": [
    "## Q5. How are DataFrame.size() and DataFrame.shape() different?"
   ]
  },
  {
   "cell_type": "markdown",
   "id": "d5518949-c665-442b-9411-e39b65275088",
   "metadata": {},
   "source": [
    "The difference between `DataFrame.size` and `DataFrame.shape` in Pandas lies in the type of information they return about the DataFrame:\n",
    "\n",
    "### 1. `DataFrame.size`\n",
    "- **Definition**: This returns the total number of elements (cells) in the DataFrame.\n",
    "- **Calculation**: It is the product of the number of rows and the number of columns.\n",
    "- **Type of Value**: A single integer.\n",
    "\n",
    "For example, if a DataFrame has 3 rows and 4 columns, the size would be `3 * 4 = 12`.\n",
    "\n",
    "```python\n",
    "df.size\n",
    "```\n",
    "\n",
    "### 2. `DataFrame.shape`\n",
    "- **Definition**: This returns a tuple representing the dimensions of the DataFrame.\n",
    "- **Output**: It gives the number of rows and columns in the format `(rows, columns)`.\n",
    "- **Type of Value**: A tuple `(rows, columns)`.\n",
    "\n",
    "For example, if a DataFrame has 3 rows and 4 columns, the shape would be `(3, 4)`.\n",
    "\n",
    "```python\n",
    "df.shape\n",
    "```\n",
    "\n",
    "### Summary:\n",
    "\n",
    "- `DataFrame.size`: Total number of elements (rows * columns).\n",
    "- `DataFrame.shape`: Number of rows and columns as a tuple `(rows, columns)`.\n",
    "\n",
    "### Example:"
   ]
  },
  {
   "cell_type": "code",
   "execution_count": 9,
   "id": "9dec1713-9474-422c-8336-31ad467abdf1",
   "metadata": {},
   "outputs": [
    {
     "name": "stdout",
     "output_type": "stream",
     "text": [
      "   A  B  C\n",
      "0  1  4  7\n",
      "1  2  5  8\n",
      "2  3  6  9\n",
      "\n",
      "DataFrame size: 9\n",
      "DataFrame shape: (3, 3)\n"
     ]
    }
   ],
   "source": [
    "import pandas as pd\n",
    "\n",
    "data = {'A': [1, 2, 3], 'B': [4, 5, 6], 'C': [7, 8, 9]}\n",
    "df = pd.DataFrame(data)\n",
    "\n",
    "print(df)\n",
    "print()\n",
    "print(\"DataFrame size:\", df.size)    # Output: 9\n",
    "print(\"DataFrame shape:\", df.shape)  # Output: (3, 3)"
   ]
  },
  {
   "cell_type": "markdown",
   "id": "b351a5ca-8f4d-4c10-91be-91fc0e227436",
   "metadata": {},
   "source": [
    "In this example:\n",
    "- `df.size` is `9` (since there are 3 rows and 3 columns, resulting in 9 cells).\n",
    "- `df.shape` is `(3, 3)` (indicating 3 rows and 3 columns)."
   ]
  },
  {
   "cell_type": "markdown",
   "id": "e7696d09-36b7-4b58-9ca6-62c227ebfd0b",
   "metadata": {},
   "source": [
    "## Q6. Which function of pandas do we use to read an excel file?"
   ]
  },
  {
   "cell_type": "markdown",
   "id": "913b9aac-39c7-433a-a4cc-f6655912bbcf",
   "metadata": {},
   "source": [
    "In Pandas, the function used to read an Excel file is `pandas.read_excel()`.\n",
    "\n",
    "### Syntax:\n",
    "```python\n",
    "pandas.read_excel(io, sheet_name=0, ...)\n",
    "```\n",
    "\n",
    "### Key Parameters:\n",
    "- **`io`**: The file path or URL of the Excel file to be read.\n",
    "- **`sheet_name`**: The name or index of the sheet to read (default is the first sheet, i.e., index `0`). You can also use `sheet_name=None` to load all sheets.\n",
    "  \n",
    "### Example:"
   ]
  },
  {
   "cell_type": "code",
   "execution_count": 20,
   "id": "97d064cb-5708-40f4-b424-fdcfc610d0a5",
   "metadata": {},
   "outputs": [],
   "source": [
    "import pandas as pd\n",
    "\n",
    "# Creating a sample DataFrame\n",
    "data = {\n",
    "    'A': [1, 2, 3],\n",
    "    'B': [4, 5, 6],\n",
    "    'C': [7, 8, 9]\n",
    "}\n",
    "\n",
    "df = pd.DataFrame(data)\n",
    "\n",
    "# Generating an Excel file with the DataFrame\n",
    "df.to_excel('sample_excel_file.xlsx', index=False)\n",
    "\n"
   ]
  },
  {
   "cell_type": "code",
   "execution_count": 23,
   "id": "fc0ed4f1-b90b-4c9e-875e-c89c046d7f4d",
   "metadata": {},
   "outputs": [
    {
     "name": "stdout",
     "output_type": "stream",
     "text": [
      "{'Sheet1':    A  B  C\n",
      "0  1  4  7\n",
      "1  2  5  8\n",
      "2  3  6  9}\n"
     ]
    }
   ],
   "source": [
    "import pandas as pd\n",
    "\n",
    "# Reading a specific sheet (by index)\n",
    "df = pd.read_excel('sample_excel_file.xlsx', sheet_name=0)\n",
    "\n",
    "# Reading by sheet name\n",
    "df = pd.read_excel('sample_excel_file.xlsx', sheet_name='Sheet1')\n",
    "\n",
    "# Reading all sheets as a dictionary of DataFrames\n",
    "dfs = pd.read_excel('sample_excel_file.xlsx', sheet_name=None)\n",
    "print(dfs)"
   ]
  },
  {
   "cell_type": "markdown",
   "id": "0f2acd61-9696-48dd-a28e-c0b896a8b289",
   "metadata": {},
   "source": [
    "### Notes:\n",
    "- You need to have the **`openpyxl`** or **`xlrd`** library installed, depending on the file format and version you're working with (`.xlsx` for `openpyxl`, `.xls` for `xlrd`)."
   ]
  },
  {
   "cell_type": "markdown",
   "id": "7c66a427-b4dc-4399-afd3-c1ae9a7d58ac",
   "metadata": {},
   "source": [
    "## Q7. You have a Pandas DataFrame df that contains a column named 'Email' that contains email addresses in the format 'username@domain.com'. Write a Python function that creates a new column 'Username' in df that contains only the username part of each email address.\n",
    "\n",
    "The username is the part of the email address that appears before the '@' symbol. For example, if the\n",
    "email address is 'john.doe@example.com', the 'Username' column should contain 'john.doe'. Your\n",
    "function should extract the username from each email address and store it in the new 'Username'\n",
    "column."
   ]
  },
  {
   "cell_type": "markdown",
   "id": "36381ff8-9885-43f2-811b-f574bc8657a5",
   "metadata": {},
   "source": [
    "Python function that creates a new column 'Username' in the DataFrame df, which extracts the username part (before the @) from the email addresses in the 'Email' column:"
   ]
  },
  {
   "cell_type": "code",
   "execution_count": 24,
   "id": "b67bb34e-070d-4567-b8e7-a4e52011a26f",
   "metadata": {},
   "outputs": [
    {
     "name": "stdout",
     "output_type": "stream",
     "text": [
      "                     Email     Username\n",
      "0     john.doe@example.com     john.doe\n",
      "1  alice.smith@company.com  alice.smith\n",
      "2     bob.jones@domain.org    bob.jones\n"
     ]
    }
   ],
   "source": [
    "import pandas as pd\n",
    "\n",
    "def extract_username(df):\n",
    "    # Split the 'Email' column at '@' and take the first part (username)\n",
    "    df['Username'] = df['Email'].apply(lambda x: x.split('@')[0])\n",
    "\n",
    "# Example usage\n",
    "data = {'Email': ['john.doe@example.com', 'alice.smith@company.com', 'bob.jones@domain.org']}\n",
    "df = pd.DataFrame(data)\n",
    "\n",
    "extract_username(df)\n",
    "print(df)\n"
   ]
  },
  {
   "cell_type": "markdown",
   "id": "5b06ce80-bd8f-4f8c-972a-fc06c35a5792",
   "metadata": {},
   "source": [
    "### Explanation:\n",
    "The `apply()` function is used to apply a lambda function to each value in the 'Email' column.\n",
    "The `split('@')[0])` splits the email address at the `@` symbol and retrieves the first part (i.e., the username)."
   ]
  },
  {
   "cell_type": "markdown",
   "id": "a24a61f7-4c98-47af-bf44-eda22b6f6c98",
   "metadata": {},
   "source": [
    "## Q8. You have a Pandas DataFrame df with columns 'A', 'B', and 'C'. Write a Python function that selects all rows where the value in column 'A' is greater than 5 and the value in column 'B' is less than 10. The function should return a new DataFrame that contains only the selected rows.\n",
    "\n",
    "- For example, if df contains the following values:\n",
    "|A | B | C |\n",
    "|--|---|---|\n",
    "0 |3 | 5| 1|\n",
    "1 |8 |2 |7\n",
    "2 |6 |9 |4\n",
    "3 |2 |3 |5\n",
    "4 |9 |1 |2"
   ]
  },
  {
   "cell_type": "markdown",
   "id": "ec66f2b1-5b9b-4713-8711-97f61447aaa6",
   "metadata": {},
   "source": [
    "Python function that selects all rows where the value in **column 'A'** is greater than * 5 * and the value in **column 'B'** is less than **10**, and returns a new DataFrame containing only the selected rows:"
   ]
  },
  {
   "cell_type": "code",
   "execution_count": null,
   "id": "565667e1-89d0-415a-bd75-3b3407829725",
   "metadata": {},
   "outputs": [],
   "source": [
    "import pandas as pd\n",
    "\n",
    "def filter_dataframe(df):\n",
    "    # Select rows where column 'A' > 5 and column 'B' < 10\n",
    "    filtered_df = df[(df['A'] > 5) & (df['B'] < 10)]\n",
    "    return filtered_df\n",
    "\n",
    "# Example usage\n",
    "data = {'A': [3, 8, 6, 2, 9], 'B': [5, 2, 9, 3, 1], 'C': [1, 7, 4, 5, 2]}\n",
    "df = pd.DataFrame(data)\n",
    "\n",
    "filtered_df = filter_dataframe(df)\n",
    "print(filtered_df)\n"
   ]
  },
  {
   "cell_type": "markdown",
   "id": "c22b632b-9c93-4e00-ba93-ab384233e962",
   "metadata": {},
   "source": [
    "### Explanation:\n",
    "- The function uses Boolean indexing to filter the DataFrame.\n",
    "- The condition `df['A'] > 5` selects rows where the value in column `'A'` is greater than `5`.\n",
    "- The condition `df['B'] < 10` selects rows where the value in column `'B'` is less than `10`.\n",
    "- The `&` operator is used to combine both conditions."
   ]
  },
  {
   "cell_type": "code",
   "execution_count": null,
   "id": "5c23a7fb-604b-40c8-b99f-f82a998733ec",
   "metadata": {},
   "outputs": [],
   "source": []
  }
 ],
 "metadata": {
  "kernelspec": {
   "display_name": "Python 3 (ipykernel)",
   "language": "python",
   "name": "python3"
  },
  "language_info": {
   "codemirror_mode": {
    "name": "ipython",
    "version": 3
   },
   "file_extension": ".py",
   "mimetype": "text/x-python",
   "name": "python",
   "nbconvert_exporter": "python",
   "pygments_lexer": "ipython3",
   "version": "3.10.8"
  }
 },
 "nbformat": 4,
 "nbformat_minor": 5
}
