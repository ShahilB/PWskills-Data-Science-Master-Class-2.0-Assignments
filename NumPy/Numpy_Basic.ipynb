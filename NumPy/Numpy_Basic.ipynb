{
 "cells": [
  {
   "cell_type": "markdown",
   "id": "53620a0e-a78e-4e67-b1a2-d74fa92b48fb",
   "metadata": {},
   "source": [
    "# Numpy Basic\n"
   ]
  },
  {
   "cell_type": "markdown",
   "id": "82300437-808f-47b4-a48b-40b6ea2bdc14",
   "metadata": {},
   "source": [
    "Consider the below code to answer further questions:\n",
    "```python \n",
    "import numpy as np\n",
    "list_ = [ ‘1’ , ’2’ , ‘3’ , ‘4’ , ‘5’ ]\n",
    "array_list = np.array(object = list_)\n",
    "```\n",
    "#### Q1. Is there any difference in the data type of variables list_ and array_list? If there is then write a code to print the data types of both the variables."
   ]
  },
  {
   "cell_type": "markdown",
   "id": "de889aac-63a2-4a1a-91e1-1f7f2cde530e",
   "metadata": {},
   "source": [
    "Yes, there **is a difference** between the data types of `list_` and `array_list`.\n",
    "\n",
    "Let’s break it down:\n",
    "\n",
    "---\n",
    "\n",
    "### 🔍 **Explanation:**\n",
    "\n",
    "- `list_` is a regular **Python list** of strings.\n",
    "- `array_list` is a **NumPy array** created from that list, and NumPy arrays have their own **dtype** for elements (in this case, likely `'str'` or `'U1'`, depending on the data).\n",
    "\n",
    "---\n",
    "\n",
    "### ✅ **Code to Print Data Types:**"
   ]
  },
  {
   "cell_type": "code",
   "execution_count": 1,
   "id": "10c979c1-2036-4f7f-9695-61954c19fc6f",
   "metadata": {},
   "outputs": [
    {
     "name": "stdout",
     "output_type": "stream",
     "text": [
      "Type of list_: <class 'list'>\n",
      "Type of array_list: <class 'numpy.ndarray'>\n",
      "Data type of elements in array_list: <U1\n"
     ]
    }
   ],
   "source": [
    "import numpy as np\n",
    "\n",
    "# Note: Fixing quotes to standard ones\n",
    "list_ = ['1', '2', '3', '4', '5']\n",
    "array_list = np.array(object=list_)\n",
    "\n",
    "# Print data types\n",
    "print(\"Type of list_:\", type(list_))\n",
    "print(\"Type of array_list:\", type(array_list))\n",
    "print(\"Data type of elements in array_list:\", array_list.dtype)"
   ]
  },
  {
   "cell_type": "markdown",
   "id": "4a60d961-0b83-4707-b572-2f7989315e8d",
   "metadata": {},
   "source": [
    "---\n",
    "\n",
    "### 🖥️ **Expected Output:**\n",
    "\n",
    "```\n",
    "Type of list_: <class 'list'>\n",
    "Type of array_list: <class 'numpy.ndarray'>\n",
    "Data type of elements in array_list: <U1\n",
    "```\n",
    "\n",
    "---\n",
    "\n",
    "### 📌 Summary:\n",
    "\n",
    "| Variable      | Type                | Element Type     |\n",
    "|---------------|---------------------|------------------|\n",
    "| `list_`       | `list` (Python)     | `str`            |\n",
    "| `array_list`  | `numpy.ndarray`     | NumPy string type (like `<U1`) |"
   ]
  },
  {
   "cell_type": "markdown",
   "id": "5cb3217e-7c2a-4f1c-b777-a5480a4a8408",
   "metadata": {},
   "source": [
    "#### Q2. Write a code to print the data type of each and every element of both the variables list_ and array_list."
   ]
  },
  {
   "cell_type": "markdown",
   "id": "a4cdba51-55d3-4a20-a695-d0b72ec60b82",
   "metadata": {},
   "source": [
    "Sure! Here's how you can print the **data type of each element** in both `list_` and `array_list`:\n",
    "\n",
    "---\n",
    "\n",
    "### ✅ **Code:**"
   ]
  },
  {
   "cell_type": "code",
   "execution_count": 3,
   "id": "f9897976-c326-4900-9b79-c216fcab8c0f",
   "metadata": {},
   "outputs": [
    {
     "name": "stdout",
     "output_type": "stream",
     "text": [
      "Data types in list_:\n",
      "Element 0: 1 -> <class 'str'>\n",
      "Element 1: 2 -> <class 'str'>\n",
      "Element 2: 3 -> <class 'str'>\n",
      "Element 3: 4 -> <class 'str'>\n",
      "Element 4: 5 -> <class 'str'>\n",
      "\n",
      "Data types in array_list:\n",
      "Element 0: 1 -> <class 'numpy.str_'>\n",
      "Element 1: 2 -> <class 'numpy.str_'>\n",
      "Element 2: 3 -> <class 'numpy.str_'>\n",
      "Element 3: 4 -> <class 'numpy.str_'>\n",
      "Element 4: 5 -> <class 'numpy.str_'>\n"
     ]
    }
   ],
   "source": [
    "import numpy as np\n",
    "\n",
    "# Define list and array (fixed quotes)\n",
    "list_ = ['1', '2', '3', '4', '5']\n",
    "array_list = np.array(object=list_)\n",
    "\n",
    "# Print data types of each element in list_\n",
    "print(\"Data types in list_:\")\n",
    "for i, element in enumerate(list_):\n",
    "    print(f\"Element {i}: {element} -> {type(element)}\")\n",
    "\n",
    "print(\"\\nData types in array_list:\")\n",
    "for i, element in enumerate(array_list):\n",
    "    print(f\"Element {i}: {element} -> {type(element)}\")"
   ]
  },
  {
   "cell_type": "markdown",
   "id": "12a21948-7cd2-43f8-84df-0af2098a7929",
   "metadata": {},
   "source": [
    "---\n",
    "\n",
    "### 🖥️ **Expected Output:**\n",
    "\n",
    "```\n",
    "Data types in list_:\n",
    "Element 0: 1 -> <class 'str'>\n",
    "Element 1: 2 -> <class 'str'>\n",
    "Element 2: 3 -> <class 'str'>\n",
    "Element 3: 4 -> <class 'str'>\n",
    "Element 4: 5 -> <class 'str'>\n",
    "\n",
    "Data types in array_list:\n",
    "Element 0: 1 -> <class 'numpy.str_'>\n",
    "Element 1: 2 -> <class 'numpy.str_'>\n",
    "Element 2: 3 -> <class 'numpy.str_'>\n",
    "Element 3: 4 -> <class 'numpy.str_'>\n",
    "Element 4: 5 -> <class 'numpy.str_'>\n",
    "```\n",
    "\n",
    "---\n",
    "\n",
    "### 🔍 **Summary:**\n",
    "\n",
    "- Elements in `list_` are regular Python **`str`**.\n",
    "- Elements in `array_list` are **NumPy string objects** (`numpy.str_`), which behave similarly but are part of NumPy's internal type system."
   ]
  },
  {
   "cell_type": "markdown",
   "id": "bb9cc04a-c0a1-468a-b187-58ee9f85b74f",
   "metadata": {},
   "source": [
    "#### Q3. Considering the following changes in the variable, array_list:\n",
    "```python \n",
    "array_list = np.array(object = list_, dtype = int)\n",
    "```\n",
    "\n",
    "#### Will there be any difference in the data type of the elements present in both the variables, list_ and array_list? If so then print the data types of each and every element present in both the variables, list_ and array_list.\n",
    "\n",
    "Consider the below code to answer further questions:\n",
    "```python \n",
    "import numpy as np\n",
    "num_list = [ [ 1 , 2 , 3 ] , [ 4 , 5 , 6 ] ]\n",
    "num_array = np.array(object = num_list)\n",
    "```"
   ]
  },
  {
   "cell_type": "markdown",
   "id": "149c01b4-4942-4f48-ac91-967ccd60034a",
   "metadata": {},
   "source": [
    "Yes, there **will be a difference** in the data types of elements in `list_` and `array_list` after you explicitly convert `array_list` to `dtype=int`.\n",
    "\n",
    "Let’s go step by step.\n",
    "\n",
    "---\n",
    "\n",
    "## ✅ **Part 1: list_ vs array_list with `dtype=int`**"
   ]
  },
  {
   "cell_type": "code",
   "execution_count": 5,
   "id": "8b172812-9a8e-42d5-8e92-77659b81d072",
   "metadata": {},
   "outputs": [
    {
     "name": "stdout",
     "output_type": "stream",
     "text": [
      "Data types in list_:\n",
      "Element 0: 1 -> <class 'str'>\n",
      "Element 1: 2 -> <class 'str'>\n",
      "Element 2: 3 -> <class 'str'>\n",
      "Element 3: 4 -> <class 'str'>\n",
      "Element 4: 5 -> <class 'str'>\n",
      "\n",
      "Data types in array_list (with dtype=int):\n",
      "Element 0: 1 -> <class 'numpy.int64'>\n",
      "Element 1: 2 -> <class 'numpy.int64'>\n",
      "Element 2: 3 -> <class 'numpy.int64'>\n",
      "Element 3: 4 -> <class 'numpy.int64'>\n",
      "Element 4: 5 -> <class 'numpy.int64'>\n"
     ]
    }
   ],
   "source": [
    "import numpy as np\n",
    "\n",
    "# Define original list\n",
    "list_ = ['1', '2', '3', '4', '5']\n",
    "\n",
    "# Convert to NumPy array of integers\n",
    "array_list = np.array(object=list_, dtype=int)\n",
    "\n",
    "# Print data types of each element in list_\n",
    "print(\"Data types in list_:\")\n",
    "for i, element in enumerate(list_):\n",
    "    print(f\"Element {i}: {element} -> {type(element)}\")\n",
    "\n",
    "print(\"\\nData types in array_list (with dtype=int):\")\n",
    "for i, element in enumerate(array_list):\n",
    "    print(f\"Element {i}: {element} -> {type(element)}\")"
   ]
  },
  {
   "cell_type": "markdown",
   "id": "7fb674b6-ed12-4322-9322-67049fd77c42",
   "metadata": {},
   "source": [
    "---\n",
    "\n",
    "### 🖥️ **Expected Output:**\n",
    "\n",
    "```\n",
    "Data types in list_:\n",
    "Element 0: 1 -> <class 'str'>\n",
    "Element 1: 2 -> <class 'str'>\n",
    "Element 2: 3 -> <class 'str'>\n",
    "Element 3: 4 -> <class 'str'>\n",
    "Element 4: 5 -> <class 'str'>\n",
    "\n",
    "Data types in array_list (with dtype=int):\n",
    "Element 0: 1 -> <class 'numpy.int64'>\n",
    "Element 1: 2 -> <class 'numpy.int64'>\n",
    "Element 2: 3 -> <class 'numpy.int64'>\n",
    "Element 3: 4 -> <class 'numpy.int64'>\n",
    "Element 4: 5 -> <class 'numpy.int64'>\n",
    "```\n",
    "\n",
    "---\n",
    "\n",
    "## ✅ **Part 2: `num_list` and `num_array` Setup**"
   ]
  },
  {
   "cell_type": "code",
   "execution_count": 8,
   "id": "28457a88-28f0-4325-bd4c-986ff729ddc7",
   "metadata": {},
   "outputs": [
    {
     "name": "stdout",
     "output_type": "stream",
     "text": [
      "Type of num_list: <class 'list'>\n",
      "Type of num_array: <class 'numpy.ndarray'>\n",
      "Shape of num_array: (2, 3)\n",
      "Data type of elements in num_array: int64\n"
     ]
    }
   ],
   "source": [
    "import numpy as np\n",
    "\n",
    "num_list = [[1, 2, 3], [4, 5, 6]]\n",
    "num_array = np.array(object=num_list)\n",
    "\n",
    "print(\"Type of num_list:\", type(num_list))\n",
    "print(\"Type of num_array:\", type(num_array))\n",
    "print(\"Shape of num_array:\", num_array.shape)\n",
    "print(\"Data type of elements in num_array:\", num_array.dtype)"
   ]
  },
  {
   "cell_type": "markdown",
   "id": "cb09dc77-a0b5-40a6-ab1d-b406e3f9028e",
   "metadata": {},
   "source": [
    "---\n",
    "\n",
    "### 🔍 Summary:\n",
    "\n",
    "| Variable     | Type                 | Element Type      |\n",
    "|--------------|----------------------|-------------------|\n",
    "| `list_`      | `list`               | `str`             |\n",
    "| `array_list` | `numpy.ndarray`      | `int` (e.g., `int64`) |\n",
    "| `num_list`   | `list` of `list`s    | `int`             |\n",
    "| `num_array`  | `numpy.ndarray` (2D) | `int`             |\n",
    "\n",
    "Let me know if you’d like to reshape, flatten, or perform operations on `num_array` next!"
   ]
  },
  {
   "cell_type": "markdown",
   "id": "46a59cc9-f717-4aa5-b7bb-7eed615064c8",
   "metadata": {},
   "source": [
    "#### Q4. Write a code to find the following characteristics of variable, num_array:\n",
    "- (i) shape\n",
    "- (ii) size"
   ]
  },
  {
   "cell_type": "code",
   "execution_count": null,
   "id": "3f8aafda-8fa1-4df1-87fa-5720014c37e9",
   "metadata": {},
   "outputs": [],
   "source": [
    "---\n",
    "\n",
    "### ✅ **Code:**"
   ]
  },
  {
   "cell_type": "code",
   "execution_count": 9,
   "id": "5fd6634d-9826-40c9-851c-91537a38ba45",
   "metadata": {},
   "outputs": [
    {
     "name": "stdout",
     "output_type": "stream",
     "text": [
      "Shape of num_array: (2, 3)\n",
      "Size of num_array: 6\n"
     ]
    }
   ],
   "source": [
    "import numpy as np\n",
    "\n",
    "# Given 2D list\n",
    "num_list = [[1, 2, 3], [4, 5, 6]]\n",
    "\n",
    "# Convert to NumPy array\n",
    "num_array = np.array(object=num_list)\n",
    "\n",
    "# (i) Shape of the array\n",
    "print(\"Shape of num_array:\", num_array.shape)\n",
    "\n",
    "# (ii) Size (total number of elements)\n",
    "print(\"Size of num_array:\", num_array.size)"
   ]
  },
  {
   "cell_type": "markdown",
   "id": "c52633ce-7ed7-43b6-acc2-5cb7a69f0bd3",
   "metadata": {},
   "source": [
    "---\n",
    "\n",
    "### 🖥️ **Expected Output:**\n",
    "\n",
    "```\n",
    "Shape of num_array: (2, 3)\n",
    "Size of num_array: 6\n",
    "```\n",
    "\n",
    "---\n",
    "\n",
    "### 🔍 Explanation:\n",
    "\n",
    "- **Shape:** `(2, 3)` means 2 rows and 3 columns.\n",
    "- **Size:** `6` is the total number of elements (2 × 3)."
   ]
  },
  {
   "cell_type": "markdown",
   "id": "e1ba7b07-e4f8-45db-964e-843eba403faf",
   "metadata": {},
   "source": [
    "#### Q5. Write a code to create numpy array of 3*3 matrix containing zeros only, using a numpy array creation function.\n",
    "\n",
    "[Hint: The size of the array will be 9 and the shape will be (3,3).]"
   ]
  },
  {
   "cell_type": "markdown",
   "id": "ba0c1efb-81c8-4a14-8c17-dd1b15e20fbb",
   "metadata": {},
   "source": [
    "Sure! You can use the `numpy.zeros()` function to create a **3×3 matrix of zeros**.\n",
    "\n",
    "---\n",
    "\n",
    "### ✅ **Code:**"
   ]
  },
  {
   "cell_type": "code",
   "execution_count": 2,
   "id": "6f571fbe-897a-4052-aecf-50ea2c70c88f",
   "metadata": {},
   "outputs": [
    {
     "name": "stdout",
     "output_type": "stream",
     "text": [
      "3x3 Zero Matrix:\n",
      "[[0. 0. 0.]\n",
      " [0. 0. 0.]\n",
      " [0. 0. 0.]]\n"
     ]
    }
   ],
   "source": [
    "import numpy as np\n",
    "\n",
    "# Create a 3x3 matrix of zeros\n",
    "zero_matrix = np.zeros((3, 3))\n",
    "\n",
    "# Print the matrix\n",
    "print(\"3x3 Zero Matrix:\")\n",
    "print(zero_matrix)"
   ]
  },
  {
   "cell_type": "markdown",
   "id": "b7f94fec-d226-4d2c-834e-caff18dda4d6",
   "metadata": {},
   "source": [
    "---\n",
    "\n",
    "### 🖥️ **Expected Output:**\n",
    "\n",
    "```\n",
    "3x3 Zero Matrix:\n",
    "[[0. 0. 0.]\n",
    " [0. 0. 0.]\n",
    " [0. 0. 0.]]\n",
    "```\n",
    "\n",
    "---\n",
    "\n",
    "### 🔍 Notes:\n",
    "- By default, the elements are of `float` type.\n",
    "- If you want integers instead, you can specify:  \n",
    "  `np.zeros((3, 3), dtype=int)`\n"
   ]
  },
  {
   "cell_type": "markdown",
   "id": "266d5f7b-6eea-4c27-903b-5829fb96b283",
   "metadata": {},
   "source": [
    "#### Q6. Create an identity matrix of shape (5,5) using numpy functions?\n",
    "\n",
    "[Hint: An identity matrix is a matrix containing 1 diagonally and other elements will be 0.]"
   ]
  },
  {
   "cell_type": "markdown",
   "id": "dc481351-f9e3-4965-9ae9-992e9b9dea18",
   "metadata": {},
   "source": [
    "You can easily create an identity matrix using the `numpy.identity()` or `numpy.eye()` function.\n",
    "\n",
    "---\n",
    "\n",
    "### ✅ **Code (Using `np.identity`)**:"
   ]
  },
  {
   "cell_type": "code",
   "execution_count": 4,
   "id": "baf9da89-230e-4bcb-8d16-40f9009bd13f",
   "metadata": {},
   "outputs": [
    {
     "name": "stdout",
     "output_type": "stream",
     "text": [
      "5x5 Identity Matrix:\n",
      "[[1. 0. 0. 0. 0.]\n",
      " [0. 1. 0. 0. 0.]\n",
      " [0. 0. 1. 0. 0.]\n",
      " [0. 0. 0. 1. 0.]\n",
      " [0. 0. 0. 0. 1.]]\n"
     ]
    }
   ],
   "source": [
    "import numpy as np\n",
    "\n",
    "# Create a 5x5 identity matrix\n",
    "identity_matrix = np.identity(5)\n",
    "\n",
    "# Print the matrix\n",
    "print(\"5x5 Identity Matrix:\")\n",
    "print(identity_matrix)"
   ]
  },
  {
   "cell_type": "markdown",
   "id": "032e8843-1c28-4671-b3f6-ed8a5db1b45a",
   "metadata": {},
   "source": [
    "---\n",
    "\n",
    "### ✅ **Alternative Code (Using `np.eye`)**:\n",
    "\n",
    "```python\n",
    "identity_matrix = np.eye(5)\n",
    "print(\"5x5 Identity Matrix using np.eye:\")\n",
    "print(identity_matrix)\n",
    "```\n",
    "\n",
    "---\n",
    "\n",
    "### 🖥️ **Expected Output:**\n",
    "\n",
    "```\n",
    "5x5 Identity Matrix:\n",
    "[[1. 0. 0. 0. 0.]\n",
    " [0. 1. 0. 0. 0.]\n",
    " [0. 0. 1. 0. 0.]\n",
    " [0. 0. 0. 1. 0.]\n",
    " [0. 0. 0. 0. 1.]]\n",
    "```\n",
    "\n",
    "---"
   ]
  },
  {
   "cell_type": "code",
   "execution_count": null,
   "id": "9d448931-1a98-4ce4-90fb-24dedab1d9ca",
   "metadata": {},
   "outputs": [],
   "source": []
  }
 ],
 "metadata": {
  "kernelspec": {
   "display_name": "Python 3 (ipykernel)",
   "language": "python",
   "name": "python3"
  },
  "language_info": {
   "codemirror_mode": {
    "name": "ipython",
    "version": 3
   },
   "file_extension": ".py",
   "mimetype": "text/x-python",
   "name": "python",
   "nbconvert_exporter": "python",
   "pygments_lexer": "ipython3",
   "version": "3.13.1"
  }
 },
 "nbformat": 4,
 "nbformat_minor": 5
}
