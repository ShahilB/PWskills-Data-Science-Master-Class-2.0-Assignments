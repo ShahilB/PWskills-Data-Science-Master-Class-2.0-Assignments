{
 "cells": [
  {
   "cell_type": "markdown",
   "id": "fb41d12c-906d-4701-959a-1eec5bc05428",
   "metadata": {},
   "source": [
    "# Assignment_15 (Pandas_3)"
   ]
  },
  {
   "cell_type": "markdown",
   "id": "dc7ca235-53ba-4157-a320-794a496d8575",
   "metadata": {},
   "source": [
    "Consider following code to answer further questions:\n",
    "```python \n",
    "import pandas as pd\n",
    "course_name = [‘Data Science’, ‘Machine Learning’, ‘Big Data’, ‘Data Engineer’]\n",
    "duration = [2,3,6,4]\n",
    "df = pd.DataFrame(data = {‘course_name’ : course_name, ‘duration’ : duration})\n",
    "```\n",
    "\n",
    "#### Q1. Write a code to print the data present in the second row of the dataframe, df."
   ]
  },
  {
   "cell_type": "markdown",
   "id": "943ddc64-ad2b-4e5b-a7d8-2f12ff49e1ed",
   "metadata": {},
   "source": [
    "To print the data present in the second row of the DataFrame `df`, you can use the `iloc` method, which allows you to access the data by index position. Here's the code to do that:"
   ]
  },
  {
   "cell_type": "code",
   "execution_count": 1,
   "id": "b004328c-05e5-4218-bcb2-c37a838f6bf5",
   "metadata": {},
   "outputs": [
    {
     "name": "stdout",
     "output_type": "stream",
     "text": [
      "course_name    Machine Learning\n",
      "duration                      3\n",
      "Name: 1, dtype: object\n"
     ]
    }
   ],
   "source": [
    "import pandas as pd\n",
    "\n",
    "course_name = ['Data Science', 'Machine Learning', 'Big Data', 'Data Engineer']\n",
    "duration = [2, 3, 6, 4]\n",
    "df = pd.DataFrame(data={'course_name': course_name, 'duration': duration})\n",
    "\n",
    "# Print the data in the second row (index 1)\n",
    "print(df.iloc[1])"
   ]
  },
  {
   "cell_type": "markdown",
   "id": "2d8e786b-5a1f-4a22-a46b-56abe2258a7d",
   "metadata": {},
   "source": [
    "### **Explanation:**\n",
    "- `iloc[1]` accesses the second row (remember Python uses zero-based indexing, so the second row has index 1).\n",
    "- This will print the data in the second row, including both columns (`course_name` and `duration`).\n",
    "\n",
    "Let me know if you need further clarifications or modifications!"
   ]
  },
  {
   "cell_type": "markdown",
   "id": "4347d703-83e7-4564-86f3-0c9164dcb556",
   "metadata": {},
   "source": [
    "### Q2. What is the difference between the functions loc and iloc in pandas.DataFrame?"
   ]
  },
  {
   "cell_type": "markdown",
   "id": "a50fed90-1f14-4892-a7dd-df1b354f2d56",
   "metadata": {},
   "source": [
    "The functions `loc` and `iloc` in `pandas.DataFrame` are both used for selecting rows and columns, but they differ in how they reference the data:\n",
    "\n",
    "### **1. `iloc` (Integer-location based indexing):**\n",
    "- **Indexing type**: It uses **integer positions** to access rows and columns.\n",
    "- **Usage**: You pass integer-based indices to specify the **position** of rows and columns (starting from 0).\n",
    "- **Syntax**:\n",
    "  ```python\n",
    "  df.iloc[row_index, column_index]\n",
    "  ```\n",
    "  - `row_index` and `column_index` are both integer-based positions.\n",
    "- **Inclusive/Exclusive**: The row and column selection is **exclusive** at the upper bound (similar to Python slicing), meaning `iloc[0:2]` will return rows at index 0 and 1, but not 2.\n",
    "\n",
    "#### Example:"
   ]
  },
  {
   "cell_type": "code",
   "execution_count": 2,
   "id": "261d2609-403a-4250-ad3d-0018994b2134",
   "metadata": {},
   "outputs": [
    {
     "name": "stdout",
     "output_type": "stream",
     "text": [
      "course_name    Machine Learning\n",
      "duration                      3\n",
      "Name: 1, dtype: object\n"
     ]
    }
   ],
   "source": [
    "\n",
    "import pandas as pd\n",
    "data = {'course_name': ['Data Science', 'Machine Learning', 'Big Data', 'Data Engineer'], \n",
    "        'duration': [2, 3, 6, 4]}\n",
    "df = pd.DataFrame(data)\n",
    "\n",
    "# Select the second row (index 1) and all columns\n",
    "print(df.iloc[1])\n"
   ]
  },
  {
   "cell_type": "markdown",
   "id": "85f99c2e-4db1-4373-ab3c-b15dc71fdfd8",
   "metadata": {},
   "source": [
    "### **2. `loc` (Label-based indexing):**\n",
    "- **Indexing type**: It uses **labels** (the actual index or column names) to access rows and columns.\n",
    "- **Usage**: You pass labels to specify the **name** of rows and columns.\n",
    "- **Syntax**:\n",
    "  ```python\n",
    "  df.loc[row_label, column_label]\n",
    "  ```\n",
    "  - `row_label` and `column_label` are based on the **index labels** or **column names**.\n",
    "- **Inclusive/Exclusive**: The row and column selection is **inclusive** at the upper bound, meaning `loc['row1':'row2']` will return rows including both `'row1'` and `'row2'`.\n",
    "\n",
    "#### Example:"
   ]
  },
  {
   "cell_type": "code",
   "execution_count": 3,
   "id": "62ba891d-7d29-4ca8-b980-ab0268ea2861",
   "metadata": {},
   "outputs": [
    {
     "name": "stdout",
     "output_type": "stream",
     "text": [
      "course_name    Machine Learning\n",
      "duration                      3\n",
      "Name: 1, dtype: object\n"
     ]
    }
   ],
   "source": [
    "\n",
    "import pandas as pd\n",
    "data = {'course_name': ['Data Science', 'Machine Learning', 'Big Data', 'Data Engineer'], \n",
    "        'duration': [2, 3, 6, 4]}\n",
    "df = pd.DataFrame(data)\n",
    "\n",
    "# Select the second row (index '1') and all columns\n",
    "print(df.loc[1])"
   ]
  },
  {
   "cell_type": "markdown",
   "id": "ae924c95-152b-4572-b1aa-315363ce1fda",
   "metadata": {},
   "source": [
    "### **Key Differences**:\n",
    "\n",
    "| **Aspect**      | **`iloc`**                                      | **`loc`**                                 |\n",
    "|-----------------|------------------------------------------------|-------------------------------------------|\n",
    "| **Index Type**  | Uses **integer positions** (0-based index)    | Uses **labels** (row/column names)       |\n",
    "| **Indexing**    | Exclusive at the upper bound (like Python slicing) | Inclusive at the upper bound (inclusive of the end) |\n",
    "| **Example**     | `df.iloc[0:2]` (first and second rows)        | `df.loc[0:2]` (includes the second row)  |\n",
    "| **Usage**       | When you want to access data by **position**   | When you want to access data by **label** |\n",
    "\n",
    "#### Example Differences:\n",
    "If `df` has the following index and columns:\n",
    "\n",
    "| course_name     | duration |\n",
    "|-----------------|----------|\n",
    "| Data Science    | 2        |\n",
    "| Machine Learning| 3        |\n",
    "| Big Data        | 6        |\n",
    "| Data Engineer   | 4        |\n",
    "\n",
    "- `df.iloc[1]` will return the second row (0-based index):\n",
    "  ```\n",
    "  course_name    Machine Learning\n",
    "  duration                  3\n",
    "  Name: 1, dtype: object\n",
    "  ```\n",
    "- `df.loc[1]` will also return the row with **index label `1`**:\n",
    "  ```\n",
    "  course_name    Machine Learning\n",
    "  duration                  3\n",
    "  Name: 1, dtype: object\n",
    "  ```\n",
    "\n",
    "However, if you were using **non-numeric row labels** (like string labels), `iloc` would still use position, while `loc` would use the exact labels."
   ]
  },
  {
   "cell_type": "markdown",
   "id": "327744e1-1d49-4a14-91f7-01deff9f3698",
   "metadata": {},
   "source": [
    "### Q3. Reindex the given dataframe using a variable, reindex = [3,0,1,2] and store it in the variable, new_df then find the output for both new_df.loc[2] and new_df.iloc[2]."
   ]
  },
  {
   "cell_type": "code",
   "execution_count": 4,
   "id": "f69a2a9b-080f-43d9-bf41-9a3692c8075e",
   "metadata": {},
   "outputs": [],
   "source": [
    "import pandas as pd\n",
    "\n",
    "course_name = ['Data Science', 'Machine Learning', 'Big Data', 'Data Engineer']\n",
    "duration = [2, 3, 6, 4]\n",
    "\n",
    "df = pd.DataFrame(data={'course_name': course_name, 'duration': duration})"
   ]
  },
  {
   "cell_type": "markdown",
   "id": "45df69f7-cbf3-4878-b595-e9e17ad6bdf4",
   "metadata": {},
   "source": [
    "### **Step 1: Reindexing**"
   ]
  },
  {
   "cell_type": "code",
   "execution_count": 5,
   "id": "887417d3-b0e8-4b4d-a034-67be1ea26b45",
   "metadata": {
    "jp-MarkdownHeadingCollapsed": true
   },
   "outputs": [],
   "source": [
    "reindex = [3, 0, 1, 2]\n",
    "new_df = df.reindex(reindex)"
   ]
  },
  {
   "cell_type": "markdown",
   "id": "05595787-e510-437b-95fe-90444c05023c",
   "metadata": {},
   "source": [
    "This creates a new DataFrame with the rows reordered as per the `reindex` list:\n",
    "\n",
    "| index | course_name       | duration |\n",
    "|-------|-------------------|----------|\n",
    "| 3     | Data Engineer      | 4        |\n",
    "| 0     | Data Science       | 2        |\n",
    "| 1     | Machine Learning   | 3        |\n",
    "| 2     | Big Data           | 6        |\n",
    "\n",
    "---\n",
    "\n",
    "### **Step 2: `new_df.loc[2]`**\n",
    "\n",
    "- `loc` uses **label-based indexing**, so this accesses the **row with index label `2`** (which was originally in the 4th position in `df`).\n",
    "\n",
    "**Output:**\n",
    "```python\n",
    "course_name    Big Data\n",
    "duration             6\n",
    "Name: 2, dtype: object\n",
    "```\n",
    "\n",
    "---\n",
    "\n",
    "### **Step 3: `new_df.iloc[2]`**\n",
    "\n",
    "- `iloc` uses **position-based indexing**, so this accesses the **3rd row (position index 2)** in `new_df`.\n",
    "\n",
    "Looking at the reordered DataFrame:\n",
    "\n",
    "| Position | Index | course_name       | duration |\n",
    "|----------|--------|-------------------|----------|\n",
    "| 0        | 3      | Data Engineer      | 4        |\n",
    "| 1        | 0      | Data Science       | 2        |\n",
    "| 2        | 1      | Machine Learning   | 3        |\n",
    "| 3        | 2      | Big Data           | 6        |\n",
    "\n",
    "So `new_df.iloc[2]` returns the row with **index label `1`**.\n",
    "\n",
    "**Output:**\n",
    "```python\n",
    "course_name    Machine Learning\n",
    "duration                     3\n",
    "Name: 1, dtype: object\n",
    "```\n",
    "\n",
    "---\n",
    "\n",
    "### ✅ **Final Answer Summary:**"
   ]
  },
  {
   "cell_type": "code",
   "execution_count": 6,
   "id": "0e48c11f-50ad-4e48-84a3-5f156d1db452",
   "metadata": {
    "jp-MarkdownHeadingCollapsed": true
   },
   "outputs": [
    {
     "data": {
      "text/plain": [
       "course_name    Machine Learning\n",
       "duration                      3\n",
       "Name: 1, dtype: object"
      ]
     },
     "execution_count": 6,
     "metadata": {},
     "output_type": "execute_result"
    }
   ],
   "source": [
    "new_df.loc[2]\n",
    "# Output:\n",
    "# course_name    Big Data\n",
    "# duration             6\n",
    "# Name: 2, dtype: object\n",
    "\n",
    "new_df.iloc[2]\n",
    "# Output:\n",
    "# course_name    Machine Learning\n",
    "# duration                     3\n",
    "# Name: 1, dtype: object\n"
   ]
  },
  {
   "cell_type": "markdown",
   "id": "63c9d2a3-6637-42cc-8326-d2d97e074d0b",
   "metadata": {},
   "source": [
    "### Did you observe any difference in both the outputs? If so then explain it."
   ]
  },
  {
   "cell_type": "markdown",
   "id": "80051e59-8b4e-4102-aa78-8ded36d4215d",
   "metadata": {},
   "source": [
    "There **is a difference** in the outputs of `new_df.loc[2]` and `new_df.iloc[2]`, and this difference is important to understand how `loc` and `iloc` work.\n",
    "\n",
    "---\n",
    "\n",
    "### ✅ **What is the difference?**\n",
    "\n",
    "| Statement         | What it returns                    | Why                                      |\n",
    "|------------------|------------------------------------|------------------------------------------|\n",
    "| `new_df.loc[2]`  | Row with **index label = 2**       | Because `loc` uses **label-based** access |\n",
    "| `new_df.iloc[2]` | Row at **position 2** in the DataFrame | Because `iloc` uses **position-based** access |\n",
    "\n",
    "---\n",
    "\n",
    "### 🧠 **Detailed Explanation:**\n",
    "\n",
    "After reindexing:\n",
    "\n",
    "```python\n",
    "reindex = [3, 0, 1, 2]\n",
    "new_df = df.reindex(reindex)\n",
    "```\n",
    "\n",
    "The DataFrame becomes:\n",
    "\n",
    "| **Index (label)** | **course_name**      | **duration** |\n",
    "|------------------|----------------------|--------------|\n",
    "| 3                | Data Engineer        | 4            |\n",
    "| 0                | Data Science         | 2            |\n",
    "| 1                | Machine Learning     | 3            |\n",
    "| 2                | Big Data             | 6            |\n",
    "\n",
    "Now:\n",
    "\n",
    "- `new_df.loc[2]` means \"get the row whose **index label is 2**\" → This gives:\n",
    "  ```python\n",
    "  course_name    Big Data\n",
    "  duration             6\n",
    "  Name: 2, dtype: object\n",
    "  ```\n",
    "\n",
    "- `new_df.iloc[2]` means \"get the **third row** in the DataFrame\" → This gives:\n",
    "  ```python\n",
    "  course_name    Machine Learning\n",
    "  duration                     3\n",
    "  Name: 1, dtype: object\n",
    "  ```\n",
    "\n",
    "So:\n",
    "- `loc[2]` looked at the index label `2`.\n",
    "- `iloc[2]` looked at the **3rd row in order**, regardless of label.\n",
    "\n",
    "---\n",
    "\n",
    "### 📌 **Conclusion:**\n",
    "\n",
    "> The difference lies in how they **access rows**:\n",
    "> - `loc[]` accesses by the **label** (actual index value).\n",
    "> - `iloc[]` accesses by the **row's position** (order in DataFrame).\n",
    "\n",
    "Understanding this helps avoid confusion when working with reordered DataFrames or non-numeric indexes.\n"
   ]
  },
  {
   "cell_type": "markdown",
   "id": "af495377-2997-42fc-8bcb-d712e1d6b655",
   "metadata": {},
   "source": [
    "Consider the below code to answer further questions:\n",
    "\n",
    "```python\n",
    "import pandas as pd\n",
    "import numpy as np\n",
    "columns = ['column_1', 'column_2', 'column_3', 'column_4', 'column_5', 'column_6']\n",
    "indices = [1,2,3,4,5,6]\n",
    "#Creating a dataframe:\n",
    "df1 = pd.DataFrame(np.random.rand(6,6), columns = columns, index = indices)\n",
    "\n",
    "```\n",
    "\n",
    "### Q4. Write a code to find the following statistical measurements for the above dataframe df1:\n",
    "- **(i) mean of each and every column present in the dataframe.**\n",
    "- **(ii) standard deviation of column, ‘column_2’**"
   ]
  },
  {
   "cell_type": "code",
   "execution_count": 7,
   "id": "c5a1c202-2c69-430b-8a94-8f95205ea45e",
   "metadata": {},
   "outputs": [
    {
     "name": "stdout",
     "output_type": "stream",
     "text": [
      "Mean of each column:\n",
      "column_1    0.643376\n",
      "column_2    0.615677\n",
      "column_3    0.673583\n",
      "column_4    0.365047\n",
      "column_5    0.411170\n",
      "column_6    0.648807\n",
      "dtype: float64\n",
      "\n",
      "Standard deviation of column_2:\n",
      "0.21450563565233619\n"
     ]
    }
   ],
   "source": [
    "import pandas as pd\n",
    "import numpy as np\n",
    "\n",
    "columns = ['column_1', 'column_2', 'column_3', 'column_4', 'column_5', 'column_6']\n",
    "indices = [1, 2, 3, 4, 5, 6]\n",
    "\n",
    "# Creating a 6x6 DataFrame with random values\n",
    "df1 = pd.DataFrame(np.random.rand(6, 6), columns=columns, index=indices)\n",
    "\n",
    "# (i) Mean of each column\n",
    "column_means = df1.mean()\n",
    "print(\"Mean of each column:\")\n",
    "print(column_means)\n",
    "\n",
    "# (ii) Standard deviation of 'column_2'\n",
    "std_column_2 = df1['column_2'].std()\n",
    "print(\"\\nStandard deviation of column_2:\")\n",
    "print(std_column_2)\n"
   ]
  },
  {
   "cell_type": "markdown",
   "id": "45150310-98a7-493a-8703-c957c61dc4c5",
   "metadata": {},
   "source": [
    "### 🧠 **Explanation:**\n",
    "\n",
    "- `df1.mean()` returns the mean for **each column**.\n",
    "- `df1['column_2'].std()` returns the **standard deviation** of the values in `column_2`."
   ]
  },
  {
   "cell_type": "markdown",
   "id": "68670a67-4b35-414e-b47c-7bc11bca513e",
   "metadata": {},
   "source": [
    "### Q5. Replace the data present in the second row of column, ‘column_2’ by a string variable then find the mean of column, column_2. \n",
    "#### If you are getting errors in executing it then explain why.\n",
    "[Hint: To replace the data use df1.loc[] and equate this to string data of your choice.]"
   ]
  },
  {
   "cell_type": "markdown",
   "id": "05a39237-b074-4ab0-95df-b8fa0ef9cd26",
   "metadata": {},
   "source": [
    "Great question — you're about to explore what happens when you mix **strings and numbers** in a numeric column!\n",
    "\n",
    "---\n",
    "\n",
    "### ✅ **Step-by-Step Code:**\n",
    "\n",
    "Let’s walk through this scenario.\n",
    "\n",
    "#### 1️⃣ Replace the second row of `'column_2'` with a string:\n",
    "\n",
    "```python\n",
    "# Replace the value at row index 2, column 'column_2' with a string\n",
    "df1.loc[2, 'column_2'] = 'hello'\n",
    "```\n",
    "\n",
    "#### 2️⃣ Now, try to compute the mean of `'column_2'`:\n",
    "\n",
    "```python\n",
    "# Try to calculate the mean\n",
    "mean_col2 = df1['column_2'].mean()\n",
    "print(mean_col2)\n",
    "```\n",
    "\n",
    "---\n",
    "\n",
    "### ❌ **What happens?**\n",
    "\n",
    "You will get an error like:\n",
    "\n",
    "```\n",
    "TypeError: could not convert string to float: 'hello'\n",
    "```\n",
    "\n",
    "---\n",
    "\n",
    "### 🧠 **Why does this happen?**\n",
    "\n",
    "Because after replacing one value in `'column_2'` with a string (`'hello'`), the entire column becomes **object dtype** (mixed types), and pandas can't calculate the mean of non-numeric data.\n",
    "\n",
    "> Pandas requires all data in a column to be numeric in order to perform mathematical operations like `mean()`.\n",
    "\n",
    "---\n",
    "\n",
    "### ✅ **How to confirm this:**\n",
    "\n",
    "```python\n",
    "print(df1['column_2'].dtype)\n",
    "# Output: object\n",
    "```\n",
    "\n",
    "---\n",
    "\n",
    "### 🩹 **Fix/Workaround (if needed):**\n",
    "\n",
    "If you want to calculate the mean **ignoring non-numeric values**, you can use `pd.to_numeric()` with `errors='coerce'`:\n",
    "\n",
    "```python\n",
    "mean_safe = pd.to_numeric(df1['column_2'], errors='coerce').mean()\n",
    "print(mean_safe)\n",
    "```\n",
    "\n",
    "This will convert non-numeric entries (like `'hello'`) to `NaN` and safely compute the mean of the rest.\n"
   ]
  },
  {
   "cell_type": "markdown",
   "id": "72305218-6a0e-498e-8ec1-2e1cfa592632",
   "metadata": {},
   "source": [
    "### Q6. What do you understand about the windows function in pandas and list the types of windows functions?"
   ]
  },
  {
   "cell_type": "markdown",
   "id": "219e0a24-5000-487f-a63c-6d267aa1a63a",
   "metadata": {},
   "source": [
    "Great question! Let's break it down.\n",
    "\n",
    "---\n",
    "\n",
    "### 🪟 **What is a Window Function in Pandas?**\n",
    "\n",
    "In **Pandas**, **window functions** are used to perform **rolling or expanding calculations** over a set of rows related to the current row. This is especially useful for **time-series analysis**, **trend analysis**, **smoothing**, and **moving statistics**.\n",
    "\n",
    "Think of it like sliding a “window” across your data and calculating something (mean, sum, etc.) at each step within that window.\n",
    "\n",
    "---\n",
    "\n",
    "### 📦 **Common Use Case Example:**\n",
    "\n",
    "```python\n",
    "df['rolling_mean'] = df['column_name'].rolling(window=3).mean()\n",
    "```\n",
    "\n",
    "This computes the **moving average** over a window size of 3 rows.\n",
    "\n",
    "---\n",
    "\n",
    "### 🧠 **Types of Window Functions in Pandas**\n",
    "\n",
    "Here are the major types:\n",
    "\n",
    "| **Window Type**    | **Function**                            | **Description** |\n",
    "|--------------------|-----------------------------------------|-----------------|\n",
    "| **Rolling**        | `.rolling(window=N)`                    | Sliding window of fixed size. Used for moving average, sum, etc. |\n",
    "| **Expanding**      | `.expanding(min_periods=N)`             | Expands the window to include all previous rows from the start. Useful for cumulative stats. |\n",
    "| **Exponentially Weighted** | `.ewm(span=N)`                  | Applies exponentially decreasing weights to older observations. Useful for smoothing and reacting to recent changes. |\n",
    "| **GroupBy Window** | `.groupby().rolling()` or `.expanding()` | Combines group-wise operations with window calculations. |\n",
    "| **Time-based Rolling** | `.rolling('7D')` (with datetime index) | Uses a **time duration** rather than a number of rows. |\n",
    "\n",
    "---\n",
    "\n",
    "### 📊 **Examples:**\n",
    "\n",
    "#### 1. **Rolling Mean**\n",
    "```python\n",
    "df['rolling_avg'] = df['value'].rolling(window=3).mean()\n",
    "```\n",
    "\n",
    "#### 2. **Expanding Sum**\n",
    "```python\n",
    "df['expanding_sum'] = df['value'].expanding().sum()\n",
    "```\n",
    "\n",
    "#### 3. **Exponentially Weighted Moving Average**\n",
    "```python\n",
    "df['ewm_avg'] = df['value'].ewm(span=3, adjust=False).mean()\n",
    "```\n",
    "\n",
    "---\n",
    "\n",
    "### ✅ **Summary:**\n",
    "\n",
    "- **Window functions** help in applying statistical operations over a subset of data (window).\n",
    "- Useful for **time-series**, **trend analysis**, and **smoothing**.\n",
    "- Main types:\n",
    "  - **Rolling**\n",
    "  - **Expanding**\n",
    "  - **Exponentially Weighted**\n",
    "  - **GroupBy-based**\n",
    "  - **Time-based windows**\n"
   ]
  },
  {
   "cell_type": "markdown",
   "id": "93098fe0-1052-44bf-8ecf-c670564c3b28",
   "metadata": {},
   "source": [
    "### Q7. Write a code to print only the current month and year at the time of answering this question.\n",
    "[Hint: Use pandas.datetime function]"
   ]
  },
  {
   "cell_type": "markdown",
   "id": "8f7fdf94-2906-42fa-9b31-4db19b27f392",
   "metadata": {},
   "source": [
    "Sure! Here's how you can print the **current month and year** using `pandas`:\n",
    "\n",
    "---\n",
    "\n",
    "### ✅ **Code:**"
   ]
  },
  {
   "cell_type": "code",
   "execution_count": 8,
   "id": "88cac3c5-e7d1-4cda-83b3-efdb4061363d",
   "metadata": {},
   "outputs": [
    {
     "name": "stdout",
     "output_type": "stream",
     "text": [
      "Current Month: 4\n",
      "Current Year: 2025\n"
     ]
    }
   ],
   "source": [
    "import pandas as pd\n",
    "\n",
    "# Get the current timestamp\n",
    "now = pd.Timestamp.now()\n",
    "\n",
    "# Extract and print current month and year\n",
    "print(\"Current Month:\", now.month)\n",
    "print(\"Current Year:\", now.year)"
   ]
  },
  {
   "cell_type": "markdown",
   "id": "7fa22db3-e932-4719-906b-a9536880ba17",
   "metadata": {},
   "source": [
    "---\n",
    "\n",
    "### 🧠 **Explanation:**\n",
    "\n",
    "- `pd.Timestamp.now()` gives the **current date and time**.\n",
    "- `.month` and `.year` extract the **month** and **year** parts from the timestamp.\n",
    "\n",
    "---\n",
    "\n",
    "### 🗓️ Example Output (if run today):\n",
    "```\n",
    "Current Month: 4\n",
    "Current Year: 2025\n",
    "```"
   ]
  },
  {
   "cell_type": "markdown",
   "id": "dbcf6251-4d1d-40d2-8e89-7a0bb57ce43c",
   "metadata": {},
   "source": [
    "### Q8. Write a Python program that takes in two dates as input (in the format YYYY-MM-DD) and calculates the difference between them in days, hours, and minutes using Pandas time delta. The program should prompt the user to enter the dates and display the result."
   ]
  },
  {
   "cell_type": "markdown",
   "id": "ac42b82d-b638-4614-b9b9-f06a73a0288e",
   "metadata": {},
   "source": [
    "Sure! Here's a complete Python program using **Pandas** that:\n",
    "\n",
    "- Takes two dates as input (format: `YYYY-MM-DD`)\n",
    "- Calculates the difference in **days**, **hours**, and **minutes**\n",
    "- Displays the results clearly\n",
    "\n",
    "---\n",
    "\n",
    "### ✅ **Python Program:**"
   ]
  },
  {
   "cell_type": "code",
   "execution_count": 9,
   "id": "d1858746-b94b-470d-b66d-1d15354f3260",
   "metadata": {},
   "outputs": [
    {
     "name": "stdin",
     "output_type": "stream",
     "text": [
      "Enter the first date (YYYY-MM-DD):  2025-04-10\n",
      "Enter the second date (YYYY-MM-DD):  2025-04-18\n"
     ]
    },
    {
     "name": "stdout",
     "output_type": "stream",
     "text": [
      "\n",
      "Time Difference:\n",
      "Days   : 8 days\n",
      "Hours  : 192 hours\n",
      "Minutes: 11520 minutes\n"
     ]
    }
   ],
   "source": [
    "import pandas as pd\n",
    "\n",
    "# Prompt the user to enter two dates\n",
    "date1_input = input(\"Enter the first date (YYYY-MM-DD): \")\n",
    "date2_input = input(\"Enter the second date (YYYY-MM-DD): \")\n",
    "\n",
    "# Convert strings to pandas Timestamps\n",
    "date1 = pd.to_datetime(date1_input)\n",
    "date2 = pd.to_datetime(date2_input)\n",
    "\n",
    "# Calculate time difference\n",
    "time_diff = abs(date2 - date1)\n",
    "\n",
    "# Extract total difference in days, hours, and minutes\n",
    "total_days = time_diff.days\n",
    "total_seconds = time_diff.total_seconds()\n",
    "total_hours = total_seconds // 3600\n",
    "total_minutes = total_seconds // 60\n",
    "\n",
    "# Display the result\n",
    "print(\"\\nTime Difference:\")\n",
    "print(f\"Days   : {total_days} days\")\n",
    "print(f\"Hours  : {int(total_hours)} hours\")\n",
    "print(f\"Minutes: {int(total_minutes)} minutes\")"
   ]
  },
  {
   "cell_type": "markdown",
   "id": "df8aad63-3315-4313-a322-6002254c56ec",
   "metadata": {},
   "source": [
    "---\n",
    "\n",
    "### 🧪 **Example Run:**\n",
    "\n",
    "```\n",
    "Enter the first date (YYYY-MM-DD): 2025-04-10\n",
    "Enter the second date (YYYY-MM-DD): 2025-04-18\n",
    "\n",
    "Time Difference:\n",
    "Days   : 8 days\n",
    "Hours  : 192 hours\n",
    "Minutes: 11520 minutes\n",
    "```\n",
    "\n",
    "---\n"
   ]
  },
  {
   "cell_type": "markdown",
   "id": "0794a29a-2984-4d8c-b7b4-2ef0a50ab0a9",
   "metadata": {},
   "source": [
    "### Q9. Write a Python program that reads a CSV file containing categorical data and converts a specified column to a categorical data type. The program should prompt the user to enter the file path, column name, and category order, and then display the sorted data."
   ]
  },
  {
   "cell_type": "markdown",
   "id": "ba4aa0cb-5180-440c-bf03-5e599196f428",
   "metadata": {},
   "source": [
    "- **Prompts** the user to:\n",
    "  - Enter the **CSV file path**\n",
    "  - Enter the **column name** to convert to categorical\n",
    "  - Enter the **desired category order** (as comma-separated values)\n",
    "- **Converts** the specified column to a categorical type with a custom order\n",
    "- **Sorts** the DataFrame by that column\n",
    "- **Displays** the sorted data\n",
    "\n",
    "---\n",
    "\n",
    "### ✅ **Python Program:**"
   ]
  },
  {
   "cell_type": "code",
   "execution_count": 10,
   "id": "9de48e2c-25d8-4b30-a51f-806f7de2267b",
   "metadata": {},
   "outputs": [
    {
     "name": "stdin",
     "output_type": "stream",
     "text": [
      "Enter the CSV file path:  sample_data.csv\n",
      "Enter the column name to convert to categorical:  Department\n",
      "Enter the category order (comma-separated):  A,B,C\n"
     ]
    },
    {
     "name": "stdout",
     "output_type": "stream",
     "text": [
      "\n",
      "Sorted Data:\n",
      "      Name Department Priority\n",
      "0    Alice        NaN   Medium\n",
      "1      Bob        NaN     High\n",
      "2  Charlie        NaN      Low\n",
      "3    David        NaN     High\n",
      "4      Eve        NaN   Medium\n",
      "5    Frank        NaN      Low\n",
      "6    Grace        NaN     High\n"
     ]
    }
   ],
   "source": [
    "# import pandas as pd\n",
    "\n",
    "# Step 1: Get user input\n",
    "file_path = input(\"Enter the CSV file path: \")\n",
    "column_name = input(\"Enter the column name to convert to categorical: \")\n",
    "category_order_input = input(\"Enter the category order (comma-separated): \")\n",
    "\n",
    "# Step 2: Convert the category order string to a list\n",
    "category_order = [cat.strip() for cat in category_order_input.split(',')]\n",
    "\n",
    "try:\n",
    "    # Step 3: Read the CSV file\n",
    "    df = pd.read_csv(file_path)\n",
    "\n",
    "    # Step 4: Convert the specified column to a categorical type with ordered categories\n",
    "    df[column_name] = pd.Categorical(df[column_name],\n",
    "                                      categories=category_order,\n",
    "                                      ordered=True)\n",
    "\n",
    "    # Step 5: Sort the DataFrame based on the categorical column\n",
    "    df_sorted = df.sort_values(by=column_name)\n",
    "\n",
    "    # Step 6: Display the sorted DataFrame\n",
    "    print(\"\\nSorted Data:\")\n",
    "    print(df_sorted)\n",
    "\n",
    "except FileNotFoundError:\n",
    "    print(\"❌ Error: File not found. Please check the file path.\")\n",
    "except KeyError:\n",
    "    print(f\"❌ Error: Column '{column_name}' not found in the CSV.\")\n",
    "except Exception as e:\n",
    "    print(f\"❌ An unexpected error occurred: {e}\")"
   ]
  },
  {
   "cell_type": "markdown",
   "id": "cfc9770f-a897-4bab-8aa8-8944b7c0fd1e",
   "metadata": {},
   "source": [
    "---\n",
    "\n",
    "### 🧪 **Example Scenario:**\n",
    "\n",
    "If your CSV has a column like `\"Priority\"` with values like:\n",
    "```\n",
    "High, Medium, Low\n",
    "```\n",
    "\n",
    "And you want to sort it as: `[\"High\", \"Medium\", \"Low\"]`, then you'd enter:\n",
    "```\n",
    "Enter the category order (comma-separated): High, Medium, Low\n",
    "```\n",
    "\n",
    "---\n",
    "\n",
    "Let me know if you want a version that works with Excel files too (`.xlsx`) or that saves the sorted output!"
   ]
  },
  {
   "cell_type": "markdown",
   "id": "365f692f-be09-4e23-b235-ba2c6546ed4f",
   "metadata": {},
   "source": [
    "### Q10. Write a Python program that reads a CSV file containing sales data for different products and visualizes the data using a stacked bar chart to show the sales of each product category over time. The program should prompt the user to enter the file path and display the chart."
   ]
  },
  {
   "cell_type": "markdown",
   "id": "a1111a30-fcb0-47de-bbb1-5ee7bdb636e8",
   "metadata": {},
   "source": [
    "- Prompts the user for a **CSV file path**\n",
    "- Assumes the CSV contains **sales data** with at least:\n",
    "  - A **date/time column**\n",
    "  - A **product category column**\n",
    "  - A **sales/amount column**\n",
    "- Creates a **stacked bar chart** showing how each **product category's sales change over time**\n",
    "\n",
    "---\n",
    "\n",
    "### ✅ **Python Program:**"
   ]
  },
  {
   "cell_type": "code",
   "execution_count": 13,
   "id": "bd688d62-7116-4c91-8124-f41413385361",
   "metadata": {},
   "outputs": [
    {
     "name": "stdin",
     "output_type": "stream",
     "text": [
      "Enter the CSV file path:  sales_data.csv\n"
     ]
    },
    {
     "name": "stdout",
     "output_type": "stream",
     "text": [
      "\n",
      "Available columns: ['Date', 'Category', 'Sales']\n"
     ]
    },
    {
     "name": "stdin",
     "output_type": "stream",
     "text": [
      "Enter the column name for date/time:  Date\n",
      "Enter the column name for product category:  Category\n",
      "Enter the column name for sales/amount:  Sales\n"
     ]
    },
    {
     "data": {
      "image/png": "[encoded data removed]",
      "text/plain": [
       "<Figure size 1200x600 with 1 Axes>"
      ]
     },
     "metadata": {},
     "output_type": "display_data"
    }
   ],
   "source": [
    "import pandas as pd\n",
    "import matplotlib.pyplot as plt\n",
    "\n",
    "# Step 1: User Input\n",
    "file_path = input(\"Enter the CSV file path: \")\n",
    "\n",
    "# Step 2: Read the CSV\n",
    "try:\n",
    "    df = pd.read_csv(file_path)\n",
    "\n",
    "    # Step 3: Display sample columns for guidance\n",
    "    print(\"\\nAvailable columns:\", list(df.columns))\n",
    "\n",
    "    # Step 4: Ask for column names\n",
    "    date_col = input(\"Enter the column name for date/time: \")\n",
    "    category_col = input(\"Enter the column name for product category: \")\n",
    "    sales_col = input(\"Enter the column name for sales/amount: \")\n",
    "\n",
    "    # Step 5: Convert date column to datetime\n",
    "    df[date_col] = pd.to_datetime(df[date_col])\n",
    "\n",
    "    # Optional: Group by month or year if date is daily\n",
    "    df['Period'] = df[date_col].dt.to_period('M')  # Group by Month\n",
    "\n",
    "    # Step 6: Group and pivot the data for stacked bar chart\n",
    "    grouped = df.groupby(['Period', category_col])[sales_col].sum().unstack().fillna(0)\n",
    "\n",
    "    # Step 7: Plot\n",
    "    grouped.plot(kind='bar', stacked=True, figsize=(12, 6))\n",
    "\n",
    "    plt.title('Sales by Product Category Over Time')\n",
    "    plt.xlabel('Time (Month)')\n",
    "    plt.ylabel('Sales')\n",
    "    plt.legend(title=category_col, bbox_to_anchor=(1.05, 1), loc='upper left')\n",
    "    plt.tight_layout()\n",
    "    plt.grid(True)\n",
    "    plt.show()\n",
    "\n",
    "except FileNotFoundError:\n",
    "    print(\"❌ Error: File not found. Please check the path and try again.\")\n",
    "except Exception as e:\n",
    "    print(f\"❌ An error occurred: {e}\")"
   ]
  },
  {
   "cell_type": "markdown",
   "id": "7285b2b2-1f39-4a76-beab-2b558d4544f9",
   "metadata": {},
   "source": [
    "---\n",
    "\n",
    "### 🧠 Expected CSV Structure:\n",
    "\n",
    "| Date       | Category  | Sales  |\n",
    "|------------|-----------|--------|\n",
    "| 2024-01-01 | Electronics | 1500  |\n",
    "| 2024-01-01 | Furniture   | 1200  |\n",
    "| 2024-02-01 | Electronics | 1700  |\n",
    "| 2024-02-01 | Furniture   | 1300  |\n",
    "\n",
    "---\n",
    "\n"
   ]
  },
  {
   "cell_type": "markdown",
   "id": "5aa7b047-74c4-4508-8c4e-9bd2ddf04ae9",
   "metadata": {},
   "source": [
    "### Q11. You are given a CSV file containing student data that includes the student ID and their test score. Write a Python program that reads the CSV file, calculates the mean, median, and mode of the test scores, and displays the results in a table. \n",
    "\n",
    "#### The program should do the following:\n",
    "- Prompt the user to enter the file path of the CSV file containing the student dataR\n",
    "- Read the CSV file into a Pandas DataFrameR\n",
    "- Calculate the mean, median, and mode of the test scores using Pandas toolsR\n",
    "- Display the mean, median, and mode in a table.\n",
    "\n",
    "#### Assume the CSV file contains the following columns:\n",
    "- Student ID: The ID of the student.\n",
    "- Test Score: The score of the student's test.\n",
    "  \n",
    "#### Example usage of the program:\n",
    "\n",
    "#### Enter the file path of the CSV file containing the student data: student_data.csv\n",
    "\n",
    "| Statistic | Value |\n",
    "|-----------|--------|\n",
    "| Mean | 79.6 |\n",
    "| Median | 82 |\n",
    "| Mode | 85, 90 |\n",
    "\n",
    "#### Assume that the CSV file student_data.csv contains the following data:\n",
    "|Student ID|Test Score|\n",
    "|----------|----------|\n",
    "|1|85|\n",
    "|2|90|\n",
    "|3|80|\n",
    "|4|75|\n",
    "|5|85|\n",
    "|6|82|\n",
    "|7|78|\n",
    "|8|85|\n",
    "|9|90|\n",
    "|10|85|\n",
    "\n",
    "#### The program should calculate the mean, median, and mode of the test scores and display the results in a table."
   ]
  },
  {
   "cell_type": "markdown",
   "id": "ee716461-0884-4b12-8ab9-3bec7aef1239",
   "metadata": {},
   "source": [
    "Here's a complete Python program that:\n",
    "\n",
    "- Reads a CSV file with student test scores\n",
    "- Calculates **mean**, **median**, and **mode**\n",
    "- Displays the results neatly in a **text-based table**\n",
    "\n",
    "---\n",
    "\n",
    "## ✅ **Python Program:**"
   ]
  },
  {
   "cell_type": "code",
   "execution_count": 12,
   "id": "7997483b-fa21-4b1f-bfb4-e5994fef5c39",
   "metadata": {},
   "outputs": [
    {
     "name": "stdin",
     "output_type": "stream",
     "text": [
      "Enter the file path of the CSV file containing the student data:  student_data.csv\n"
     ]
    },
    {
     "name": "stdout",
     "output_type": "stream",
     "text": [
      "\n",
      "+-------------+---------+\n",
      "| Statistic   |   Value |\n",
      "+=============+=========+\n",
      "| Mean        |    83.5 |\n",
      "+-------------+---------+\n",
      "| Median      |    85   |\n",
      "+-------------+---------+\n",
      "| Mode        |    85   |\n",
      "+-------------+---------+\n"
     ]
    }
   ],
   "source": [
    "import pandas as pd\n",
    "from tabulate import tabulate\n",
    "\n",
    "# Prompt user for file path\n",
    "file_path = input(\"Enter the file path of the CSV file containing the student data: \")\n",
    "\n",
    "try:\n",
    "    # Read the CSV file\n",
    "    df = pd.read_csv(file_path)\n",
    "\n",
    "    # Calculate statistics\n",
    "    mean_score = round(df['Test Score'].mean(), 2)\n",
    "    median_score = round(df['Test Score'].median(), 2)\n",
    "    mode_series = df['Test Score'].mode()\n",
    "    mode_score = ', '.join(str(val) for val in mode_series)\n",
    "\n",
    "    # Prepare data for table display\n",
    "    stats = [\n",
    "        [\"Mean\", mean_score],\n",
    "        [\"Median\", median_score],\n",
    "        [\"Mode\", mode_score]\n",
    "    ]\n",
    "\n",
    "    # Display as table\n",
    "    print(\"\\n\" + tabulate(stats, headers=[\"Statistic\", \"Value\"], tablefmt=\"grid\"))\n",
    "\n",
    "except FileNotFoundError:\n",
    "    print(\"❌ File not found. Please check the path.\")\n",
    "except KeyError:\n",
    "    print(\"❌ 'Test Score' column not found in the file.\")\n",
    "except Exception as e:\n",
    "    print(\"An error occurred:\", e)"
   ]
  },
  {
   "cell_type": "markdown",
   "id": "698fd660-4d56-4d51-bff5-aeff4395663e",
   "metadata": {},
   "source": [
    "---\n",
    "\n",
    "## 📝 **Sample CSV (`student_data.csv`)**:\n",
    "\n",
    "You can create this file with the following content:\n",
    "\n",
    "```\n",
    "Student ID,Test Score\n",
    "1,85\n",
    "2,90\n",
    "3,80\n",
    "4,75\n",
    "5,85\n",
    "6,82\n",
    "7,78\n",
    "8,85\n",
    "9,90\n",
    "10,85\n",
    "```\n",
    "\n",
    "---\n",
    "\n",
    "## 🖥️ **Example Output**:\n",
    "\n",
    "```\n",
    "Enter the file path of the CSV file containing the student data: student_data.csv\n",
    "\n",
    "+-----------+--------+\n",
    "| Statistic | Value  |\n",
    "+-----------+--------+\n",
    "| Mean      | 83.5   |\n",
    "| Median    | 85.0   |\n",
    "| Mode      | 85     |\n",
    "+-----------+--------+\n",
    "```"
   ]
  }
 ],
 "metadata": {
  "kernelspec": {
   "display_name": "Python 3 (ipykernel)",
   "language": "python",
   "name": "python3"
  },
  "language_info": {
   "codemirror_mode": {
    "name": "ipython",
    "version": 3
   },
   "file_extension": ".py",
   "mimetype": "text/x-python",
   "name": "python",
   "nbconvert_exporter": "python",
   "pygments_lexer": "ipython3",
   "version": "3.13.1"
  }
 },
 "nbformat": 4,
 "nbformat_minor": 5
}
