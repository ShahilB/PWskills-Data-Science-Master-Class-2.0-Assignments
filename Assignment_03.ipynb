{
 "cells": [
  {
   "cell_type": "markdown",
   "id": "b8dcfaf4-5c47-4b8e-9e4d-ab13eeee4500",
   "metadata": {
    "tags": []
   },
   "source": [
    "## Assigment no. 03"
   ]
  },
  {
   "cell_type": "raw",
   "id": "102b18b9-51ab-489f-9ee3-8d5cf783aa02",
   "metadata": {},
   "source": [
    "Q1. Which keyword is used to create a function? Create a function to return a list of odd numbers in the\n",
    "range of 1 to 25.\n"
   ]
  },
  {
   "cell_type": "markdown",
   "id": "55510f0a-1b38-4379-81f9-1054745a2edd",
   "metadata": {},
   "source": [
    "\"Def\" keyword is used to create a function.\n"
   ]
  },
  {
   "cell_type": "code",
   "execution_count": 9,
   "id": "3661ac44-8909-41d9-aede-613d59dccba9",
   "metadata": {},
   "outputs": [
    {
     "name": "stdout",
     "output_type": "stream",
     "text": [
      "[1, 3, 5, 7, 9, 11, 13, 15, 17, 19, 21, 23]\n"
     ]
    }
   ],
   "source": [
    "def odd(z):\n",
    "    s=[]\n",
    "    for i in range(1,z):\n",
    "        if i%2!=0: \n",
    "            s.append(i)\n",
    "    return s\n",
    "    \n",
    "x=odd(25)\n",
    "print(x)"
   ]
  },
  {
   "cell_type": "markdown",
   "id": "24454cbd-22b3-4bed-a916-1f3e9bfa5445",
   "metadata": {},
   "source": [
    "Q2. Why *args and **kwargs is used in some functions? Create a function each for *args and **kwargs\n",
    "to demonstrate their use.\n"
   ]
  },
  {
   "cell_type": "markdown",
   "id": "63202dc6-a01d-4b7b-b492-ebb3895d914b",
   "metadata": {},
   "source": [
    "The special syntax *args in function definitions in Python is used to pass a variable number of arguments to a function.And it returns in list form.\n"
   ]
  },
  {
   "cell_type": "code",
   "execution_count": 1,
   "id": "4a3aa2cd-ee3b-4c70-ba11-8e1a372ce2f7",
   "metadata": {},
   "outputs": [
    {
     "name": "stdout",
     "output_type": "stream",
     "text": [
      "(1, 23, 3, 4, 5, 6, 7)\n"
     ]
    }
   ],
   "source": [
    "def new(*args):\n",
    "    return args\n",
    "\n",
    "print(new(1,23,3,4,5,6,7))"
   ]
  },
  {
   "cell_type": "markdown",
   "id": "10d2484f-5fb7-4fd5-9420-64d5e13659cb",
   "metadata": {},
   "source": [
    "It is also a special syntax **kwrgs in function definitions in Python is used to pass a keyworded, it returns in dictionary type "
   ]
  },
  {
   "cell_type": "code",
   "execution_count": 2,
   "id": "7a9b2fb9-d9f0-44cc-a085-b8a4638cf797",
   "metadata": {},
   "outputs": [
    {
     "name": "stdout",
     "output_type": "stream",
     "text": [
      "{'a': 1, 'b': 2, 'c': 3, 'd': 4, 'e': 5, 'f': 6}\n"
     ]
    }
   ],
   "source": [
    "def new1(**kwrgs):\n",
    "    return kwrgs\n",
    "\n",
    "print(new1(a=1,b=2,c=3,d=4,e=5,f=6))\n"
   ]
  },
  {
   "cell_type": "raw",
   "id": "d532e3cc-7105-4cf3-ab1c-e60e54ce1388",
   "metadata": {},
   "source": [
    "Q3. What is an iterator in python? Name the method used to initialise the iterator object and the method\n",
    "used for iteration. Use these methods to print the first five elements of the given list [2, 4, 6, 8, 10, 12, 14,16, 18, 20].\n"
   ]
  },
  {
   "cell_type": "raw",
   "id": "5da286ad-51bc-44aa-9265-d1e9059a0392",
   "metadata": {},
   "source": [
    "In Python, an iterator is an object that allows you to iterate over collections of data, such as lists, tuples, dictionaries, and sets.\n",
    "\n",
    "An iterator is an object that contains a countable number of values.\n",
    "\n",
    "An iterator is an object that can be iterated upon, meaning that you can traverse through all the values\n"
   ]
  },
  {
   "cell_type": "markdown",
   "id": "1d8e0125-2c0e-418e-bcc8-15d8253e709e",
   "metadata": {},
   "source": [
    "To initialise the iterator object we need you \"iter()\" method & the method used to iterate is \"next()\""
   ]
  },
  {
   "cell_type": "code",
   "execution_count": 15,
   "id": "be00e572-71f8-4851-b7eb-a6aa8f920f58",
   "metadata": {},
   "outputs": [
    {
     "name": "stdout",
     "output_type": "stream",
     "text": [
      "2\n",
      "4\n",
      "6\n",
      "8\n",
      "10\n"
     ]
    }
   ],
   "source": [
    "a=[2, 4, 6, 8, 10, 12, 14,16, 18, 20]\n",
    "\n",
    "n=iter(a)  # n is the iterator object \n",
    "\n",
    "for i in range(5):\n",
    "    print(next(n))    # to iterate n obeject we used next() method function \n"
   ]
  },
  {
   "cell_type": "markdown",
   "id": "a946c6b2-6cc7-44db-a59d-2c9cade4c038",
   "metadata": {},
   "source": [
    "Q4. What is a generator function in python? Why yield keyword is used? Give an example of a generator\n",
    "function.\n",
    "\n"
   ]
  },
  {
   "cell_type": "markdown",
   "id": "3b91e0c9-dfa5-4e8c-9f6d-04cb7f1db041",
   "metadata": {},
   "source": [
    "Generator:\n",
    "A generator function is a special type of function in Python that returns an iterator called a generator. It allows you to define an iterable sequence by writing a function that generates the values of the sequence on-the-fly, rather than storing them in memory all at once.\n",
    "\n",
    "Yield : \n",
    "In Python, you can create a generator by using the \"yield\" statement / keyword in a function. The yield statement returns a value from the generator and suspends the execution of the function until the next value is requested.\n",
    "\n"
   ]
  },
  {
   "cell_type": "code",
   "execution_count": 13,
   "id": "d3504ab2-28d6-48b5-88d2-ea57dc46300d",
   "metadata": {},
   "outputs": [
    {
     "name": "stdout",
     "output_type": "stream",
     "text": [
      "<generator object gen at 0x7f6f952fdcb0>\n",
      "0\n",
      "1\n",
      "2\n",
      "3\n",
      "4\n",
      "5\n"
     ]
    }
   ],
   "source": [
    "def gen(n):\n",
    "    for i in range(n):\n",
    "        yield i\n",
    "        \n",
    "b=gen(10)\n",
    "\n",
    "print(b)\n",
    "\n",
    "print(b.__next__())\n",
    "print(b.__next__())\n",
    "print(b.__next__())\n",
    "print(b.__next__())\n",
    "print(b.__next__())\n",
    "print(b.__next__())\n",
    "\n"
   ]
  },
  {
   "cell_type": "markdown",
   "id": "6ef990bf-c4f2-4209-92eb-67f81cc27fb5",
   "metadata": {},
   "source": [
    "Q5. Create a generator function for prime numbers less than 1000. Use the next() method to print the\n",
    "first 20 prime numbers.\n"
   ]
  },
  {
   "cell_type": "code",
   "execution_count": 3,
   "id": "f79b2e72-1892-4433-979d-2ff9fcea98f0",
   "metadata": {},
   "outputs": [
    {
     "name": "stdout",
     "output_type": "stream",
     "text": [
      "2\n",
      "3\n",
      "5\n",
      "7\n",
      "11\n",
      "13\n",
      "17\n",
      "19\n",
      "23\n",
      "29\n",
      "31\n",
      "37\n",
      "41\n",
      "43\n",
      "47\n",
      "53\n",
      "59\n",
      "61\n",
      "67\n",
      "71\n"
     ]
    }
   ],
   "source": [
    "def prime_generator():\n",
    "    primes = []\n",
    "    num = 2\n",
    "    while num < 1000:\n",
    "        is_prime = True\n",
    "        for prime in primes:\n",
    "            if prime * prime > num:\n",
    "                break\n",
    "            if num % prime == 0:\n",
    "                is_prime = False\n",
    "                break\n",
    "        if is_prime:\n",
    "            primes.append(num)\n",
    "            yield num\n",
    "        num += 1\n",
    "\n",
    "# Create the prime number generator\n",
    "prime_gen = prime_generator()\n",
    "\n",
    "# Print the first 20 prime numbers using the next() method\n",
    "for i in range(20):\n",
    "    prime = next(prime_gen)\n",
    "    print(prime)\n"
   ]
  },
  {
   "cell_type": "markdown",
   "id": "c265a7c0-4781-47db-a5e6-94e0bfa1cbad",
   "metadata": {},
   "source": [
    "Q6. Write a python program to print the first 10 Fibonacci numbers using a while loop.\n"
   ]
  },
  {
   "cell_type": "code",
   "execution_count": 1,
   "id": "7ecb319d-2531-4703-a904-de164ea9ec1e",
   "metadata": {},
   "outputs": [
    {
     "name": "stdout",
     "output_type": "stream",
     "text": [
      "0\n",
      "1\n",
      "1\n",
      "2\n",
      "3\n",
      "5\n",
      "8\n",
      "13\n",
      "21\n",
      "34\n",
      "55\n"
     ]
    }
   ],
   "source": [
    "a,b=0,1\n",
    "n=0\n",
    "while n<=10:\n",
    "    print(a)\n",
    "    a,b= b, a+b\n",
    "    n+=1"
   ]
  },
  {
   "cell_type": "markdown",
   "id": "11cfdb31-2d68-4c7f-93c6-c0f117e27d66",
   "metadata": {},
   "source": [
    "Q7. Write a List Comprehension to iterate through the given string: ‘pwskills’.\n",
    "Expected output: ['p', 'w', 's', 'k', 'i', 'l', 'l', 's']\n"
   ]
  },
  {
   "cell_type": "code",
   "execution_count": 29,
   "id": "e39d82c9-8ddb-4b62-b177-ae8a14d96359",
   "metadata": {},
   "outputs": [
    {
     "name": "stdout",
     "output_type": "stream",
     "text": [
      "['p', 'w', 's', 'k', 'i', 'l', 'l', 's']\n"
     ]
    }
   ],
   "source": [
    "new=\"pwskills\"\n",
    "ls =[i for i in new ]\n",
    "print(ls)"
   ]
  },
  {
   "cell_type": "markdown",
   "id": "198d6b9a-af05-419f-9fa5-6ae55b82f910",
   "metadata": {},
   "source": [
    "Q8. Write a python program to check whether a given number is Palindrome or not using a while loop.\n"
   ]
  },
  {
   "cell_type": "code",
   "execution_count": 8,
   "id": "a158c5e0-153d-4418-9dcd-f35bcf4e13c9",
   "metadata": {},
   "outputs": [
    {
     "name": "stdout",
     "output_type": "stream",
     "text": [
      "1221 is Palindrome\n"
     ]
    }
   ],
   "source": [
    "num = 1221\n",
    "temp = num\n",
    "reverse = 0\n",
    "while temp > 0:\n",
    "    remainder = temp % 10\n",
    "    reverse = (reverse * 10) + remainder\n",
    "    temp = temp // 10\n",
    "if num == reverse:\n",
    "  print(f'{num} is Palindrome')\n",
    "else:\n",
    "  print(f'{num} is Not Palindrome')"
   ]
  },
  {
   "cell_type": "markdown",
   "id": "718028bf-785a-4f64-877c-f3751e380e2c",
   "metadata": {},
   "source": [
    "Write a code to print odd numbers from 1 to 100 using list comprehension.\n"
   ]
  },
  {
   "cell_type": "code",
   "execution_count": 3,
   "id": "3ae6d66b-bcee-451f-8c9e-c940c836eca9",
   "metadata": {},
   "outputs": [
    {
     "name": "stdout",
     "output_type": "stream",
     "text": [
      "[1, 3, 5, 7, 9, 11, 13, 15, 17, 19, 21, 23, 25, 27, 29, 31, 33, 35, 37, 39, 41, 43, 45, 47, 49, 51, 53, 55, 57, 59, 61, 63, 65, 67, 69, 71, 73, 75, 77, 79, 81, 83, 85, 87, 89, 91, 93, 95, 97, 99]\n"
     ]
    }
   ],
   "source": [
    "new=[i for i in range(101) if i%2!=0]\n",
    "print(new)"
   ],
  {
   "cell_type": "code",
   "execution_count": null,
   "id": "cc50fc01-83ce-4134-a68f-2b2c6b23b890",
   "metadata": {},
   "outputs": [],
   "source": []
  }
 ],
 "metadata": {
  "kernelspec": {
   "display_name": "Python 3 (ipykernel)",
   "language": "python",
   "name": "python3"
  },
  "language_info": {
   "codemirror_mode": {
    "name": "ipython",
    "version": 3
   },
   "file_extension": ".py",
   "mimetype": "text/x-python",
   "name": "python",
   "nbconvert_exporter": "python",
   "pygments_lexer": "ipython3",
   "version": "3.10.8"
  }
 },
 "nbformat": 4,
 "nbformat_minor": 5
}
