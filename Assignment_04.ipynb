{
 "cells": [
  {
   "cell_type": "markdown",
   "id": "23239b61-db73-4990-9703-1b921785294a",
   "metadata": {
    "tags": []
   },
   "source": [
    "## Assignment No.04\n"
   ]
  },
  {
   "cell_type": "markdown",
   "id": "6a031337-ad87-4f96-a132-b9d5980afb57",
   "metadata": {},
   "source": [
    "Q1. Create a python program to sort the given list of tuples based on integer value using a\n",
    "lambda function.\n",
    "[('Sachin Tendulkar', 34357), ('Ricky Ponting', 27483), ('Jack Kallis', 25534), ('Virat Kohli', 24936)]\n"
   ]
  },
  {
   "cell_type": "code",
   "execution_count": 4,
   "id": "2f9a90af-2b2e-420e-9645-dfb4aac6b736",
   "metadata": {
    "tags": []
   },
   "outputs": [
    {
     "name": "stdout",
     "output_type": "stream",
     "text": [
      "('Virat Kohli', 24936)\n",
      "('Jack Kallis', 25534)\n",
      "('Ricky Ponting', 27483)\n",
      "('Sachin Tendulkar', 34357)\n"
     ]
    }
   ],
   "source": [
    "data = [('Sachin Tendulkar', 34357), ('Ricky Ponting', 27483), ('Jack Kallis', 25534), ('Virat Kohli', 24936)]\n",
    "\n",
    "sorted_data = sorted(data, key=lambda x: x[1])\n",
    "\n",
    "for item in sorted_data:\n",
    "    print(item)"
   ]
  },
  {
   "cell_type": "markdown",
   "id": "bab878aa-d2af-4d62-b558-7beab4298d43",
   "metadata": {
    "tags": []
   },
   "source": [
    "Q2. Write a Python Program to find the squares of all the numbers in the given list of integers using\n",
    "lambda and map functions.\n",
    "[1, 2, 3, 4, 5, 6, 7, 8, 9, 10]\n"
   ]
  },
  {
   "cell_type": "code",
   "execution_count": 10,
   "id": "563782c0-ef65-4196-9fab-b28e9808d6fd",
   "metadata": {
    "tags": []
   },
   "outputs": [
    {
     "name": "stdout",
     "output_type": "stream",
     "text": [
      "[1, 4, 9, 16, 25, 36, 49, 64, 81, 100]\n"
     ]
    }
   ],
   "source": [
    "a=[1, 2, 3, 4, 5, 6, 7, 8, 9, 10]\n",
    "\n",
    "z=list(map(lambda x: x**2,a))\n",
    "print(z)\n",
    "\n"
   ]
  },
  {
   "cell_type": "markdown",
   "id": "36fc1763-015c-4219-a735-81e7755d632c",
   "metadata": {},
   "source": [
    "Q3. Write a python program to convert the given list of integers into a tuple of strings. Use map and\n",
    "lambda functions\n",
    "Given String: [1, 2, 3, 4, 5, 6, 7, 8, 9, 10]\n"
   ]
  },
  {
   "cell_type": "code",
   "execution_count": 7,
   "id": "fdc3f0cb-89c2-4bc2-ab07-01097e4f13b7",
   "metadata": {},
   "outputs": [
    {
     "name": "stdout",
     "output_type": "stream",
     "text": [
      "('1', '2', '3', '4', '5', '6', '7', '8', '9', '10')\n"
     ]
    }
   ],
   "source": [
    "list=[1, 2, 3, 4, 5, 6, 7, 8, 9, 10]\n",
    "\n",
    "new_Tuple= tuple(map(lambda x: str(x) , list )) \n",
    "\n",
    "print(new_Tuple)"
   ]
  },
  {
   "cell_type": "markdown",
   "id": "fec2601b-7277-47ce-9c5d-8d45afaa7b14",
   "metadata": {},
   "source": [
    "Q4. Write a python program using reduce function to compute the product of a list containing numbers\n",
    "from 1 to 25.\n"
   ]
  },
  {
   "cell_type": "code",
   "execution_count": 1,
   "id": "305224da-a49c-4554-a871-b202aeca614a",
   "metadata": {},
   "outputs": [
    {
     "name": "stdout",
     "output_type": "stream",
     "text": [
      "15511210043330985984000000\n"
     ]
    }
   ],
   "source": [
    "from functools import reduce\n",
    "\n",
    "new_list =(range(1,26))\n",
    "\n",
    "list1= list(new_list)\n",
    "\n",
    "product= reduce(lambda x,y : x*y , list1)\n",
    "\n",
    "print(product)\n",
    "\n",
    "    "
   ]
  },
  {
   "cell_type": "markdown",
   "id": "efee770f-468e-4c14-b1ce-bd82f710c6b4",
   "metadata": {},
   "source": [
    "\n",
    "Q5. Write a python program to filter the numbers in a given list that are divisible by 2 and 3 using the\n",
    "filter function.\n",
    "[2, 3, 6, 9, 27, 60, 90, 120, 55, 46]\n"
   ]
  },
  {
   "cell_type": "code",
   "execution_count": 4,
   "id": "c75f5e81-3724-45bd-a972-db51fd0b3f4e",
   "metadata": {},
   "outputs": [
    {
     "name": "stdout",
     "output_type": "stream",
     "text": [
      "[6, 60, 90, 120]\n"
     ]
    }
   ],
   "source": [
    "a=[2, 3, 6, 9, 27, 60, 90, 120, 55, 46]\n",
    "\n",
    "new_list= list(filter(lambda x: x%2==0 and x%3==0, a)) \n",
    "\n",
    "print(new_list)"
   ]
  },
  {
   "cell_type": "markdown",
   "id": "546c35e2-073f-4edb-8d1b-134c1076afac",
   "metadata": {},
   "source": [
    "Q6. Write a python program to find palindromes in the given list of strings using lambda and filter\n",
    "function.\n",
    "['python', 'php', 'aba', 'radar', 'level']"
   ]
  },
  {
   "cell_type": "code",
   "execution_count": 27,
   "id": "fc2dbbe7-55e2-4939-94e8-4a220907017e",
   "metadata": {},
   "outputs": [
    {
     "name": "stdout",
     "output_type": "stream",
     "text": [
      "['php', 'aba', 'radar', 'level']\n"
     ]
    }
   ],
   "source": [
    "new= ['python', 'php', 'aba', 'radar', 'level']\n",
    "\n",
    "new_pd= list(filter(lambda x: x==x[::-1] , new))\n",
    "\n",
    "print(new_pd)\n"
   ]
  },
  {
   "cell_type": "code",
   "execution_count": null,
   "id": "e47f34e5-e3f8-48a1-bb75-b622335feccc",
   "metadata": {},
   "outputs": [],
   "source": []
  }
 ],
 "metadata": {
  "kernelspec": {
   "display_name": "Python 3 (ipykernel)",
   "language": "python",
   "name": "python3"
  },
  "language_info": {
   "codemirror_mode": {
    "name": "ipython",
    "version": 3
   },
   "file_extension": ".py",
   "mimetype": "text/x-python",
   "name": "python",
   "nbconvert_exporter": "python",
   "pygments_lexer": "ipython3",
   "version": "3.10.8"
  }
 },
 "nbformat": 4,
 "nbformat_minor": 5
}
