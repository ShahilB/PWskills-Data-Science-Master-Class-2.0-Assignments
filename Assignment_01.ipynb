{
 "cells": [
  {
   "cell_type": "markdown",
   "id": "9f3c23dc-16d5-4740-bd73-0b420286e055",
   "metadata": {},
   "source": [
    "PW Skills Master Class 2.0- Assignment 01"
   ]
  },
  {
   "cell_type": "markdown",
   "id": "1e8ed257-3afc-4393-8a22-2505f222dcba",
   "metadata": {},
   "source": [
    "Q1. Create one variable containing following type of data:\n",
    "(i) string\n",
    "(ii) list\n",
    "(iii) float\n",
    "(iv) tuple"
   ]
  },
  {
   "cell_type": "code",
   "execution_count": 5,
   "id": "c5b8772a-f641-4fb1-b431-e6f479946198",
   "metadata": {},
   "outputs": [
    {
     "name": "stdout",
     "output_type": "stream",
     "text": [
      "hi im shahil\n"
     ]
    },
    {
     "data": {
      "text/plain": [
       "str"
      ]
     },
     "execution_count": 5,
     "metadata": {},
     "output_type": "execute_result"
    }
   ],
   "source": [
    "string=\"hi im shahil\"\n",
    "print(string)\n",
    "type(string)"
   ]
  },
  {
   "cell_type": "code",
   "execution_count": 6,
   "id": "57133213-04b4-4ce9-a801-dbdfa525d8a6",
   "metadata": {},
   "outputs": [
    {
     "name": "stdout",
     "output_type": "stream",
     "text": [
      "[1, 2, 3, 'numbers', 1.32, 'shahil']\n"
     ]
    },
    {
     "data": {
      "text/plain": [
       "list"
      ]
     },
     "execution_count": 6,
     "metadata": {},
     "output_type": "execute_result"
    }
   ],
   "source": [
    "list=[1,2,3,\"numbers\",1.32,\"shahil\"]\n",
    "print(list)\n",
    "type(list)"
   ]
  },
  {
   "cell_type": "code",
   "execution_count": 7,
   "id": "164bbe72-dd6d-4f29-8f78-939bf33da8c5",
   "metadata": {},
   "outputs": [
    {
     "data": {
      "text/plain": [
       "float"
      ]
     },
     "execution_count": 7,
     "metadata": {},
     "output_type": "execute_result"
    }
   ],
   "source": [
    "float=12.345\n",
    "type(float)\n"
   ]
  },
  {
   "cell_type": "code",
   "execution_count": 8,
   "id": "686935aa-c1d8-4972-a271-fcd109ba9872",
   "metadata": {},
   "outputs": [
    {
     "name": "stdout",
     "output_type": "stream",
     "text": [
      "(1, 2, 3, 'hello', 23.4, 'hello again')\n"
     ]
    },
    {
     "data": {
      "text/plain": [
       "tuple"
      ]
     },
     "execution_count": 8,
     "metadata": {},
     "output_type": "execute_result"
    }
   ],
   "source": [
    "tuple=(1,2,3,\"hello\",23.4,\"hello again\")\n",
    "print(tuple)\n",
    "type(tuple)"
   ]
  },
  {
   "cell_type": "code",
   "execution_count": null,
   "id": "e5482cb0-958d-4208-b182-e4cff86fc4e5",
   "metadata": {},
   "outputs": [],
   "source": []
  },
  {
   "cell_type": "markdown",
   "id": "a03ab89e-11a9-4e4f-82ea-06b13bf561d9",
   "metadata": {},
   "source": [
    "Q2. Given are some following variables containing data:\n",
    "(i) var1 = ‘ ‘\n",
    "(ii) var2 = ‘[ DS , ML , Python]’\n",
    "(iii) var3 = [ ‘DS’ , ’ML’ , ‘Python’ ]\n",
    "(iv) var4 = 1.\n",
    "\n",
    "What will be the data type of the above given variable."
   ]
  },
  {
   "cell_type": "code",
   "execution_count": 11,
   "id": "4951cded-6e7d-43fc-8b01-a163df43446d",
   "metadata": {},
   "outputs": [
    {
     "data": {
      "text/plain": [
       "str"
      ]
     },
     "execution_count": 11,
     "metadata": {},
     "output_type": "execute_result"
    }
   ],
   "source": [
    "var1 = ''\n",
    "type(var1)"
   ]
  },
  {
   "cell_type": "code",
   "execution_count": 12,
   "id": "31861e10-ccce-429e-a4aa-c2260eacf801",
   "metadata": {},
   "outputs": [
    {
     "data": {
      "text/plain": [
       "str"
      ]
     },
     "execution_count": 12,
     "metadata": {},
     "output_type": "execute_result"
    }
   ],
   "source": [
    " var2 = '[ DS , ML , Python]'\n",
    "type(var2)"
   ]
  },
  {
   "cell_type": "code",
   "execution_count": 14,
   "id": "e2d696ee-72d6-4200-bde6-a9b81dbc7029",
   "metadata": {},
   "outputs": [
    {
     "data": {
      "text/plain": [
       "list"
      ]
     },
     "execution_count": 14,
     "metadata": {},
     "output_type": "execute_result"
    }
   ],
   "source": [
    "var3 = [ 'DS' , 'ML' , 'Python' ]\n",
    "type(var3)"
   ]
  },
  {
   "cell_type": "code",
   "execution_count": 15,
   "id": "de748c43-2c4a-4c9f-b5f8-c34faa065fa3",
   "metadata": {},
   "outputs": [
    {
     "data": {
      "text/plain": [
       "int"
      ]
     },
     "execution_count": 15,
     "metadata": {},
     "output_type": "execute_result"
    }
   ],
   "source": [
    "var4=1\n",
    "type(var4)\n"
   ]
  },
  {
   "cell_type": "markdown",
   "id": "d17d56fe-3479-40b5-9014-ea5fef35d7c3",
   "metadata": {},
   "source": [
    "Q3. Explain the use of the following operators using an example:\n",
    "(i) /\n",
    "(ii) %\n",
    "(iii) //\n",
    "(iv) **"
   ]
  },
  {
   "cell_type": "code",
   "execution_count": 18,
   "id": "b73b562f-37f8-4b06-93c9-282d014cda77",
   "metadata": {},
   "outputs": [
    {
     "name": "stdout",
     "output_type": "stream",
     "text": [
      "2.0\n"
     ]
    }
   ],
   "source": [
    "#\"/\" is division operator which returns the quotient value along with float point value.\n",
    "\n",
    "a=10\n",
    "b=5\n",
    "c=a/b\n",
    "print(c)"
   ]
  },
  {
   "cell_type": "code",
   "execution_count": 19,
   "id": "f69cd453-b89a-4ebb-9e06-9963066a1446",
   "metadata": {},
   "outputs": [
    {
     "name": "stdout",
     "output_type": "stream",
     "text": [
      "0\n"
     ]
    }
   ],
   "source": [
    "# \"%\" modulus operator is which returns the remainder value in any  division operation.\n",
    "\n",
    "c=a%b\n",
    "print(c)\n"
   ]
  },
  {
   "cell_type": "code",
   "execution_count": 4,
   "id": "1c8da98e-0d3f-412e-bc00-8f51d9252e5c",
   "metadata": {},
   "outputs": [
    {
     "name": "stdout",
     "output_type": "stream",
     "text": [
      "3\n"
     ]
    }
   ],
   "source": [
    "# \"//\" floor divison operator use to return the quotient of division as an integer, neglecting the decimal part\n",
    "\n",
    "a=7 \n",
    "b=2      #here if we had used \"/\" operator then the result would have been \"3.5\"\n",
    "c=a//b\n",
    "print(c)"
   ]
  },
  {
   "cell_type": "code",
   "execution_count": 1,
   "id": "213c5677-f927-416c-bbe1-c04b0fa61ce9",
   "metadata": {},
   "outputs": [
    {
     "name": "stdout",
     "output_type": "stream",
     "text": [
      "100000\n"
     ]
    }
   ],
   "source": [
    "# \"**\" this operator use to perform exponentiation which raises the left operand to the power of the right operand\n",
    "\n",
    "a=10\n",
    "b=5\n",
    "c=a**b\n",
    "print(c)\n"
   ]
  },
  {
   "cell_type": "markdown",
   "id": "8871f6e4-4bc9-4086-910f-92de95b54846",
   "metadata": {},
   "source": [
    "Q4. Create a list of length 10 of your choice containing multiple types of data. Using for loop print the\n",
    "element and its data type.\n"
   ]
  },
  {
   "cell_type": "code",
   "execution_count": 3,
   "id": "607a575a-47d2-4baf-b475-8390a4aa97e2",
   "metadata": {},
   "outputs": [
    {
     "name": "stdout",
     "output_type": "stream",
     "text": [
      "1 <class 'int'>\n",
      "2 <class 'int'>\n",
      "3 <class 'int'>\n",
      "hello <class 'str'>\n",
      "22.34 <class 'float'>\n",
      "3 <class 'int'>\n",
      "stop <class 'str'>\n",
      "-88 <class 'int'>\n",
      "True <class 'bool'>\n",
      "False <class 'bool'>\n"
     ]
    }
   ],
   "source": [
    "list=[1,2,3,'hello',22.34,3,'stop',-88,True,False]\n",
    "\n",
    "for items in list:\n",
    "    print(items,type(items))"
   ]
  },
  {
   "cell_type": "markdown",
   "id": "094b8651-7ae9-406f-9d01-4db94c06e829",
   "metadata": {},
   "source": [
    "Q5. Using a while loop, verify if the number A is purely divisible by number B and if so then how many\n",
    "times it can be divisible."
   ]
  },
  {
   "cell_type": "code",
   "execution_count": 15,
   "id": "e91a295d-0902-40c9-923a-1fc24cf84afb",
   "metadata": {},
   "outputs": [
    {
     "name": "stdin",
     "output_type": "stream",
     "text": [
      "Enter the first number (dividend):  200\n",
      "Enter the second number (divisor):  2\n"
     ]
    },
    {
     "name": "stdout",
     "output_type": "stream",
     "text": [
      "200 is divisible by 2 and can be divided 3 times.\n"
     ]
    }
   ],
   "source": [
    "a = int(input(\"Enter the first number (dividend): \"))\n",
    "b = int(input(\"Enter the second number (divisor): \"))\n",
    "\n",
    "c=a # storing the inital input value so that we can print it afteward\n",
    "# the need of \"c\" variable because during the loop process the intial value will be change \n",
    "# Initialize a count variable to keep track of how many times \"a\" is divisible by \"b\"\n",
    "count = 0\n",
    "\n",
    "# Use a while loop to keep dividing \"a\" by \"b\" until it is no longer divisible\n",
    "while a % b == 0:\n",
    "    a /= b\n",
    "    count += 1\n",
    "\n",
    "# Check if \"a\" is completely divisible by \"b\"\n",
    "if count > 0:\n",
    "    print(f\"{c} is divisible by {b} and can be divided {count} times.\")\n",
    "else:\n",
    "\n",
    "    print(f\"{a} is not divisible by {b}.\")"
   ]
  },
  {
   "cell_type": "markdown",
   "id": "34586c93-d291-467d-af3a-525940418312",
   "metadata": {},
   "source": [
    "Q6. Create a list containing 25 int type data. Using for loop and if-else condition print if the element is\n",
    "divisible by 3 or not."
   ]
  },
  {
   "cell_type": "code",
   "execution_count": 9,
   "id": "e6e381ce-6c7a-43ca-a7e6-7f675597fbdc",
   "metadata": {},
   "outputs": [
    {
     "name": "stdout",
     "output_type": "stream",
     "text": [
      "[0, 1, 2, 3, 4, 5, 6, 7, 8, 9, 10, 11, 12, 13, 14, 15, 16, 17, 18, 19, 20, 21, 22, 23, 24]\n",
      "0 is divisible by 3\n",
      "1 is not divisible by 3\n",
      "2 is not divisible by 3\n",
      "3 is divisible by 3\n",
      "4 is not divisible by 3\n",
      "5 is not divisible by 3\n",
      "6 is divisible by 3\n",
      "7 is not divisible by 3\n",
      "8 is not divisible by 3\n",
      "9 is divisible by 3\n",
      "10 is not divisible by 3\n",
      "11 is not divisible by 3\n",
      "12 is divisible by 3\n",
      "13 is not divisible by 3\n",
      "14 is not divisible by 3\n",
      "15 is divisible by 3\n",
      "16 is not divisible by 3\n",
      "17 is not divisible by 3\n",
      "18 is divisible by 3\n",
      "19 is not divisible by 3\n",
      "20 is not divisible by 3\n",
      "21 is divisible by 3\n",
      "22 is not divisible by 3\n",
      "23 is not divisible by 3\n",
      "24 is divisible by 3\n"
     ]
    }
   ],
   "source": [
    "# Create a list containing 25 integer type data\n",
    "l=list(range(25))\n",
    "print(l)\n",
    "i=0\n",
    "for i in l:\n",
    "    # Check if the element is divisible by 3 using the modulo operator (%)\n",
    "    if i % 3 == 0:\n",
    "        print(f\"{i} is divisible by 3\")\n",
    "    else:\n",
    "        print(f\"{i} is not divisible by 3\")\n",
    "    "
   ]
  },
  {
   "cell_type": "markdown",
   "id": "38de2dcd-7733-4c4f-8342-2a6cfaf2545c",
   "metadata": {},
   "source": [
    "Q7. What do you understand about mutable and immutable data types? Give examples for both showing\n",
    "this property.\n",
    "\n",
    "\n",
    "Immutable data types are those whose values cannot be changed after they are created. Once an immutable object is created, any changes made to it will result in the creation of a new object. Some examples of immutable data types in Python include:\n",
    "\n",
    "int\n",
    "float\n",
    "complex\n",
    "bool\n",
    "str\n",
    "tuple\n",
    "frozenset\n"
   ]
  },
  {
   "cell_type": "code",
   "execution_count": 11,
   "id": "588ddc76-70f1-4901-9b29-521f896a4d07",
   "metadata": {},
   "outputs": [
    {
     "ename": "TypeError",
     "evalue": "'str' object does not support item assignment",
     "output_type": "error",
     "traceback": [
      "\u001b[0;31m---------------------------------------------------------------------------\u001b[0m",
      "\u001b[0;31mTypeError\u001b[0m                                 Traceback (most recent call last)",
      "Cell \u001b[0;32mIn[11], line 5\u001b[0m\n\u001b[1;32m      2\u001b[0m string\u001b[38;5;241m=\u001b[39m \u001b[38;5;124m\"\u001b[39m\u001b[38;5;124mhello\u001b[39m\u001b[38;5;124m\"\u001b[39m\n\u001b[1;32m      4\u001b[0m \u001b[38;5;66;03m# Try to change a character in the string\u001b[39;00m\n\u001b[0;32m----> 5\u001b[0m \u001b[43mstring\u001b[49m\u001b[43m[\u001b[49m\u001b[38;5;241;43m0\u001b[39;49m\u001b[43m]\u001b[49m \u001b[38;5;241m=\u001b[39m \u001b[38;5;124m\"\u001b[39m\u001b[38;5;124mH\u001b[39m\u001b[38;5;124m\"\u001b[39m\n\u001b[1;32m      7\u001b[0m \u001b[38;5;28mprint\u001b[39m(string)  \u001b[38;5;66;03m#it will give an error \u001b[39;00m\n",
      "\u001b[0;31mTypeError\u001b[0m: 'str' object does not support item assignment"
     ]
    }
   ],
   "source": [
    "# Define a string\n",
    "string= \"hello\"\n",
    "\n",
    "# Try to change a character in the string\n",
    "string[0] = \"H\"\n",
    "\n",
    "print(string)  #it will give an error \n"
   ]
  },
  {
   "cell_type": "markdown",
   "id": "4779f6d0-76a3-4571-b131-c2c4f8bac0a4",
   "metadata": {},
   "source": [
    "When we run this code, we get an error message saying \"TypeError: 'str' object does not support item assignment\". This is because strings in Python are immutable, and so we cannot change a character in the string once it is created"
   ]
  },
  {
   "cell_type": "markdown",
   "id": "cd8a11b0-8ee2-4bbd-9c6e-4170094df6aa",
   "metadata": {},
   "source": [
    "Mutable data types are those whose values can be changed after they are created. When a mutable object is changed, the changes are reflected in the original object. Some examples of mutable data types in Python include:\n",
    "\n",
    "list\n",
    "dict\n",
    "set"
   ]
  },
  {
   "cell_type": "code",
   "execution_count": 12,
   "id": "41a36e12-6197-469e-a9eb-5d13e3dd93c6",
   "metadata": {},
   "outputs": [
    {
     "name": "stdout",
     "output_type": "stream",
     "text": [
      "[1, 4, 3]\n"
     ]
    }
   ],
   "source": [
    "# Define a list\n",
    "list = [1, 2, 3]\n",
    "\n",
    "# Change the second element in the list\n",
    "list[1] = 4\n",
    "\n",
    "# Print the list to see the result\n",
    "print(list)"
   ]
  },
  {
   "cell_type": "markdown",
   "id": "55d36b90-2a31-4cf1-9725-94b5c7e2c6a2",
   "metadata": {},
   "source": [
    "When we run this code, we see that the second element in the list is changed from 2 to 4. This is because lists in Python are mutable, and so we can change the value of an element in the list after it is created."
   ]
  }
 ],
 "metadata": {
  "kernelspec": {
   "display_name": "Python 3 (ipykernel)",
   "language": "python",
   "name": "python3"
  },
  "language_info": {
   "codemirror_mode": {
    "name": "ipython",
    "version": 3
   },
   "file_extension": ".py",
   "mimetype": "text/x-python",
   "name": "python",
   "nbconvert_exporter": "python",
   "pygments_lexer": "ipython3",
   "version": "3.10.8"
  }
 },
 "nbformat": 4,
 "nbformat_minor": 5
}
