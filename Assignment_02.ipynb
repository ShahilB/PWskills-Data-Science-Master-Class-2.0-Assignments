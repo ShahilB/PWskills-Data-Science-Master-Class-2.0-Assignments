{
 "cells": [
  {
   "cell_type": "markdown",
   "id": "4bca7696-1e3e-4085-9de3-88d488655280",
   "metadata": {},
   "source": [
    "Q1. How do you comment code in Python? What are the different types of comments?\n"
   ]
  },
  {
   "cell_type": "markdown",
   "id": "1d70c22a-eb34-427a-8ff9-784d67c26c82",
   "metadata": {},
   "source": [
    "Single-line comments: To create a single-line comment, you can use the hash symbol (#). Anything following the hash symbol on the same line is considered a comment and is ignored by the Python interpreter. \n"
   ]
  },
  {
   "cell_type": "code",
   "execution_count": 2,
   "id": "0446eea9-38cd-494e-a22a-c213d83c4021",
   "metadata": {},
   "outputs": [],
   "source": [
    "# This is a single-line comment in Python\n",
    "# Hi I'm Shahil Biswas, blah blah blah........\n"
   ]
  },
  {
   "cell_type": "markdown",
   "id": "17c01152-3b3e-4086-9458-8252002599ee",
   "metadata": {},
   "source": [
    "Multi-line comments: Python does not have a specific syntax for multi-line comments like some other programming languages, BUt we can use string literals (triple quotes) to create multi-line comments. Although these are technically treated as strings by Python, they are ignored by the interpreter and serve as a way to add multi-line comments.\n"
   ]
  },
  {
   "cell_type": "code",
   "execution_count": 7,
   "id": "2328e629-2538-476b-a740-fdbf5a6347e5",
   "metadata": {},
   "outputs": [
    {
     "name": "stdout",
     "output_type": "stream",
     "text": [
      "6\n"
     ]
    }
   ],
   "source": [
    "def add(a, b):\n",
    "    '''\n",
    "    This function adds two numbers and returns the result.\n",
    "    Parameters:\n",
    "        a (int): The first number.\n",
    "        b (int): The second number.\n",
    "    Returns:\n",
    "        int: The sum of the two numbers.\n",
    "    '''\n",
    "    return a + b\n",
    "\n",
    "print(add(2,4))\n"
   ]
  },
  {
   "cell_type": "markdown",
   "id": "d3c208a8-cb37-4581-ba71-c3f2fb027885",
   "metadata": {},
   "source": [
    "Q2. What are variables in Python? How do you declare and assign values to variables?"
   ]
  },
  {
   "cell_type": "markdown",
   "id": "45080979-ca3e-4c5a-8898-5f8920e6b3f5",
   "metadata": {},
   "source": [
    "Variables are used to store values that can be used or manipulated in the program. A variable is essentially a named location in the computer's memory where data can be stored and accessed.\n",
    "\n",
    "To declare a variable in Python, you simply choose a name for the variable and assign a value to it using the assignment operator (=)."
   ]
  },
  {
   "cell_type": "code",
   "execution_count": 6,
   "id": "1df04733-e3cc-4896-876f-a5c645e8abee",
   "metadata": {},
   "outputs": [
    {
     "name": "stdout",
     "output_type": "stream",
     "text": [
      "5\n"
     ]
    }
   ],
   "source": [
    "# Variable declaration \"x\" and assignment a value \"5\".\n",
    "x = 5\n",
    "print(x)"
   ]
  },
  {
   "cell_type": "markdown",
   "id": "c28ee735-1b23-4a2e-8265-a7c132d8ae09",
   "metadata": {},
   "source": [
    "Q3. How do you convert one data type to another in Python?"
   ]
  },
  {
   "cell_type": "markdown",
   "id": "f93f55e3-5fd7-4078-b4db-ec151ce79fb5",
   "metadata": {},
   "source": [
    "In Python, you can convert one data type to another using type conversion functions or by using the target data type as a constructor. Here are some common ways to perform type conversions in Python:\n"
   ]
  },
  {
   "cell_type": "markdown",
   "id": "c7b83b06-2d40-417c-a307-050764360267",
   "metadata": {},
   "source": [
    "1. Implicit type conversion: Python automatically performs implicit type conversions in certain situations, such as during arithmetic operations between different data types. For example:"
   ]
  },
  {
   "cell_type": "code",
   "execution_count": 1,
   "id": "9edd4cd1-5685-46cc-b452-6931fc9d7029",
   "metadata": {},
   "outputs": [
    {
     "name": "stdout",
     "output_type": "stream",
     "text": [
      "7.5\n"
     ]
    }
   ],
   "source": [
    "x = 5  # integer\n",
    "y = 2.5  # float\n",
    "\n",
    "# Implicit conversion from integer to float\n",
    "result = x + y\n",
    "print(result)  # Output: 7.5\n"
   ]
  },
  {
   "cell_type": "raw",
   "id": "d078c633-d9b6-421b-8b2f-5ffefc229609",
   "metadata": {},
   "source": [
    "Explicit type conversion using type conversion functions:\n",
    "\n",
    "int(): Converts a value to an integer.\n",
    "float(): Converts a value to a float.\n",
    "str(): Converts a value to a string.\n",
    "list(): Converts an iterable to a list.\n",
    "tuple(): Converts an iterable to a tuple.\n",
    "dict(): Converts an iterable of key-value pairs to a dictionary.\n",
    "\n",
    "Here's an example that demonstrates the use of type conversion functions:"
   ]
  },
  {
   "cell_type": "code",
   "execution_count": null,
   "id": "19cbae5e-921d-4ab3-b93e-5f879c382db8",
   "metadata": {},
   "outputs": [],
   "source": [
    "x = 10\n",
    "y = \"5\"\n",
    "\n",
    "# Convert string to integer\n",
    "y = int(y)\n",
    "\n",
    "# Perform addition\n",
    "result = x + y\n",
    "print(result)  # Output: 15 \n"
   ]
  },
  {
   "cell_type": "markdown",
   "id": "68f87ac9-3f17-4565-9c95-a73e2694059e",
   "metadata": {},
   "source": [
    "Q4. How do you write and execute a Python script from the command line?"
   ]
  },
  {
   "cell_type": "markdown",
   "id": "8fc96431-d0b0-4bb1-95c6-398890237458",
   "metadata": {},
   "source": [
    "To write and execute a Python script from the command line, you can follow these steps:\n",
    "\n",
    "Open a text editor or an Integrated Development Environment (IDE) to write your Python script. Create a new file and save it with a .py extension. For example, you can save your file as \"script.py\".\n",
    "\n",
    "In the text editor or IDE, write your Python code in the file. For example, you can create a simple script that prints \"Hello, world!\" to the console:\n",
    "\n",
    "Save the file once you have written your Python code.\n",
    "\n",
    "Open the command line or terminal on your computer.\n",
    "\n",
    "Navigate to the directory where you saved your Python script using the cd command. For example, if your script is saved in the \"Documents\" folder, you can navigate to it by executing the following command:\n",
    " \n",
    "-> cd documents\n",
    " \n",
    "Once you are in the correct directory, you can execute the Python script by typing \"python\" followed by the name of your script file. In this case, the command would be:\n",
    "\n",
    "->python script.py \n",
    "\n",
    "Press the \"Enter\" key, and the Python script will be executed. You should see the output, \"Hello, world!\", printed on the command line.\n"
   ]
  },
  {
   "cell_type": "markdown",
   "id": "33334873-1e2f-413e-931e-f5beb200d086",
   "metadata": {},
   "source": [
    "Q5. Given a list my_list = [1, 2, 3, 4, 5], write the code to slice the list and obtain the sub-list [2, 3]."
   ]
  },
  {
   "cell_type": "code",
   "execution_count": null,
   "id": "fad2f9d5-0e0c-4ab0-ab58-ac9df2a23f67",
   "metadata": {},
   "outputs": [],
   "source": [
    "my_list = [1, 2, 3, 4, 5] \n",
    "sub_list = my_list[1:3]   # doing slicing operator with the help of \":\" operator.\n",
    "print(sub_list)"
   ]
  },
  {
   "cell_type": "markdown",
   "id": "ed278101-0427-4fa2-81a9-5a222f79d9bd",
   "metadata": {},
   "source": [
    "Q6. What is a complex number in mathematics, and how is it represented in Python?"
   ]
  },
  {
   "cell_type": "markdown",
   "id": "0b9fdcf5-b7d6-442c-9a6f-d924231a963a",
   "metadata": {},
   "source": [
    "In mathematics, a complex number is a number that consists of a real part and an imaginary part. It is written in the form     \"a + bi\", \n",
    "where \"a\" represents the real part, \"b\" represents the imaginary part, and \"i\" represents the imaginary unit, which is defined as the square root of -1.\n",
    "\n",
    "The real part \"a\" and the imaginary part \"b\" can be any real numbers. The imaginary part is multiplied by \"i\" to distinguish it from the real numbers. Complex numbers allow for the representation of quantities that involve both real and imaginary components.\n",
    "\n",
    "In Python, complex numbers can be represented using the complex data type. The complex type is built-in, and you can create complex numbers by specifying the real and imaginary parts."
   ]
  },
  {
   "cell_type": "code",
   "execution_count": 9,
   "id": "b311f30f-f4e1-4065-be30-fcda1e0e85e7",
   "metadata": {},
   "outputs": [
    {
     "name": "stdout",
     "output_type": "stream",
     "text": [
      "(2+3j)\n"
     ]
    }
   ],
   "source": [
    "z = complex(2, 3)\n",
    "\n",
    "''' here complex is a bulit-in data type to create\n",
    "complex numbers by specifying the real and imaginary parts.\n",
    "\n",
    "complex(2, 3) creates a complex number with \n",
    "a real part of 2 and an imaginary part of 3, here j is the imaginary unit '''\n",
    "\n",
    "print(z)"
   ]
  },
  {
   "cell_type": "markdown",
   "id": "dbe267a3-3d6a-46b6-861f-4367304c0246",
   "metadata": {},
   "source": [
    "Q7. What is the correct way to declare a variable named age and assign the value 25 to it?"
   ]
  },
  {
   "cell_type": "code",
   "execution_count": null,
   "id": "7c3f84d7-8404-4e1c-8013-59acbb7ad85f",
   "metadata": {},
   "outputs": [],
   "source": [
    "age=25 #the variable \"age\" is declared and assigned the value 25 using the assignment operator (=).\n"
   ]
  },
  {
   "cell_type": "markdown",
   "id": "4379a31b-069f-4861-a027-7369bef48f62",
   "metadata": {},
   "source": [
    "Q8. Declare a variable named price and assign the value 9.99 to it. What data type does this variable\n",
    "belong to?"
   ]
  },
  {
   "cell_type": "code",
   "execution_count": 13,
   "id": "6c1d4e26-211f-4cae-81b1-85681ce46a30",
   "metadata": {},
   "outputs": [
    {
     "name": "stdout",
     "output_type": "stream",
     "text": [
      "<class 'float'>\n"
     ]
    }
   ],
   "source": [
    "price=99.9\n",
    "print(type(price))  #apprently data type will be float \n"
   ]
  },
  {
   "cell_type": "markdown",
   "id": "5e467577-6404-471b-90cc-ae5d94f6f367",
   "metadata": {},
   "source": [
    "Q9. Create a variable named name and assign your full name to it as a string. How would you print the\n",
    "value of this variable?"
   ]
  },
  {
   "cell_type": "code",
   "execution_count": 12,
   "id": "2eec55c3-21d7-4d11-afa4-26c434cd02e9",
   "metadata": {},
   "outputs": [
    {
     "name": "stdout",
     "output_type": "stream",
     "text": [
      "Shahil Biswas\n"
     ]
    }
   ],
   "source": [
    "name=\"Shahil Biswas\"\n",
    "print(name)  # With the help of print() function we can print any value contain in the variable\n"
   ]
  },
  {
   "cell_type": "markdown",
   "id": "8b44af59-cab6-4c74-b7ea-6fd7604d3062",
   "metadata": {},
   "source": [
    "Q10. Given the string \"Hello, World!\", extract the substring \"World\".\n"
   ]
  },
  {
   "cell_type": "code",
   "execution_count": 15,
   "id": "c907c670-0c3b-4513-ba83-df26ed4c8c32",
   "metadata": {},
   "outputs": [
    {
     "name": "stdout",
     "output_type": "stream",
     "text": [
      "World\n"
     ]
    }
   ],
   "source": [
    "s=\"Hello, World!\"\n",
    "\n",
    "substring=s[7:12]   #the help of knowlege of string indexing \n",
    "print(substring)"
   ]
  },
  {
   "cell_type": "markdown",
   "id": "fcc95305-9b0c-462b-a2eb-602453130277",
   "metadata": {},
   "source": [
    "Q11. Create a variable named \"is_student\" and assign it a boolean value indicating whether you are\n",
    "currently a student or not."
   ]
  },
  {
   "cell_type": "code",
   "execution_count": 16,
   "id": "79b871c5-3342-4a2a-904d-b86fe17a7015",
   "metadata": {},
   "outputs": [
    {
     "name": "stdout",
     "output_type": "stream",
     "text": [
      "True\n",
      "<class 'bool'>\n"
     ]
    }
   ],
   "source": [
    "is_student=True\n",
    "print(f\"It is {is_student}, Im a Student\")\n",
    "print(type(is_student))\n"
   ]
  },
  {
   "cell_type": "code",
   "execution_count": null,
   "id": "1adf632a-48d1-441f-bd9c-df1a95a9a4cf",
   "metadata": {},
   "outputs": [],
   "source": []
  }
 ],
 "metadata": {
  "kernelspec": {
   "display_name": "Python 3 (ipykernel)",
   "language": "python",
   "name": "python3"
  },
  "language_info": {
   "codemirror_mode": {
    "name": "ipython",
    "version": 3
   },
   "file_extension": ".py",
   "mimetype": "text/x-python",
   "name": "python",
   "nbconvert_exporter": "python",
   "pygments_lexer": "ipython3",
   "version": "3.10.8"
  }
 },
 "nbformat": 4,
 "nbformat_minor": 5
}
