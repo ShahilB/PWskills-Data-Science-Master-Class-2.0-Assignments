{
 "cells": [
  {
   "cell_type": "markdown",
   "id": "0cea8410-242f-450a-9f6d-15fe547dffcc",
   "metadata": {},
   "source": [
    "#Assignment 08 (Exception Handling )"
   ]
  },
  {
   "cell_type": "raw",
   "id": "3da0d0c0-114d-4e38-8878-74a317156459",
   "metadata": {},
   "source": [
    "Q1. What is an Exception in python? Write the difference between Exceptions and syntax errors.\n"
   ]
  },
  {
   "cell_type": "raw",
   "id": "a9bc9fad-2ade-44fc-98a4-c3bdfc5be9b2",
   "metadata": {},
   "source": [
    "Exceptions are runtime errors that occur during the execution of your program. They signal unexpected conditions that prevent the code from continuing normally.\n",
    "Exceptions provide a structured way to handle errors gracefully, preventing your program from crashing and allowing for more robust and maintainable code.\n",
    "\n",
    "\n",
    "Key Differences Between Exceptions and Syntax Errors:\n",
    "\n",
    "Timing:\n",
    "\n",
    "Exceptions - Occur during program execution (runtime errors)\n",
    "Syntax Errors - Occur during the parsing phase (before execution)\n",
    "\n",
    "Cause:\n",
    "\n",
    "Exceptions - Unexpected conditions within the code\n",
    "Syntax Errors - Incorrect syntax (typos, missing punctuation, etc.)\n",
    "\t\t\n",
    "Handling:\n",
    "\n",
    "Exceptions - Handled using try...except blocks\t\n",
    "Syntax Errors - Not directly handled, require fixing the syntax\n",
    "\n",
    "Example\n",
    "\n",
    "Exceptions - ZeroDivisionError, IndexError, KeyError\n",
    "Syntax Errors - Missing colon :, invalid keyword usage, unmatched parenthesis"
   ]
  },
  {
   "cell_type": "raw",
   "id": "d4c8b966-0e65-4b6b-8c46-c624b00e2688",
   "metadata": {},
   "source": [
    "Q2. What happens whenan exception is not handled? Explain withan example.\n"
   ]
  },
  {
   "cell_type": "raw",
   "id": "999b4633-1eca-4c22-8f90-8acf40401e18",
   "metadata": {},
   "source": [
    "When an exception is not handled in Python, it leads to a program crash. This means the program abruptly terminates its execution, often displaying an error message on the console.\n",
    "\n",
    "Here's an example below :"
   ]
  },
  {
   "cell_type": "code",
   "execution_count": 4,
   "id": "a25b58a6-6f28-4829-9848-3ae2be64d39d",
   "metadata": {},
   "outputs": [
    {
     "name": "stdout",
     "output_type": "stream",
     "text": [
      "You cannot divide by zero! division by zero\n",
      "Continuing program execution...\n"
     ]
    }
   ],
   "source": [
    "def divide(x, y):\n",
    "  result = x / y\n",
    "\n",
    "# Calling the function without handling potential division by zero\n",
    "try:\n",
    "  answer = divide(10, 0)  # This line will raise a ZeroDivisionError exception\n",
    "  print(\"Result:\", answer)\n",
    "except ZeroDivisionError as e:  # This `except` block is missing\n",
    "  print(\"You cannot divide by zero!\",e)\n",
    "else:\n",
    "  print(\"This won't execute because an exception is raised\")\n",
    "\n",
    "print(\"Continuing program execution...\")  # This line won't be reached\n"
   ]
  },
  {
   "cell_type": "raw",
   "id": "f7abdefd-f6e7-4cf1-bb5d-2108216327e7",
   "metadata": {},
   "source": [
    "Q3. Explain with an example a) try expect b) finally c) raise"
   ]
  },
  {
   "cell_type": "raw",
   "id": "57103391-46a7-4872-997e-f948c2a5cfc3",
   "metadata": {},
   "source": [
    "a) try...except:\n",
    "\n",
    "The try...except block is the foundation of exception handling in Python. It allows you to define code that might raise an exception (try block) and specify how to handle those exceptions (except blocks).\n",
    "\n",
    "Example below :"
   ]
  },
  {
   "cell_type": "code",
   "execution_count": 5,
   "id": "c1aa09fb-4104-4c7e-9d47-c6c8a8e92010",
   "metadata": {},
   "outputs": [
    {
     "name": "stdout",
     "output_type": "stream",
     "text": [
      "Result: 5.0\n",
      "You cannot divide by zero! division by zero\n",
      "Result: None\n"
     ]
    }
   ],
   "source": [
    "def divide(x, y):\n",
    "  \"\"\"Divides two numbers, handling potential division by zero.\"\"\"\n",
    "  try:\n",
    "    result = x / y\n",
    "    return result\n",
    "  except ZeroDivisionError as e :\n",
    "    print(\"You cannot divide by zero!\",e)\n",
    "    return None  # Or handle the error differently\n",
    "\n",
    "answer = divide(10, 2)  # Normal execution, returns 5\n",
    "print(\"Result:\", answer)\n",
    "\n",
    "answer = divide(10, 0)  # Raises a ZeroDivisionError\n",
    "print(\"Result:\", answer)\n"
   ]
  },
  {
   "cell_type": "raw",
   "id": "7c9d1cda-459f-49fc-b74e-65eb09fd25ec",
   "metadata": {},
   "source": [
    "Explanation:\n",
    "\n",
    "The divide function takes two numbers and attempts to divide them.\n",
    "The try block encapsulates the code that might raise an exception (x / y).\n",
    "The except ZeroDivisionError block specifically handles the ZeroDivisionError that occurs when y is zero.\n",
    "It prints an error message and returns None (or you could handle the error differently).\n",
    "When calling divide(10, 2), there's no error, so the result is printed.\n",
    "When calling divide(10, 0), the exception is caught, the error message is printed, and None is returned instead of crashing the program."
   ]
  },
  {
   "cell_type": "raw",
   "id": "75adb9cb-5347-41c2-844b-1cc1aa14b382",
   "metadata": {},
   "source": [
    "b) finally:\n",
    "\n",
    "The finally block is an optional part of the try...except construct. It executes unconditionally, regardless of whether an exception is raised or not. It's commonly used for cleanup tasks like closing files or releasing resources."
   ]
  },
  {
   "cell_type": "code",
   "execution_count": 6,
   "id": "78e4ef3c-f417-4956-b9fa-b1b2a9871049",
   "metadata": {},
   "outputs": [
    {
     "name": "stdout",
     "output_type": "stream",
     "text": [
      "File 'my_file.txt' not found! [Errno 2] No such file or directory: 'my_file.txt'\n",
      "File operation complete.\n"
     ]
    }
   ],
   "source": [
    "def open_and_read_file(filename):\n",
    "  \"\"\"Opens a file and reads its contents, handling potential errors with a finally block.\"\"\"\n",
    "  try:\n",
    "    with open(filename, \"r\") as file:\n",
    "      contents = file.read()\n",
    "      return contents\n",
    "  except FileNotFoundError as e :\n",
    "    print(f\"File '{filename}' not found!\",e)\n",
    "    return None  # Or handle the error differently\n",
    "  finally:\n",
    "    # This will always execute, even if an exception occurs or not\n",
    "    print(\"File operation complete.\")\n",
    "\n",
    "file_contents = open_and_read_file(\"my_file.txt\")\n",
    "if file_contents:\n",
    "  print(file_contents)\n"
   ]
  },
  {
   "cell_type": "raw",
   "id": "e508552f-aaf5-404f-b155-6a2b6fe69bc6",
   "metadata": {},
   "source": [
    "Explanation:\n",
    "\n",
    "The open_and_read_file function attempts to open a file and read its contents.\n",
    "The try block opens the file using a with statement (recommended for automatic file closing).\n",
    "The except FileNotFoundError block handles cases where the file doesn't exist.\n",
    "The finally block always executes, regardless of success or failure. In this case, it prints a message indicating file operation completion.\n"
   ]
  },
  {
   "cell_type": "raw",
   "id": "bc3510d2-fa5c-4d6d-998c-b6af932d39d4",
   "metadata": {},
   "source": [
    "c) raise:\n",
    "\n",
    "The raise statement allows you to explicitly raise an exception. This can be useful for signaling an error condition within your code or re-raising an exception caught in an except block."
   ]
  },
  {
   "cell_type": "code",
   "execution_count": 4,
   "id": "4a46b9b6-d6b6-4664-8044-b65fa5040f4f",
   "metadata": {},
   "outputs": [
    {
     "name": "stdout",
     "output_type": "stream",
     "text": [
      "Error: -5:Age cannot be negative.\n"
     ]
    }
   ],
   "source": [
    "class validate_age1(Exception):\n",
    "    \n",
    "    def __init__(self,msg):\n",
    "        self.msg= msg\n",
    "        \n",
    "def validate_age(age):\n",
    "  \"\"\"Validates the user's age, raising a ValueError if it's invalid.\"\"\"\n",
    "  if age < 0:\n",
    "    raise validate_age1(f\"{age}:Age cannot be negative.\")\n",
    "try:\n",
    "  user_age = validate_age(-5)  # This will raise validate_age\n",
    "except validate_age1 as e:\n",
    "  print(\"Error:\", e)\n",
    "\n"
   ]
  },
  {
   "cell_type": "raw",
   "id": "9fb24329-bffd-486f-b083-610ac0216614",
   "metadata": {},
   "source": [
    "The validate_age function checks if the age is valid.\n",
    "If the age is negative, it raises a validage_age1 with an informative message.\n",
    "When calling validate_age(-5), the validate_age1 is raised and caught in the except block.\n",
    "Its a good practice involves handling most common exceptions in your except blocks and using raise judiciously to signal specific errors within your program's logic.\n"
   ]
  },
  {
   "cell_type": "raw",
   "id": "ff1d5fa6-7a15-4148-a66b-5f9a3aec615b",
   "metadata": {},
   "source": [
    "Q4. What are Custom Exceptions in python? Why do we need Custom Ex,eptions? Explain withan example.\n"
   ]
  },
  {
   "cell_type": "raw",
   "id": "c39f9a66-e712-438a-aa40-10d18ec6e971",
   "metadata": {},
   "source": [
    "Custom exceptions in Python are user-defined error classes that allow developers to create specific error conditions tailored to the needs of their programs. Custom exceptions are essential because they provide a way to handle unique error conditions more gracefully and make the code more readable and maintainable by clearly indicating what went wrong.\n",
    "\n",
    "Why Do We Need Custom Exceptions?\n",
    "Clarity: Custom exceptions can make your error handling more descriptive and meaningful. Instead of using generic exceptions like ValueError or RuntimeError, you can create exceptions that convey the specific issue that occurred.\n",
    "\n",
    "Specificity: Custom exceptions allow you to distinguish between different error conditions in your code, making it easier to handle different types of errors in different ways.\n",
    "\n",
    "Maintainability: When you use custom exceptions, it’s easier for someone reading your code to understand what kinds of errors are expected and how they are handled, which improves the overall maintainability of the code.\n",
    "\n",
    "Example\n",
    "Let's say you're developing a simple banking application that allows users to withdraw money from their account. You might want to handle specific error conditions like insufficient funds or invalid account numbers with custom exceptions."
   ]
  },
  {
   "cell_type": "code",
   "execution_count": null,
   "id": "d9213666-4ee4-42c8-891f-486afe0446a4",
   "metadata": {},
   "outputs": [
    {
     "name": "stdout",
     "output_type": "stream",
     "text": [
      "Current balance: $100\n",
      "Attempted to withdraw 150, but only 100 available.\n",
      "Account number abcde is invalid.\n"
     ]
    }
   ],
   "source": [
    "# Define custom exceptions\n",
    "class InsufficientFundsError(Exception):\n",
    "    def __init__(self, balance, amount):\n",
    "        super().__init__(f\"Attempted to withdraw {amount}, but only {balance} available.\")\n",
    "        self.balance = balance\n",
    "        self.amount = amount\n",
    "\n",
    "class InvalidAccountError(Exception):\n",
    "    def __init__(self, account_number):\n",
    "        super().__init__(f\"Account number {account_number} is invalid.\")\n",
    "        self.account_number = account_number\n",
    "\n",
    "# Example function that uses these exceptions\n",
    "class BankAccount:\n",
    "    def __init__(self, account_number, balance):\n",
    "        self.account_number = account_number\n",
    "        self.balance = balance\n",
    "    \n",
    "    def withdraw(self, amount):\n",
    "        if amount > self.balance:\n",
    "            raise InsufficientFundsError(self.balance, amount)\n",
    "        if not isinstance(self.account_number, int) or self.account_number <= 0:\n",
    "            raise InvalidAccountError(self.account_number)\n",
    "        self.balance -= amount\n",
    "        return self.balance\n",
    "\n",
    "# Example usage\n",
    "try:\n",
    "    account = BankAccount(12345, 100)\n",
    "    print(f\"Current balance: ${account.balance}\")\n",
    "    account.withdraw(150)\n",
    "except InsufficientFundsError as e:\n",
    "    print(e)\n",
    "except InvalidAccountError as e:\n",
    "    print(e)\n",
    "\n",
    "try:\n",
    "    invalid_account = BankAccount(\"abcde\", 100)\n",
    "    invalid_account.withdraw(50)\n",
    "except InsufficientFundsError as e:\n",
    "    print(e)\n",
    "except InvalidAccountError as e:\n",
    "    print(e)\n"
   ]
  },
  {
   "cell_type": "raw",
   "id": "fc7b1596-4dc8-42f3-98e6-d2b855136f2d",
   "metadata": {},
   "source": [
    "Explanation\n",
    "Custom Exceptions:\n",
    "\n",
    "InsufficientFundsError is raised when a withdrawal amount exceeds the account balance.\n",
    "InvalidAccountError is raised when the account number is invalid (e.g., not an integer or less than or equal to zero).\n",
    "BankAccount Class:\n",
    "\n",
    "The withdraw method checks for these conditions and raises the appropriate custom exception if necessary.\n",
    "Usage:\n",
    "\n",
    "When attempting to withdraw an amount greater than the balance, InsufficientFundsError is raised and caught.\n",
    "When an invalid account number is provided, InvalidAccountError is raised and caught.\n",
    "By using custom exceptions, the code clearly indicates the specific type of error that occurred, making it easier to handle different scenarios and providing more informative error messages."
   ]
  },
  {
   "cell_type": "raw",
   "id": "30e6a0b5-33bf-46a4-9919-16ac74542a01",
   "metadata": {},
   "source": [
    "Q6. Create Custom exception class. Use this class to handle an exception."
   ]
  },
  {
   "cell_type": "code",
   "execution_count": 2,
   "id": "bcf591fa-bdb0-4506-9e6b-e1bec3e2a793",
   "metadata": {},
   "outputs": [
    {
     "name": "stdout",
     "output_type": "stream",
     "text": [
      "InvalidAgeError: Age must be a positive integer (age entered: -5)\n",
      "InvalidAgeError: Age must be a positive integer (age entered: twenty)\n",
      "Age 25 is valid.\n"
     ]
    }
   ],
   "source": [
    "# Step 1: Define the Custom Exception Class\n",
    "class InvalidAgeError(Exception):\n",
    "    def __init__(self, age, message=\"Age must be a positive integer\"):\n",
    "        self.age = age\n",
    "        self.message = message\n",
    "        super().__init__(self.message)\n",
    "\n",
    "# Step 2: Use the Custom Exception in a Function\n",
    "def validate_age(age):\n",
    "    if not isinstance(age, int) or age < 0:\n",
    "        raise InvalidAgeError(age)\n",
    "\n",
    "# Step 3: Handle the Exception\n",
    "try:\n",
    "    # Test cases\n",
    "    age_input = -5  # Invalid age example\n",
    "    validate_age(age_input)\n",
    "except InvalidAgeError as e:\n",
    "    print(f\"InvalidAgeError: {e.message} (age entered: {e.age})\")\n",
    "\n",
    "try:\n",
    "    age_input = \"twenty\"  # Invalid age example\n",
    "    validate_age(age_input)\n",
    "except InvalidAgeError as e:\n",
    "    print(f\"InvalidAgeError: {e.message} (age entered: {e.age})\")\n",
    "\n",
    "try:\n",
    "    age_input = 25  # Valid age example\n",
    "    validate_age(age_input)\n",
    "    print(f\"Age {age_input} is valid.\")\n",
    "except InvalidAgeError as e:\n",
    "    print(f\"InvalidAgeError: {e.message} (age entered: {e.age})\")\n"
   ]
  },
  {
   "cell_type": "code",
   "execution_count": null,
   "id": "662ac858-df0a-4f23-9a3e-e85a1397394a",
   "metadata": {},
   "outputs": [],
   "source": []
  }
 ],
 "metadata": {
  "kernelspec": {
   "display_name": "Python 3 (ipykernel)",
   "language": "python",
   "name": "python3"
  },
  "language_info": {
   "codemirror_mode": {
    "name": "ipython",
    "version": 3
   },
   "file_extension": ".py",
   "mimetype": "text/x-python",
   "name": "python",
   "nbconvert_exporter": "python",
   "pygments_lexer": "ipython3",
   "version": "3.10.8"
  }
 },
 "nbformat": 4,
 "nbformat_minor": 5
}
