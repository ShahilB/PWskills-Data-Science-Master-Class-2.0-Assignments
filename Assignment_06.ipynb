{
 "cells": [
  {
   "cell_type": "markdown",
   "id": "626f767f-5ecf-4a59-a77c-1c9028ddf105",
   "metadata": {
    "tags": []
   },
   "source": [
    "# Assignment No. 6 ( OOPS Programming )\n"
   ]
  },
  {
   "cell_type": "code",
   "execution_count": null,
   "id": "b252d55d-1dc6-4f64-92e6-595718572482",
   "metadata": {},
   "outputs": [],
   "source": []
  },
  {
   "cell_type": "raw",
   "id": "da52ad89-dc34-4d77-b8ba-6951b542d2bd",
   "metadata": {},
   "source": [
    "Q1. Explain Class and Object with respect to Object-Oriented Programming. Give a suitable example."
   ]
  },
  {
   "cell_type": "raw",
   "id": "4eef3d74-e05e-40a9-9a86-7354f91df260",
   "metadata": {},
   "source": [
    "Class:\n",
    "A class is a blueprint or template that defines the structure and behavior of objects. It encapsulates attributes (data) and methods (functions) that objects of that class will have. It acts as a blueprint for creating objects.\n",
    "\n",
    "Object:\n",
    "An object is an instance of a class. It represents a concrete entity with specific values for attributes and the ability to perform actions using methods defined in its class. Objects are created based on the template provided by a class."
   ]
  },
  {
   "cell_type": "code",
   "execution_count": 3,
   "id": "668e0607-7173-477a-a9d1-f01f1abe48a4",
   "metadata": {},
   "outputs": [
    {
     "name": "stdout",
     "output_type": "stream",
     "text": [
      "Buddy the Golden Retriever is barking.\n",
      "Max the Poodle is barking.\n"
     ]
    },
    {
     "data": {
      "text/plain": [
       "'In this example, Dog is the class blueprint, and dog1 and dog2 are \\n objects (instances) created from that class. Each object has its own\\n unique attribute values and can execute the bark method. '"
      ]
     },
     "execution_count": 3,
     "metadata": {},
     "output_type": "execute_result"
    }
   ],
   "source": [
    "class Dog:\n",
    "    def __init__(self, name, breed):\n",
    "        self.name = name\n",
    "        self.breed = breed\n",
    "    \n",
    "    def bark(self):\n",
    "        return f\"{self.name} the {self.breed} is barking.\"\n",
    "\n",
    "dog1 = Dog(\"Buddy\", \"Golden Retriever\")\n",
    "dog2 = Dog(\"Max\", \"Poodle\")\n",
    "\n",
    "print(dog1.bark())  # Output: \"Buddy the Golden Retriever is barking.\"\n",
    "print(dog2.bark())  # Output: \"Max the Poodle is barking.\"\n",
    "\n",
    "'''In this example, Dog is the class blueprint, and dog1 and dog2 are \n",
    " objects (instances) created from that class. Each object has its own\n",
    " unique attribute values and can execute the bark method. '''\n",
    "\n"
   ]
  },
  {
   "cell_type": "code",
   "execution_count": null,
   "id": "24024ffd-99b2-4b98-a995-2f8a3e9828d4",
   "metadata": {},
   "outputs": [],
   "source": []
  },
  {
   "cell_type": "raw",
   "id": "c43ac2b1-3abb-463d-a239-7953098ed841",
   "metadata": {},
   "source": [
    "Q2. Name the four pillars of OOPs."
   ]
  },
  {
   "cell_type": "raw",
   "id": "aaafaf32-18e9-4daa-b96e-a09a79f0160f",
   "metadata": {},
   "source": [
    "\n",
    "Encapsulation: Bundling data and methods into a class, controlling access to data to ensure integrity, and promoting modular design.\n",
    "\n",
    "Abstraction: Representing complex entities with simplified models, hiding unnecessary details, and providing a high-level view of functionality.\n",
    "\n",
    "Inheritance: Creating new classes that inherit attributes and methods from existing classes, allowing code reuse and specialization.\n",
    "\n",
    "Polymorphism: Treating objects of different classes as objects of a common superclass, enabling flexible and interchangeable use of objects.\n",
    "\n"
   ]
  },
  {
   "cell_type": "raw",
   "id": "bff89dad-d8c1-42da-be4c-7cc1fb79bd26",
   "metadata": {},
   "source": [
    "Q3. Explain why the __init__() function is used. Give a suitable example."
   ]
  },
  {
   "cell_type": "raw",
   "id": "8c066303-55ff-4644-9ddd-d99a3cd145fa",
   "metadata": {},
   "source": [
    "\n",
    "The __init__() function is used in Python classes to initialize object attributes when they are created. It sets up the initial state of objects."
   ]
  },
  {
   "cell_type": "code",
   "execution_count": 4,
   "id": "a3a9c86b-48b7-4b48-a7ea-f13868a50bcd",
   "metadata": {},
   "outputs": [
    {
     "name": "stdout",
     "output_type": "stream",
     "text": [
      "Alice\n",
      "25\n"
     ]
    }
   ],
   "source": [
    "class Person:\n",
    "    def __init__(self, name, age):\n",
    "        self.name = name\n",
    "        self.age = age\n",
    "\n",
    "person = Person(\"Alice\", 25)\n",
    "print(person.name)  # Output: \"Alice\"\n",
    "print(person.age)   # Output: 25\n"
   ]
  },
  {
   "cell_type": "raw",
   "id": "9e0ba96a-6e50-4172-a3a3-cd08e33ac9bb",
   "metadata": {},
   "source": [
    "In this example, __init__() initializes name and age attributes for each Person object.\n"
   ]
  },
  {
   "cell_type": "raw",
   "id": "1c8ba7d0-7d3b-40be-9152-40e42a035db9",
   "metadata": {},
   "source": [
    "Q4. Why self is used in OOPs?"
   ]
  },
  {
   "cell_type": "raw",
   "id": "479d610c-3be9-458c-ad4c-3ee9efcf3b1e",
   "metadata": {},
   "source": [
    "Self is used in OOP to refer to the current instance of a class. It allows methods to access and manipulate instance attributes and methods. This ensures that actions performed by methods are specific to the object they're called on.\n"
   ]
  },
  {
   "cell_type": "code",
   "execution_count": 5,
   "id": "8995960d-f2c1-4276-9603-29b9ba380914",
   "metadata": {},
   "outputs": [
    {
     "name": "stdout",
     "output_type": "stream",
     "text": [
      "78.5\n"
     ]
    }
   ],
   "source": [
    "class Circle:\n",
    "    def __init__(self, radius):\n",
    "        self.radius = radius\n",
    "\n",
    "    def area(self):\n",
    "        return 3.14 * self.radius * self.radius\n",
    "\n",
    "circle1 = Circle(5)\n",
    "print(circle1.area())  # Output: 78.5\n"
   ]
  },
  {
   "cell_type": "raw",
   "id": "c3f3af34-0c30-4910-9a65-fa50b8f4de3b",
   "metadata": {},
   "source": [
    "\n",
    "In this example, self.radius refers to the radius attribute of the specific circle1 instance within the area() method.\n"
   ]
  },
  {
   "cell_type": "raw",
   "id": "bcb724ee-4811-42ff-8ed4-9fcc10363a15",
   "metadata": {},
   "source": [
    "Q5. What is inheritance? Give an example for each type of inheritance.\n"
   ]
  },
  {
   "cell_type": "raw",
   "id": "fbf24187-7d33-46b4-a0f9-92aba86c0801",
   "metadata": {},
   "source": [
    "Single Inheritance:\n",
    "\n",
    "One subclass inherits from a single superclass.\n"
   ]
  },
  {
   "cell_type": "code",
   "execution_count": 1,
   "id": "833b3b5d-af91-4a51-9f25-e018c2b09e8c",
   "metadata": {},
   "outputs": [],
   "source": [
    "class Animal:\n",
    "    def speak(self):\n",
    "        pass\n",
    "\n",
    "class Dog(Animal):\n",
    "    def speak(self):\n",
    "        return \"Woof!\"\n"
   ]
  },
  {
   "cell_type": "raw",
   "id": "5f4fa61e-bf3f-4ef9-bd45-c3bb3b2e954b",
   "metadata": {},
   "source": [
    "Multiple Inheritance:\n",
    "\n",
    "One subclass inherits from multiple superclasses.\n"
   ]
  },
  {
   "cell_type": "code",
   "execution_count": null,
   "id": "180b7036-5079-494a-ad46-3cf0ec0a03e6",
   "metadata": {},
   "outputs": [],
   "source": [
    "class Swimmer:\n",
    "    def swim(self):\n",
    "        return \"Swimming\"\n",
    "\n",
    "class Flyer:\n",
    "    def fly(self):\n",
    "        return \"Flying\"\n",
    "\n",
    "class Duck(Swimmer, Flyer):\n",
    "    pass\n"
   ]
  },
  {
   "cell_type": "raw",
   "id": "55703781-ef26-4ec0-ad73-6f9f4a837e06",
   "metadata": {},
   "source": [
    "Multilevel Inheritance:\n",
    "\n",
    "Subclass is derived from another subclass.\n"
   ]
  },
  {
   "cell_type": "code",
   "execution_count": null,
   "id": "27fbdaf2-0e35-4cf4-8bab-2aa8f303b00f",
   "metadata": {},
   "outputs": [],
   "source": [
    "class Animal:\n",
    "    def speak(self):\n",
    "        pass\n",
    "\n",
    "class Mammal(Animal):\n",
    "    pass\n",
    "\n",
    "class Dog(Mammal):\n",
    "    def speak(self):\n",
    "        return \"Woof!\"\n"
   ]
  },
  {
   "cell_type": "raw",
   "id": "51d5df46-1914-4cfb-b7d1-07d12b7cceff",
   "metadata": {},
   "source": [
    "Hierarchical Inheritance:\n",
    "    \n",
    "Multiple subclasses inherit from a single superclass.\n"
   ]
  },
  {
   "cell_type": "code",
   "execution_count": null,
   "id": "64f21fbb-6e76-48b4-8649-7820fc0f1c6a",
   "metadata": {},
   "outputs": [],
   "source": [
    "class Animal:\n",
    "    def speak(self):\n",
    "        pass\n",
    "\n",
    "class Dog(Animal):\n",
    "    def speak(self):\n",
    "        return \"Woof!\"\n",
    "\n",
    "class Cat(Animal):\n",
    "    def speak(self):\n",
    "        return \"Meow!\"\n"
   ]
  }
 ],
 "metadata": {
  "kernelspec": {
   "display_name": "Python 3 (ipykernel)",
   "language": "python",
   "name": "python3"
  },
  "language_info": {
   "codemirror_mode": {
    "name": "ipython",
    "version": 3
   },
   "file_extension": ".py",
   "mimetype": "text/x-python",
   "name": "python",
   "nbconvert_exporter": "python",
   "pygments_lexer": "ipython3",
   "version": "3.10.8"
  }
 },
 "nbformat": 4,
 "nbformat_minor": 5
}
