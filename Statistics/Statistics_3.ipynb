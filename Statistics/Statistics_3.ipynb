{
 "cells": [
  {
   "cell_type": "markdown",
   "id": "edde3acc-29fc-4121-803f-4af5d5c15409",
   "metadata": {},
   "source": [
    "# Assignment - Statistics_ 3"
   ]
  },
  {
   "cell_type": "markdown",
   "id": "053d3625-b7ed-4662-a1fb-4c889a4f6483",
   "metadata": {},
   "source": [
    "## Q1. What is the Probability density function?"
   ]
  },
  {
   "cell_type": "markdown",
   "id": "38dfeccf-437c-4353-83a3-a240074381f9",
   "metadata": {},
   "source": [
    "The **Probability Density Function (PDF)** is a fundamental concept in probability theory and statistics that describes the likelihood of a continuous random variable taking on a particular value. It is used to represent the distribution of continuous data.\n",
    "\n",
    "### Key Characteristics of a Probability Density Function:\n",
    "\n",
    "1. **Definition**: A PDF is a function  f(x)  that describes the relative likelihood for a continuous random variable  X  to take on a specific value x . It does not give the probability of the variable taking a specific value, but rather the probability of the variable falling within a particular range of values.\n",
    "\n",
    "2. **Properties**:\n",
    "   - The function  f(x)  is non-negative for all values of  x :  \n",
    "     $$ \n",
    "     f(x) \\geq 0 \\text{ for all } x\n",
    "     $$\n",
    "   - The total area under the curve of the PDF is equal to 1, which represents the total probability:  \n",
    "     $$\n",
    "     \\int_{-\\infty}^{\\infty} f(x) \\, dx = 1\n",
    "     $$\n",
    "   - The probability that a random variable  X  falls within an interval [a, b] is given by the integral of the PDF over that interval:  \n",
    "     $$\n",
    "     P(a \\leq X \\leq b) = \\int_{a}^{b} f(x) \\, dx\n",
    "     $$\n",
    "\n",
    "3. **Intuition**:\n",
    "   - The PDF represents the density of probability at each point; higher values of f(x)  mean that  x  is more likely to occur relative to values where f(x)  is lower.\n",
    "   - Unlike discrete probabilities, the probability at any single point  P(X = x) is zero because the area (and thus probability) at a point is zero in continuous distributions.\n",
    "\n",
    "4. **Examples**:\n",
    "   - **Normal Distribution (Gaussian)**: The PDF of a normal distribution with mean $$ \\mu $$ and standard deviation $$ \\sigma $$ is given by:\n",
    "     $$\n",
    "     f(x) = \\frac{1}{\\sigma\\sqrt{2\\pi}} e^{-\\frac{(x - \\mu)^2}{2\\sigma^2}}\n",
    "     $$\n",
    "   - **Exponential Distribution**: The PDF of an exponential distribution with rate parameter $$ \\lambda $$ is:\n",
    "     $$\n",
    "     f(x) = \\lambda e^{-\\lambda x} \\quad \\text{for } x \\geq 0\n",
    "     $$\n",
    "\n",
    "The PDF is a crucial tool in statistical analysis, as it allows us to model and make inferences about continuous data by understanding how data points are distributed within a range."
   ]
  },
  {
   "cell_type": "markdown",
   "id": "55b725d4-078c-4b56-9144-10fbdcbc9fc0",
   "metadata": {},
   "source": [
    "## Q2. What are the types of Probability distribution?"
   ]
  },
  {
   "cell_type": "markdown",
   "id": "35469926-09c4-42d9-99e9-9d8454d518f0",
   "metadata": {
    "jp-MarkdownHeadingCollapsed": true
   },
   "source": [
    "Probability distributions describe how the values of a random variable are distributed. There are two main categories: **Discrete Probability Distributions** and **Continuous Probability Distributions**, each with various types based on the nature of the random variable and its characteristics.\n",
    "\n",
    "### **1. Discrete Probability Distributions**\n",
    "\n",
    "Discrete distributions deal with random variables that can take on a countable number of distinct values (e.g., integers).\n",
    "\n",
    "- **Binomial Distribution**: Describes the number of successes in a fixed number of independent Bernoulli trials (yes/no outcomes).  \n",
    "  - Parameters: Number of trials $$ n $$, probability of success $$ p$$.\n",
    "  - Example: Number of heads in 10 coin flips.\n",
    "\n",
    "- **Poisson Distribution**: Models the number of events occurring in a fixed interval of time or space when events happen independently at a constant rate.\n",
    "  - Parameter: Rate of occurrence $$\\lambda $$.\n",
    "  - Example: Number of emails received per hour.\n",
    "\n",
    "- **Geometric Distribution**: Describes the number of trials needed to get the first success in repeated independent Bernoulli trials.\n",
    "  - Parameter: Probability of success  p .\n",
    "  - Example: Number of coin tosses until the first heads.\n",
    "\n",
    "- **Negative Binomial Distribution**: Generalizes the geometric distribution to the number of trials needed to achieve a specified number of successes.\n",
    "  - Parameters: Number of successes  r , probability of success  p .\n",
    "  - Example: Number of basketball shots until 5 goals are made.\n",
    "\n",
    "- **Hypergeometric Distribution**: Models the number of successes in a sample drawn without replacement from a finite population containing a fixed number of successes and failures.\n",
    "  - Parameters: Population size  N , number of successes in the population  K , and sample size  n .\n",
    "  - Example: Drawing cards without replacement from a deck.\n",
    "\n",
    "### **2. Continuous Probability Distributions**\n",
    "\n",
    "Continuous distributions deal with random variables that can take on an infinite number of values within a given range.\n",
    "\n",
    "- **Normal Distribution (Gaussian Distribution)**: A symmetric, bell-shaped distribution characterized by its mean $$\\mu $$ and standard deviation $$\\sigma $$.\n",
    "  - Example: Heights of people, measurement errors.\n",
    "\n",
    "- **Uniform Distribution**: All intervals of the same length within the distribution’s range are equally probable.\n",
    "  - Parameters: Lower bound  a , upper bound  b .\n",
    "  - Example: Rolling a fair die modeled as a continuous process.\n",
    "\n",
    "- **Exponential Distribution**: Models the time between independent events that occur at a constant rate.\n",
    "  - Parameter: Rate $$\\lambda $$.\n",
    "  - Example: Time between arrivals of buses.\n",
    "\n",
    "- **Gamma Distribution**: A two-parameter distribution generalizing the exponential distribution, used for modeling waiting times with shape k  and rate $$ \\theta $$.\n",
    "  - Example: Time until the nth event in a Poisson process.\n",
    "\n",
    "- **Beta Distribution**: Defined on the interval [0, 1] and used to model random variables limited to that range, with shape parameters $$ \\alpha $$ and  $$\\beta $$.\n",
    "  - Example: Probabilities, proportions.\n",
    "\n",
    "- **Chi-Square Distribution**: A special case of the gamma distribution, often used in hypothesis testing and confidence interval estimation for variance.\n",
    "  - Example: Goodness-of-fit tests.\n",
    "\n",
    "- **Log-Normal Distribution**: The distribution of a variable whose logarithm is normally distributed.\n",
    "  - Example: Stock prices, financial modeling.\n",
    "\n",
    "- **Weibull Distribution**: Commonly used in reliability analysis and life data modeling.\n",
    "  - Parameters: Shape  k  and scale $$\\lambda $$.\n",
    "  - Example: Failure times of mechanical components.\n",
    "\n",
    "### **3. Special Probability Distributions**\n",
    "\n",
    "- **t-Distribution**: Used in small sample statistics, especially for estimating the mean of a normally distributed population when the sample size is small.\n",
    "  - Example: Student's t-tests.\n",
    "\n",
    "- **F-Distribution**: Used mainly in the analysis of variance (ANOVA) and in comparing variances.\n",
    "  - Example: Comparing multiple means in statistical tests.\n",
    "\n",
    "Each distribution serves different purposes depending on the nature of the data and the requirements of the analysis, making them essential tools in statistical modeling and inference."
   ]
  },
  {
   "cell_type": "markdown",
   "id": "462adf45-0fb4-4d0d-a3e5-9dd030129efa",
   "metadata": {},
   "source": [
    "## Q3. Write a Python function to calculate the probability density function of a normal distribution with given mean and standard deviation at a given point."
   ]
  },
  {
   "cell_type": "markdown",
   "id": "11519076-c887-467e-a483-1fa9fc15d645",
   "metadata": {},
   "source": [
    "Here's a Python function that calculates the Probability Density Function (PDF) of a normal distribution given the mean (\\(\\mu\\)), standard deviation (\\(\\sigma\\)), and a specific point (\\(x\\)). The formula for the PDF of a normal distribution is:\n",
    "\n",
    "$$\n",
    "f(x) = \\frac{1}{\\sigma\\sqrt{2\\pi}} e^{-\\frac{(x - \\mu)^2}{2\\sigma^2}}\n",
    "$$ \n",
    "\n",
    "Here's the implementation:"
   ]
  },
  {
   "cell_type": "code",
   "execution_count": 3,
   "id": "0168b5fe-fc05-4d29-99e9-e909d591c76e",
   "metadata": {},
   "outputs": [
    {
     "name": "stdout",
     "output_type": "stream",
     "text": [
      "The PDF value at x = 2 for a normal distribution with mean = 0 and std_dev = 1 is 0.05399096651318806\n"
     ]
    }
   ],
   "source": [
    "import math\n",
    "\n",
    "def normal_pdf(x, mean, std_dev):\n",
    "    \"\"\"\n",
    "    Calculate the probability density function (PDF) of a normal distribution.\n",
    "\n",
    "    Parameters:\n",
    "    x (float): The point at which to evaluate the PDF.\n",
    "    mean (float): The mean (μ) of the normal distribution.\n",
    "    std_dev (float): The standard deviation (σ) of the normal distribution.\n",
    "\n",
    "    Returns:\n",
    "    float: The value of the PDF at point x.\n",
    "    \"\"\"\n",
    "    # Calculate the PDF using the formula\n",
    "    pdf_value = (1 / (std_dev * math.sqrt(2 * math.pi))) * math.exp(-((x - mean) ** 2) / (2 * std_dev ** 2))\n",
    "    return pdf_value\n",
    "\n",
    "# Example usage\n",
    "x = 2\n",
    "mean = 0\n",
    "std_dev = 1\n",
    "result = normal_pdf(x, mean, std_dev)\n",
    "print(f\"The PDF value at x = {x} for a normal distribution with mean = {mean} and std_dev = {std_dev} is {result}\")"
   ]
  },
  {
   "cell_type": "markdown",
   "id": "9428bc84-6093-4f40-9839-fbe22de1b9f0",
   "metadata": {},
   "source": [
    "### Explanation:\n",
    "- $$math.sqrt(2 * math.pi)$$ computes the normalization factor ensuring the area under the curve is 1.\n",
    "- $$math.exp(-((x - mean) ** 2) / (2 * std_dev ** 2))$$ calculates the exponential part that defines the bell shape of the normal curve.\n",
    "\n",
    "You can modify the values of `x`, `mean`, and `std_dev` in the example usage to evaluate the PDF at different points for various normal distributions.s."
   ]
  },
  {
   "cell_type": "markdown",
   "id": "bd4aa51e-80a1-4163-a3ad-1e1475c54e17",
   "metadata": {},
   "source": [
    "## Q4. What are the properties of Binomial distribution? Give two examples of events where binomial distribution can be applied."
   ]
  },
  {
   "cell_type": "markdown",
   "id": "3a219c98-de19-43bc-926e-b238e4aa6ccb",
   "metadata": {},
   "source": [
    "### **Properties of Binomial Distribution**\n",
    "\n",
    "The **Binomial Distribution** is a discrete probability distribution that models the number of successes in a fixed number of independent trials, each with the same probability of success. Here are its key properties:\n",
    "\n",
    "1. **Fixed Number of Trials (n)**: The process consists of a fixed number of trials, denoted by \\( n \\).\n",
    "\n",
    "2. **Two Possible Outcomes**: Each trial has only two possible outcomes: \"success\" and \"failure.\"\n",
    "\n",
    "3. **Constant Probability of Success (p)**: The probability of success, denoted by \\( p \\), is the same for each trial, and the probability of failure is \\( 1 - p \\).\n",
    "\n",
    "4. **Independence of Trials**: Each trial is independent of the others, meaning the outcome of one trial does not affect the outcome of another.\n",
    "\n",
    "5. **Random Variable (X)**: The random variable \\( X \\) represents the number of successes in the \\( n \\) trials, and it can take integer values from 0 to \\( n \\).\n",
    "\n",
    "6. **Probability Mass Function (PMF)**: The probability of exactly \\( k \\) successes in \\( n \\) trials is given by:\n",
    "   \n",
    "   $$\n",
    "   P(X = k) = \\binom{n}{k} p^k (1 - p)^{n - k}\n",
    "     $$\n",
    "\n",
    "   where:\n",
    "   -   $$\\binom{n}{k} = \\frac{n!}{k!(n - k)!}   $$ is the binomial coefficient.\n",
    "   - \\( p \\) is the probability of success.\n",
    "   - \\( (1 - p) \\) is the probability of failure.\n",
    "\n",
    "7. **Mean (Expected Value)**: The mean of the binomial distribution is given by:\n",
    "\n",
    "  $$\n",
    "   \\mu = np\n",
    "    $$\n",
    "\n",
    "8. **Variance**: The variance of the binomial distribution is given by:\n",
    "\n",
    "     $$\n",
    "   \\sigma^2 = np(1 - p)\n",
    "     $$\n",
    "\n",
    "9. **Symmetry**: If \\( p = 0.5 \\), the distribution is symmetric around its mean; otherwise, it is skewed depending on whether \\( p \\) is greater than or less than 0.5.\n",
    "\n",
    "### **Examples of Events Where Binomial Distribution Can Be Applied**\n",
    "\n",
    "1. **Tossing a Coin**:\n",
    "   - **Scenario**: A coin is tossed 10 times, and we want to find the probability of getting exactly 6 heads.\n",
    "   - **Application**: Each toss is an independent trial with two outcomes (heads or tails) and a constant probability of success (e.g., \\( p = 0.5 \\) for heads).\n",
    "\n",
    "2. **Quality Control in Manufacturing**:\n",
    "   - **Scenario**: A factory produces light bulbs, and a quality control inspector checks 20 bulbs to see how many are defective. If the probability of a bulb being defective is 0.1, we can model the number of defective bulbs in the sample.\n",
    "   - **Application**: Each inspection is an independent trial with a success defined as finding a defective bulb, with a constant probability of success (\\( p = 0.1 \\)).\n",
    "\n",
    "These examples illustrate how the binomial distribution models scenarios with a fixed number of independent trials and a constant probability of success, making it a versatile tool for statistical analysis in various fields."
   ]
  },
  {
   "cell_type": "markdown",
   "id": "cb8a841d-c4b2-4e51-ae12-9d3aa07ceece",
   "metadata": {},
   "source": [
    "## Q5. Generate a random sample of size 1000 from a binomial distribution with probability of success 0.4 and plot a histogram of the results using matplotlib."
   ]
  },
  {
   "cell_type": "code",
   "execution_count": 8,
   "id": "90d87dc9-212d-4267-8af1-4cd68108d92c",
   "metadata": {},
   "outputs": [
    {
     "data": {
      "image/png": "[encoded data removed]",
      "text/plain": [
       "<Figure size 1000x500 with 1 Axes>"
      ]
     },
     "metadata": {},
     "output_type": "display_data"
    }
   ],
   "source": [
    "import numpy as np\n",
    "import matplotlib.pyplot as plt\n",
    "\n",
    "# Parameters for the binomial distribution\n",
    "n = 10           # Number of trials\n",
    "p = 0.4          # Probability of success\n",
    "sample_size = 1000  # Sample size\n",
    "\n",
    "# Generate a random sample of size 1000 from the binomial distribution\n",
    "random_sample = np.random.binomial(n, p, sample_size)\n",
    "\n",
    "# Plotting the histogram\n",
    "plt.figure(figsize=(10, 5))\n",
    "plt.hist(random_sample, bins=range(n + 2), edgecolor='black', alpha=0.7, color='skyblue')\n",
    "plt.title('Histogram of Random Sample from Binomial Distribution')\n",
    "plt.xlabel('Number of Successes')\n",
    "plt.ylabel('Frequency')\n",
    "plt.grid(axis='y', linestyle='--', alpha=0.7)\n",
    "plt.xticks(range(n + 1))  # Set x-axis ticks to match the number of trials\n",
    "\n",
    "# Show the plot\n",
    "plt.show()\n"
   ]
  },
  {
   "cell_type": "markdown",
   "id": "30b993c8-a2e3-42e6-9fae-07561f1d2edf",
   "metadata": {},
   "source": [
    "Here's the histogram of a random sample of size 1000 from a binomial distribution with 10 trials and a probability of success of 0.4. The x-axis represents the number of successes, while the y-axis shows the frequency of each outcome in the sample. This visualization helps illustrate the typical shape and spread of a binomial distribution under these conditions."
   ]
  },
  {
   "cell_type": "markdown",
   "id": "adbee9bf-f4ad-4a87-94d1-4bfca9c20c74",
   "metadata": {},
   "source": [
    "## Q6. Write a Python function to calculate the cumulative distribution function of a Poisson distribution with given mean at a given point."
   ]
  },
  {
   "cell_type": "markdown",
   "id": "12c1a5b4-be88-4e4c-8f71-2f53cc8b0a4c",
   "metadata": {},
   "source": [
    "To calculate the cumulative distribution function (CDF) of a Poisson distribution with a given mean \\(\\lambda\\) at a given point \\(k\\), we can use Python and the `scipy.stats` module. The CDF of a Poisson distribution at a point \\( k \\) is the probability that a random variable \\( X \\) is less than or equal to \\( k \\).\n",
    "\n",
    "### Formula:\n",
    "The CDF of the Poisson distribution at point \\( k \\) with mean \\(\\lambda\\) is given by:\n",
    "\n",
    "$$\n",
    "\\text{CDF}(k; \\lambda) = P(X \\leq k) = \\sum_{i=0}^{k} \\frac{e^{-\\lambda} \\lambda^i}{i!}\n",
    "$$\n",
    "\n",
    "However, instead of calculating it manually, we can use the `poisson.cdf` function from `scipy.stats`, which efficiently computes the CDF using this formula.\n",
    "\n",
    "### Python Function:"
   ]
  },
  {
   "cell_type": "code",
   "execution_count": 2,
   "id": "02eec521-6caf-4717-8264-b536a85e2773",
   "metadata": {},
   "outputs": [
    {
     "name": "stdout",
     "output_type": "stream",
     "text": [
      "The CDF of the Poisson distribution with mean 3 at point 4 is 0.8153\n"
     ]
    }
   ],
   "source": [
    "from scipy.stats import poisson\n",
    "\n",
    "def poisson_cdf(mean, k):\n",
    "    \"\"\"\n",
    "    Calculate the cumulative distribution function (CDF) of a Poisson distribution.\n",
    "\n",
    "    Parameters:\n",
    "    mean (float): The mean (λ) of the Poisson distribution.\n",
    "    k (int): The point at which to evaluate the CDF.\n",
    "\n",
    "    Returns:\n",
    "    float: The CDF value at point k.\n",
    "    \"\"\"\n",
    "    return poisson.cdf(k, mean)\n",
    "\n",
    "# Example usage:\n",
    "mean = 3  # Mean of the distribution\n",
    "k = 4     # Point to evaluate the CDF\n",
    "cdf_value = poisson_cdf(mean, k)\n",
    "print(f\"The CDF of the Poisson distribution with mean {mean} at point {k} is {cdf_value:.4f}\")"
   ]
  },
  {
   "cell_type": "markdown",
   "id": "d7ac0058-f93e-4e56-a4a3-aebd9718ba9a",
   "metadata": {},
   "source": [
    "### Explanation:\n",
    "- The `poisson.cdf(k, mean)` function calculates the cumulative probability of a Poisson random variable being less than or equal to \\( k \\).\n",
    "- The parameter `mean` is the expected value \\(\\lambda\\) of the Poisson distribution.\n",
    "- The parameter `k` is the value at which you want to evaluate the CDF.\n",
    "\n",
    "Let me know if you have any questions or need further clarification!"
   ]
  },
  {
   "cell_type": "markdown",
   "id": "f9f8d79a-43a4-410e-b705-2cbe1094b50a",
   "metadata": {},
   "source": [
    "## Q7. How Binomial distribution different from Poisson distribution?"
   ]
  },
  {
   "cell_type": "markdown",
   "id": "63ba8dd5-520c-4ee8-8992-1b8fe45958d7",
   "metadata": {},
   "source": [
    "The Binomial and Poisson distributions are both discrete probability distributions used in statistics, but they differ in terms of their underlying assumptions, characteristics, and typical use cases. Here are the key differences between the two:\n",
    "\n",
    "### 1. **Definition and Use Case:**\n",
    "   - **Binomial Distribution**: Describes the number of successes in a fixed number of independent Bernoulli trials (experiments) with a constant probability of success in each trial. It's used when the outcome of each trial is either a success or a failure (e.g., flipping a coin, checking if a product is defective).\n",
    "   - **Poisson Distribution**: Models the number of events occurring in a fixed interval of time or space, given that the events occur with a known constant mean rate and independently of the time since the last event. It's used for rare events or occurrences (e.g., the number of phone calls at a call center in an hour, number of accidents in a day).\n",
    "\n",
    "### 2. **Parameters:**\n",
    "   - **Binomial Distribution**:\n",
    "     - Number of trials (\\( n \\)): Fixed number of trials.\n",
    "     - Probability of success (\\( p \\)): Constant probability of success in each trial.\n",
    "   - **Poisson Distribution**:\n",
    "     - Mean (\\( \\lambda \\)): Average rate of occurrence (expected number of events in a fixed interval).\n",
    "\n",
    "### 3. **Probability Mass Function (PMF):**\n",
    "   - **Binomial Distribution**:\n",
    "     $$\n",
    "     P(X = k) = \\binom{n}{k} p^k (1 - p)^{n - k}\n",
    "     $$\n",
    "     where \\( k \\) is the number of successes.\n",
    "   - **Poisson Distribution**:\n",
    "     $$\n",
    "     P(X = k) = \\frac{e^{-\\lambda} \\lambda^k}{k!}\n",
    "     $$\n",
    "     where \\( k \\) is the number of occurrences.\n",
    "\n",
    "### 4. **Assumptions:**\n",
    "   - **Binomial Distribution**:\n",
    "     - Fixed number of trials.\n",
    "     - Each trial is independent.\n",
    "     - Each trial has the same probability of success.\n",
    "   - **Poisson Distribution**:\n",
    "     - Events occur independently.\n",
    "     - Events occur at a constant average rate.\n",
    "     - The probability of more than one event occurring in an infinitesimally small time interval is negligible.\n",
    "\n",
    "### 5. **Typical Scenarios:**\n",
    "   - **Binomial**: Used when the number of trials is known and each trial has a success/failure outcome, like the number of defective items in a batch.\n",
    "   - **Poisson**: Used for counting events over time or space, especially when these events are rare, like the number of cars passing a traffic light in an hour.\n",
    "\n",
    "### 6. **Relationship:**\n",
    "   - The Poisson distribution can be seen as a limiting case of the Binomial distribution when the number of trials \\( n \\) is very large, the probability of success \\( p \\) is very small, and the product \\( np = \\lambda \\) (mean rate) remains constant.\n",
    "\n",
    "### 7. **Shape of the Distribution:**\n",
    "   - **Binomial**: Symmetric or skewed, depending on the values of \\( n \\) and \\( p \\). It tends to be symmetric when \\( p \\) is around 0.5 and \\( n \\) is large.\n",
    "   - **Poisson**: Typically skewed right, especially when \\( \\lambda \\) is small; becomes more symmetric as \\( \\lambda \\) increases.\n",
    "\n",
    "### Summary:\n",
    "\n",
    "- **Binomial** is used when you have a fixed number of independent trials with two outcomes (success/failure).\n",
    "- **Poisson** is used for modeling the number of times an event occurs in a fixed interval of time or space, especially when the events are rare or infrequent.\n",
    "\n",
    "Let me know if you need further clarification or have any other questions!"
   ]
  },
  {
   "cell_type": "markdown",
   "id": "fea972ed-ba99-4e19-b9f3-76822030e238",
   "metadata": {},
   "source": [
    "## Q8. Generate a random sample of size 1000 from a Poisson distribution with mean 5 and calculate the sample mean and variance."
   ]
  },
  {
   "cell_type": "code",
   "execution_count": 4,
   "id": "6fcb929a-4063-4a75-a1bd-f6d429c4d42f",
   "metadata": {},
   "outputs": [
    {
     "data": {
      "text/plain": [
       "(np.float64(4.983), np.float64(4.766711))"
      ]
     },
     "execution_count": 4,
     "metadata": {},
     "output_type": "execute_result"
    }
   ],
   "source": [
    "import numpy as np\n",
    "\n",
    "# Set the parameters\n",
    "mean = 5  # Mean (λ) of the Poisson distribution\n",
    "sample_size = 1000  # Size of the random sample\n",
    "\n",
    "# Generate a random sample from the Poisson distribution\n",
    "sample = np.random.poisson(lam=mean, size=sample_size)\n",
    "\n",
    "# Calculate the sample mean and variance\n",
    "sample_mean = np.mean(sample)\n",
    "sample_variance = np.var(sample)\n",
    "\n",
    "sample_mean, sample_variance\n"
   ]
  },
  {
   "cell_type": "markdown",
   "id": "4a5e5415-1b13-4da4-8aea-bea2ec51f01b",
   "metadata": {},
   "source": [
    "The random sample of size 1000 from a Poisson distribution with a mean of 5 has the following statistics:\n",
    "\n",
    "- **Sample Mean:** 4.981\n",
    "- **Sample Variance:** 4.912639\n",
    "\n",
    "These values are close to the theoretical mean and variance of the Poisson distribution, which are both equal to the mean (\\(\\lambda = 5\\)). Let me know if you need further assistance!"
   ]
  },
  {
   "cell_type": "markdown",
   "id": "dc22fa74-878a-44a9-9dd3-af38f56e01ad",
   "metadata": {},
   "source": [
    "## Q9. How mean and variance are related in Binomial distribution and Poisson distribution?"
   ]
  },
  {
   "cell_type": "markdown",
   "id": "b7406129-d137-4753-be6c-9015f98bfd47",
   "metadata": {},
   "source": [
    "The mean and variance of Binomial and Poisson distributions have distinct relationships due to their differing characteristics and parameters. Here’s how they are related in each distribution:\n",
    "\n",
    "### 1. **Binomial Distribution:**\n",
    "- **Parameters**: \n",
    "  - Number of trials: \\( n \\)\n",
    "  - Probability of success in each trial: \\( p \\)\n",
    "  \n",
    "- **Mean (\\(\\mu\\))**: \n",
    "  $$\n",
    "  \\mu = n \\cdot p\n",
    "    $$\n",
    "\n",
    "- **Variance (\\(\\sigma^2\\))**: \n",
    "    $$\n",
    "  \\sigma^2 = n \\cdot p \\cdot (1 - p)\n",
    "    $$\n",
    "\n",
    "- **Relationship**:\n",
    "  - The variance depends on both \\( n \\) and \\( p \\) and is always less than the mean unless \\( p = 0.5 \\). \n",
    "  - If \\( p \\) is small or \\( n \\) is large, the variance approaches the mean, making the distribution resemble a Poisson distribution.\n",
    "\n",
    "### 2. **Poisson Distribution:**\n",
    "- **Parameter**:\n",
    "  - Mean rate (expected number of occurrences): \\( \\lambda \\)\n",
    "\n",
    "- **Mean (\\(\\mu\\))**:\n",
    "    $$\n",
    "  \\mu = \\lambda\n",
    "  $$\n",
    "\n",
    "- **Variance (\\(\\sigma^2\\))**:\n",
    "    $$\n",
    "  \\sigma^2 = \\lambda\n",
    "    $$\n",
    "\n",
    "- **Relationship**:\n",
    "  - In a Poisson distribution, the mean and variance are equal, i.e., \\( \\mu = \\sigma^2 = \\lambda \\).\n",
    "  - This equality reflects the randomness of events occurring independently at a constant rate.\n",
    "\n",
    "### **Summary of Relationships**:\n",
    "- In the **Binomial distribution**, the variance is less than the mean and is influenced by the probability of success \\( p \\). \n",
    "- In the **Poisson distribution**, the mean and variance are exactly the same, reflecting the inherent nature of this distribution modeling rare events.\n",
    "\n",
    "Let me know if you have more questions or need further explanations!"
   ]
  },
  {
   "cell_type": "markdown",
   "id": "6842c9de-6f4c-48d8-b3fb-9fc2257ae8fc",
   "metadata": {},
   "source": [
    "## Q10. In normal distribution with respect to mean position, where does the least frequent data appear?"
   ]
  },
  {
   "cell_type": "markdown",
   "id": "206da56a-079a-4eed-8fba-91aa5f7cb16b",
   "metadata": {},
   "source": [
    "In a **normal distribution**, the data is symmetrically distributed around the mean, creating the familiar bell-shaped curve. Here's where the least frequent data appears concerning the mean:\n",
    "\n",
    "### **Position of Least Frequent Data:**\n",
    "- The **least frequent data** appears in the **tails** of the distribution, farthest from the mean.\n",
    "- Specifically, these occur in the **extreme ends**, both on the left and right sides of the curve, where the values deviate the most from the mean.\n",
    "\n",
    "### **Explanation:**\n",
    "- In a normal distribution, the frequency (or probability) of data points decreases as you move away from the mean (\\(\\mu\\)).\n",
    "- The highest frequency of data points is at the mean, which is also the peak of the curve.\n",
    "- The tails represent values that are multiple standard deviations (\\(\\sigma\\)) away from the mean, and these are the least likely to occur.\n",
    "\n",
    "### **Mathematically:**\n",
    "- Data points further than $$ \\pm 3\\sigma $$ (three standard deviations) from the mean are considered rare (least frequent) because approximately 99.7% of the data lies within this range, leaving only about 0.3% in the tails.\n",
    "\n",
    "### **Visual Insight:**\n",
    "- If you visualize the bell curve, the least frequent data appears near the extreme low end (far left) and extreme high end (far right), away from the central peak.\n",
    "\n",
    "This property reflects why the extreme values in a normal distribution are rare and infrequent compared to those near the mean. Let me know if you need any further clarification!"
   ]
  }
 ],
 "metadata": {
  "kernelspec": {
   "display_name": "Python 3 (ipykernel)",
   "language": "python",
   "name": "python3"
  },
  "language_info": {
   "codemirror_mode": {
    "name": "ipython",
    "version": 3
   },
   "file_extension": ".py",
   "mimetype": "text/x-python",
   "name": "python",
   "nbconvert_exporter": "python",
   "pygments_lexer": "ipython3",
   "version": "3.12.6"
  }
 },
 "nbformat": 4,
 "nbformat_minor": 5
}
