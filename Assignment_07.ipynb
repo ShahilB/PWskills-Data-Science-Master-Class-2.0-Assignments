{
 "cells": [
  {
   "cell_type": "markdown",
   "id": "cdf4c18a-9f54-474a-a040-d7948ba90ab0",
   "metadata": {},
   "source": [
    "# Assignment 07 (OOPS Programming)\n"
   ]
  },
  {
   "cell_type": "markdown",
   "id": "bf3dd0c2-c6df-4c37-9749-a6f461452d43",
   "metadata": {},
   "source": [
    "Q1. What is Abstraction in OOps? Explain with an example.\n"
   ]
  },
  {
   "cell_type": "markdown",
   "id": "c66a0f96-2c56-40f9-b37b-6ba5cc91e9b9",
   "metadata": {},
   "source": [
    "Abstraction in object-oriented programming simplifies complex real-world entities by focusing on essential characteristics and behaviors while hiding unnecessary details. It involves using classes and objects to separate interface from implementation.\n"
   ]
  },
  {
   "cell_type": "code",
   "execution_count": 1,
   "id": "555b38d2-1a17-4926-8597-aa8d562cf268",
   "metadata": {},
   "outputs": [
    {
     "name": "stdout",
     "output_type": "stream",
     "text": [
      "Circle 1 - Area: 78.5\n",
      "Rectangle 1 - Area: 24\n"
     ]
    }
   ],
   "source": [
    "from abc import ABC, abstractmethod\n",
    "\n",
    "class Shape(ABC):\n",
    "    def __init__(self, name):\n",
    "        self.name = name\n",
    "\n",
    "    @abstractmethod\n",
    "    def calculate_area(self):\n",
    "        pass\n",
    "\n",
    "class Circle(Shape):\n",
    "    def __init__(self, name, radius):\n",
    "        super().__init__(name)\n",
    "        self.radius = radius\n",
    "\n",
    "    def calculate_area(self):\n",
    "        return 3.14 * self.radius * self.radius\n",
    "\n",
    "class Rectangle(Shape):\n",
    "    def __init__(self, name, width, height):\n",
    "        super().__init__(name)\n",
    "        self.width = width\n",
    "        self.height = height\n",
    "\n",
    "    def calculate_area(self):\n",
    "        return self.width * self.height\n",
    "\n",
    "circle = Circle(\"Circle 1\", 5)\n",
    "rectangle = Rectangle(\"Rectangle 1\", 4, 6)\n",
    "\n",
    "shapes = [circle, rectangle]\n",
    "\n",
    "for shape in shapes:\n",
    "    print(f\"{shape.name} - Area: {shape.calculate_area()}\")\n"
   ]
  },
  {
   "cell_type": "markdown",
   "id": "a359bf5d-e60f-45c9-846f-32fab76746ac",
   "metadata": {},
   "source": [
    "Q2. Differentiate between Abstraction and Encapsulation. Explain with an example.\n"
   ]
  },
  {
   "cell_type": "markdown",
   "id": "7f0ed19c-f012-416a-aa12-5dd9ed75aa56",
   "metadata": {},
   "source": [
    "Abstraction:\n",
    "\n",
    "Focus: Shows only necessary features, hides complexities.\n",
    "Achieved through: Abstract classes, interfaces, simplification.\n",
    "\n",
    "Encapsulation:\n",
    "\n",
    "Focus: Bundles data and methods into a class, controls access.\n",
    "Achieved through: Classes and access modifiers (e.g., public, private) and getter/setter \n"
   ]
  },
  {
   "cell_type": "code",
   "execution_count": 2,
   "id": "62c0032f-8baa-40e6-8c8e-9d7bd644491a",
   "metadata": {},
   "outputs": [
    {
     "name": "stdout",
     "output_type": "stream",
     "text": [
      "My car's make: Toyota\n",
      "My car's speed: 0\n"
     ]
    }
   ],
   "source": [
    "class Car:\n",
    "    def __init__(self, make, model):\n",
    "        self.make = make           # Attribute (data)\n",
    "        self.model = model         # Attribute (data)\n",
    "        self.speed = 0             # Attribute (data)\n",
    "\n",
    "    def accelerate(self):\n",
    "        self.speed += 10          # Method (behavior)\n",
    "\n",
    "    def brake(self):\n",
    "        if self.speed >= 10:\n",
    "            self.speed -= 10       # Method (behavior)\n",
    "\n",
    "# Encapsulation: Creating an instance of the Car class\n",
    "my_car = Car(\"Toyota\", \"Camry\")\n",
    "my_car.accelerate()  # Using methods to manipulate the data\n",
    "my_car.brake()\n",
    "\n",
    "# Abstraction: Accessing the essential behavior without knowing internal details\n",
    "print(f\"My car's make: {my_car.make}\")\n",
    "print(f\"My car's speed: {my_car.speed}\")\n"
   ]
  },
  {
   "cell_type": "markdown",
   "id": "b5b71a4b-6e00-42b5-a7de-040210ddf465",
   "metadata": {},
   "source": [
    "Q3. What is abc module in python? Why is it used?\n"
   ]
  },
  {
   "cell_type": "markdown",
   "id": "3af6cfbb-11af-4f9a-bcfe-e94a13bb1e1b",
   "metadata": {},
   "source": [
    "The abc module in Python is used to create abstract base classes (ABCs) and enforce a consistent structure in class hierarchies. It's used to define classes with abstract methods that must be implemented by their subclasses. Here's why it's used:\n",
    "\n",
    "Abstract Base Classes: The abc module helps create abstract base classes using the ABC class as a base. Abstract methods within these classes are declared using the @abstractmethod decorator.\n",
    "\n",
    "Subclass Implementation: Subclasses of abstract base classes are required to provide implementations for all abstract methods, ensuring a contract is followed.\n",
    "\n",
    "Code Organization: Abstract base classes serve as templates, guiding the implementation of subclasses. This improves code structure and design.\n",
    "\n",
    "Error Prevention: Direct instantiation of abstract classes or subclassing without implementing abstract methods results in errors, helping catch incomplete or incorrect implementations.\n",
    "\n",
    "Polymorphism: Abstract base classes facilitate polymorphism, allowing different classes to share a common interface.\n"
   ]
  },
  {
   "cell_type": "code",
   "execution_count": null,
   "id": "2b77aeb1-6149-4fe2-837a-13732f354752",
   "metadata": {},
   "outputs": [],
   "source": [
    "from abc import ABC, abstractmethod\n",
    "\n",
    "class Shape(ABC):\n",
    "    @abstractmethod\n",
    "    def area(self):\n",
    "        pass\n",
    "\n",
    "class Circle(Shape):\n",
    "    def area(self):\n",
    "        return 3.14 * self.radius * self.radius\n",
    "\n",
    "class Rectangle(Shape):\n",
    "    def area(self):\n",
    "        return self.width * self.height\n",
    "\n",
    "circle = Circle()\n",
    "rectangle = Rectangle()\n",
    "\n",
    "print(\"Circle Area:\", circle.area())\n",
    "print(\"Rectangle Area:\", rectangle.area())\n",
    "\n",
    "\n"
   ]
  },
  {
   "cell_type": "markdown",
   "id": "d3fab91d-54d5-44ac-942e-3396f9efd50e",
   "metadata": {},
   "source": [
    "Here, Shape is an abstract base class with an abstract method area(). Circle and Rectangle provide implementations for this method.\n"
   ]
  },
  {
   "cell_type": "markdown",
   "id": "d5860d56-ebd5-4125-9e1e-e0d528e4c4fa",
   "metadata": {},
   "source": [
    "Q4. How can we achieve data abstraction?\n"
   ]
  },
  {
   "cell_type": "markdown",
   "id": "48985bbb-409d-4c36-adf0-d941aaf2f9e2",
   "metadata": {},
   "source": [
    "Data abstraction is achieved through:\n",
    "\n",
    "Classes: Define classes representing entities.\n",
    "Access Modifiers: Control attribute/method visibility.\n",
    "Getter/Setters: Provide controlled access/modification.\n"
   ]
  },
  {
   "cell_type": "code",
   "execution_count": null,
   "id": "b6baa04c-1dae-494a-9a19-c0ed8cb14f94",
   "metadata": {},
   "outputs": [],
   "source": [
    "class Student:\n",
    "    def __init__(self, name, age):\n",
    "        self.__name = name      # Private attribute\n",
    "        self.__age = age        # Private attribute\n",
    "\n",
    "    def get_name(self):\n",
    "        return self.__name\n",
    "\n",
    "    def set_age(self, age):\n",
    "        if age > 0:\n",
    "            self.__age = age\n",
    "\n",
    "student = Student(\"Alice\", 20)\n",
    "print(student.get_name())\n",
    "student.set_age(21)\n"
   ]
  },
  {
   "cell_type": "markdown",
   "id": "06149d74-02b2-4f59-a6e6-9484bd7cf6e0",
   "metadata": {},
   "source": [
    "Q5. Can we create an instance of an abstract class? Explain your answer.\n"
   ]
  },
  {
   "cell_type": "markdown",
   "id": "295ba97d-2c42-4538-bdd9-a4d25c583a25",
   "metadata": {},
   "source": [
    "No, you cannot create an instance of an abstract class. Abstract classes are meant to be subclassed and provide a blueprint for concrete classes. They often contain unimplemented abstract methods, making instances incomplete and unusable.\n"
   ]
  },
  {
   "cell_type": "code",
   "execution_count": null,
   "id": "b028809d-f706-44af-b4de-997af0c9f2a0",
   "metadata": {},
   "outputs": [],
   "source": [
    "from abc import ABC, abstractmethod\n",
    "\n",
    "class Shape(ABC):  # Abstract base class\n",
    "    @abstractmethod\n",
    "    def area(self):\n",
    "        pass\n",
    "\n",
    "class Circle(Shape):\n",
    "    def __init__(self, radius):\n",
    "        self.radius = radius\n",
    "\n",
    "    def area(self):\n",
    "        return 3.14 * self.radius * self.radius\n",
    "\n",
    "# Trying to create an instance of the abstract class\n",
    "# This will raise a TypeError since Shape is abstract\n",
    "shape = Shape()\n",
    "\n",
    "# Creating an instance of a concrete subclass\n",
    "circle = Circle(5)\n",
    "print(\"Circle Area:\", circle.area())\n"
   ]
  },
  {
   "cell_type": "markdown",
   "id": "4a3f725e-f78b-427d-9276-99610646d045",
   "metadata": {},
   "source": [
    "In this example, Shape is an abstract base class with an abstract method area(). You can't create an instance of Shape directly because it's abstract and lacks an implementation for area(). On the other hand, you can create an instance of the concrete subclass Circle, which provides an implementation for the abstract method."
   ]
  }
 ],
 "metadata": {
  "kernelspec": {
   "display_name": "Python 3 (ipykernel)",
   "language": "python",
   "name": "python3"
  },
  "language_info": {
   "codemirror_mode": {
    "name": "ipython",
    "version": 3
   },
   "file_extension": ".py",
   "mimetype": "text/x-python",
   "name": "python",
   "nbconvert_exporter": "python",
   "pygments_lexer": "ipython3",
   "version": "3.10.8"
  }
 },
 "nbformat": 4,
 "nbformat_minor": 5
}
