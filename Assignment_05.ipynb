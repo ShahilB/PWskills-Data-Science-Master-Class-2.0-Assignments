{
 "cells": [
  {
   "cell_type": "markdown",
   "id": "75de8e7a-fffc-4664-b9d3-d8c085c80643",
   "metadata": {},
   "source": [
    "## Assignment 05 OOPS Programming "
   ]
  },
  {
   "cell_type": "markdown",
   "id": "fdf1411a-1bf4-437e-b3e3-acfbb983e732",
   "metadata": {},
   "source": [
    "Q1, Create a vehicle class with an init method having instance variables as name_of_vehicle, max_speed\n",
    "and average_of_vehicle."
   ]
  },
  {
   "cell_type": "code",
   "execution_count": 3,
   "id": "25745da5-e3ea-4c86-9aec-63e5a2e9597c",
   "metadata": {},
   "outputs": [
    {
     "data": {
      "text/plain": [
       "'The car name is 60 of max speed 120 and avg of 60'"
      ]
     },
     "execution_count": 3,
     "metadata": {},
     "output_type": "execute_result"
    }
   ],
   "source": [
    "class vehicle:\n",
    "    \n",
    "    def __init__(self,name_of_vehicle, max_speed, average_of_vehicle):\n",
    "        \n",
    "        self.name_of_vehicle= name_of_vehicle\n",
    "        self.max_speed = max_speed\n",
    "        self.average_of_vehicle= average_of_vehicle\n",
    "        \n",
    "    def details(self):\n",
    "        \n",
    "        return f\"The car name is {self.average_of_vehicle} of max speed {self.max_speed} and avg of {self.average_of_vehicle}\"\n",
    "        \n",
    "        \n",
    "        \n",
    "obj_vehicle= vehicle(\"maruti\",120,60)\n",
    "\n",
    "obj_vehicle.details()"
   ]
  },
  {
   "cell_type": "markdown",
   "id": "69dc65f0-ee08-4c3b-b5d1-2ab0a7221c8a",
   "metadata": {},
   "source": [
    "Q2. Create a child class car from the vehicle class created in Que 1, which will inherit the vehicle class.\n",
    "Create a method named seating_capacity which takes capacity as an argument and returns the name of\n",
    "the vehicle and its seating capacity.\n",
    "\n"
   ]
  },
  {
   "cell_type": "code",
   "execution_count": 1,
   "id": "6f237a34-26d6-44b8-8e0f-06e07e17a7f1",
   "metadata": {},
   "outputs": [
    {
     "data": {
      "text/plain": [
       "' Name of the vehicle : maruti and seating capacity : 4 '"
      ]
     },
     "execution_count": 1,
     "metadata": {},
     "output_type": "execute_result"
    }
   ],
   "source": [
    "class vehicle:\n",
    "    \n",
    "    def __init__(self,name_of_vehicle, max_speed, average_of_vehicle):\n",
    "        \n",
    "        self.name_of_vehicle= name_of_vehicle\n",
    "        self.max_speed = max_speed\n",
    "        self.average_of_vehicle= average_of_vehicle\n",
    "        \n",
    "    def details(self):\n",
    "        \n",
    "        return f\"The car name is {self.average_of_vehicle} of max speed {self.max_speed} and avg of {self.average_of_vehicle}\"\n",
    "    \n",
    "class Car(vehicle):\n",
    "    \n",
    "    def seating_capacity(self,capacity):\n",
    "        return f\" Name of the vehicle : {self.name_of_vehicle} and seating capacity : {capacity} \"\n",
    "    \n",
    "    \n",
    "car1= Car(\"maruti\",120,60)  \n",
    "\n",
    "car1.seating_capacity(4)"
   ]
  },
  {
   "cell_type": "markdown",
   "id": "c4657e03-ed8a-4bc6-b2a5-266226507208",
   "metadata": {},
   "source": [
    "Q3. What is multiple inheritance? Write a python code to demonstrate multiple inheritance.\n"
   ]
  },
  {
   "cell_type": "markdown",
   "id": "a9cb0f4d-9b45-4704-bbc8-02e620918b21",
   "metadata": {},
   "source": [
    "Multiple inheritance is a feature in object-oriented programming (OOP) where a class can inherit attributes and behaviors from more than one parent class. In other words, a class can have multiple base classes from which it derives its properties.\n",
    "\n",
    "In a multiple inheritance scenario, a class can inherit methods, attributes, and other members from multiple parent classes. This allows the derived class to combine and reuse functionality from different sources.\n",
    "\n"
   ]
  },
  {
   "cell_type": "code",
   "execution_count": null,
   "id": "39831332-a712-4e16-abc8-961341515b2d",
   "metadata": {},
   "outputs": [],
   "source": [
    "class Animal:\n",
    "    def breathe(self):\n",
    "        print(\"The animal is breathing.\")\n",
    "\n",
    "\n",
    "class Mammal:\n",
    "    def feed_milk(self):\n",
    "        print(\"The mammal is feeding milk.\")\n",
    "\n",
    "\n",
    "class Dog(Animal, Mammal):\n",
    "    def bark(self):\n",
    "        print(\"The dog is barking.\")\n",
    "\n",
    "\n",
    "# Creating an instance of Dog\n",
    "dog = Dog()\n",
    "\n",
    "# Calling methods from multiple parent classes\n",
    "dog.breathe()\n",
    "dog.feed_milk()\n",
    "dog.bark()\n"
   ]
  },
  {
   "cell_type": "markdown",
   "id": "20b12448-b443-4c81-9c12-bc0de9244a75",
   "metadata": {},
   "source": [
    "Q4. What are getter and setter in python? Create a class and create a getter and a setter method in this\n",
    "class.\n"
   ]
  },
  {
   "cell_type": "markdown",
   "id": "4d25da72-6ab6-4cd0-9fe1-f0c079328bbb",
   "metadata": {},
   "source": [
    "Getter: A method that allows you to  give access to the user to use attribute in a given class.\n",
    "\n",
    "Setter: A method that allows you to set or mutate the value of an attribute in a class.\n",
    "          "
   ]
  },
  {
   "cell_type": "code",
   "execution_count": 12,
   "id": "a6083486-0309-44ac-9822-a3690c554619",
   "metadata": {},
   "outputs": [],
   "source": [
    "class course:\n",
    "    \n",
    "    \n",
    "    def __init__(self,course_name,course_marks):\n",
    "        \n",
    "        self.course_name= course_name\n",
    "        self.__course_marks= course_marks\n",
    "    \n",
    "    @property\n",
    "    def course_marks_access(self):\n",
    "        return self.__course_marks\n",
    "    \n",
    "    @course_marks_access.setter\n",
    "    def course_marks_set(self, marks):\n",
    "        if marks <= 100:\n",
    "            pass\n",
    "        else:\n",
    "                self.__course_marks= marks \n",
    "            \n",
    "            \n",
    "            \n",
    "pw= course(\"English\",50)\n",
    "    \n",
    "    \n",
    "    \n",
    "        "
   ]
  },
  {
   "cell_type": "code",
   "execution_count": 13,
   "id": "57b044f2-bba6-4200-9f47-1c17c0f2d205",
   "metadata": {},
   "outputs": [
    {
     "name": "stdout",
     "output_type": "stream",
     "text": [
      "50\n"
     ]
    }
   ],
   "source": [
    "print(pw.course_marks_access)"
   ]
  },
  {
   "cell_type": "code",
   "execution_count": 18,
   "id": "41deef31-df62-402a-a0bb-a47d841d44a4",
   "metadata": {},
   "outputs": [],
   "source": [
    "pw.course_marks_set= 70"
   ]
  },
  {
   "cell_type": "code",
   "execution_count": 19,
   "id": "cbfb3527-16f1-41f8-b69b-7c5c6a3113c5",
   "metadata": {},
   "outputs": [
    {
     "data": {
      "text/plain": [
       "50"
      ]
     },
     "execution_count": 19,
     "metadata": {},
     "output_type": "execute_result"
    }
   ],
   "source": [
    "pw.course_marks_access"
   ]
  },
  {
   "cell_type": "markdown",
   "id": "8fc7d655-0fb0-4872-87ec-c30b6091c97f",
   "metadata": {},
   "source": [
    "Q5.What is method overriding in python? Write a python code to demonstrate method overriding."
   ]
  },
  {
   "cell_type": "raw",
   "id": "aae89d83-f181-4fcf-a74a-ab33816fb0b1",
   "metadata": {},
   "source": [
    "Overriding refers to the ability of a subclass to provide a specific implementation for a method that is already defined in its superclass. This allows the subclass to customize or extend the behavior of the inherited method without changing its name or signature.\n",
    "    "
   ]
  },
  {
   "cell_type": "code",
   "execution_count": 1,
   "id": "8bea3cfc-fc45-41b6-958c-e41eee3417bf",
   "metadata": {},
   "outputs": [
    {
     "name": "stdout",
     "output_type": "stream",
     "text": [
      "Woof woof!\n",
      "Meow meow!\n"
     ]
    }
   ],
   "source": [
    "class Animal:\n",
    "    def make_sound(self):\n",
    "        return \"Some generic animal sound\"\n",
    "\n",
    "class Dog(Animal):\n",
    "    def make_sound(self):\n",
    "        return \"Woof woof!\"\n",
    "\n",
    "class Cat(Animal):\n",
    "    def make_sound(self):\n",
    "        return \"Meow meow!\"\n",
    "\n",
    "dog = Dog()\n",
    "cat = Cat()\n",
    "\n",
    "print(dog.make_sound())  # Output: \"Woof woof!\"\n",
    "print(cat.make_sound())  # Output: \"Meow meow!\"\n"
   ]
  },
  {
   "cell_type": "code",
   "execution_count": null,
   "id": "a4f47344-6df4-4bc3-bfba-34e521fea797",
   "metadata": {},
   "outputs": [],
   "source": []
  }
 ],
 "metadata": {
  "kernelspec": {
   "display_name": "Python 3 (ipykernel)",
   "language": "python",
   "name": "python3"
  },
  "language_info": {
   "codemirror_mode": {
    "name": "ipython",
    "version": 3
   },
   "file_extension": ".py",
   "mimetype": "text/x-python",
   "name": "python",
   "nbconvert_exporter": "python",
   "pygments_lexer": "ipython3",
   "version": "3.10.8"
  }
 },
 "nbformat": 4,
 "nbformat_minor": 5
}
